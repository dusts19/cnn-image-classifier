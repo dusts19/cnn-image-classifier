{
 "cells": [
  {
   "cell_type": "markdown",
   "metadata": {
    "id": "ga3dg-PjG3vI"
   },
   "source": [
    "Getting, checking, and formatting data:"
   ]
  },
  {
   "cell_type": "code",
   "execution_count": 1,
   "metadata": {
    "id": "lYjaeda2nBGo"
   },
   "outputs": [],
   "source": [
    "import numpy as np\n",
    "%matplotlib inline\n"
   ]
  },
  {
   "cell_type": "code",
   "execution_count": 2,
   "metadata": {
    "colab": {
     "base_uri": "https://localhost:8080/"
    },
    "id": "LGkTbDpernj3",
    "outputId": "f9bdb9e0-d043-4d26-d44b-f36bca80b242"
   },
   "outputs": [
    {
     "name": "stdout",
     "output_type": "stream",
     "text": [
      "\u001b[1;30;43mStreaming output truncated to the last 50 lines.\u001b[0m\n",
      "  inflating: kaggle_data/valid/truck/n03632852_1173.png  \n",
      "  inflating: kaggle_data/valid/truck/n03632852_11766.png  \n",
      "  inflating: kaggle_data/valid/truck/n03632852_11887.png  \n",
      "  inflating: kaggle_data/valid/truck/n03632852_1191.png  \n",
      "  inflating: kaggle_data/valid/truck/n03632852_1192.png  \n",
      "  inflating: kaggle_data/valid/truck/n03632852_1195.png  \n",
      "  inflating: kaggle_data/valid/truck/n03632852_1207.png  \n",
      "  inflating: kaggle_data/valid/truck/n03632852_12128.png  \n",
      "  inflating: kaggle_data/valid/truck/n03632852_1214.png  \n",
      "  inflating: kaggle_data/valid/truck/n03632852_1237.png  \n",
      "  inflating: kaggle_data/valid/truck/n03632852_1248.png  \n",
      "  inflating: kaggle_data/valid/truck/n03632852_1261.png  \n",
      "  inflating: kaggle_data/valid/truck/n03632852_1264.png  \n",
      "  inflating: kaggle_data/valid/truck/n03632852_1292.png  \n",
      "  inflating: kaggle_data/valid/truck/n03632852_1313.png  \n",
      "  inflating: kaggle_data/valid/truck/n03632852_1319.png  \n",
      "  inflating: kaggle_data/valid/truck/n03632852_13311.png  \n",
      "  inflating: kaggle_data/valid/truck/n03632852_1355.png  \n",
      "  inflating: kaggle_data/valid/truck/n03632852_13648.png  \n",
      "  inflating: kaggle_data/valid/truck/n03632852_13730.png  \n",
     ]
    }
   ],
   "source": [
    "# For kaggle/competitions competition_name= \"<name>\"\n",
    "# For kaggle/datasets:\n",
    "dataset_name= \"mengcius/cinic10\"\n",
    "\n",
    "\n",
    "# Mount from Google Drive\n",
    "from google.colab import drive\n",
    "drive.mount(\"/content/drive\")\n",
    "\n",
    "kaggle_creds_path = \"MyDrive/Kaggle/kaggle.json\"\n",
    "\n",
    "! pip install kaggle --quiet\n",
    "\n",
    "! mkdir ~/.kaggle -p\n",
    "! cp /content/drive/MyDrive/Kaggle/kaggle.json ~/.kaggle/\n",
    "! chmod 600 ~/.kaggle/kaggle.json\n",
    "\n",
    "! kaggle datasets download -d {dataset_name}\n",
    "\n",
    "! mkdir kaggle_data -p\n",
    "! unzip -o {dataset_name.split(\"/\")[-1] + \".zip\"} -d kaggle_data\n",
    "\n",
    "# Unmount your Google Drive\n",
    "drive.flush_and_unmount()"
   ]
  },
  {
   "cell_type": "code",
   "execution_count": 3,
   "metadata": {
    "id": "ZJPolVKahRbp"
   },
   "outputs": [],
   "source": [
    "import torch\n",
    "import torchvision\n",
    "import torchvision.transforms as transforms\n",
    "\n",
    "cinic_directory = './kaggle_data/'\n",
    "cinic_mean = [0.47889522, 0.47227842, 0.43047404]\n",
    "cinic_std = [0.24205776, 0.23828046, 0.25874835]\n",
    "data_transforms = transforms.Compose([transforms.ToTensor(), transforms.Normalize(mean=cinic_mean,std=cinic_std)])\n",
    "data_train = torchvision.datasets.ImageFolder(cinic_directory + 'train',\n",
    "                                     transform=data_transforms)\n",
    "data_validation = torchvision.datasets.ImageFolder(cinic_directory + 'valid',\n",
    "                                     transform=data_transforms)\n",
    "data_test = torchvision.datasets.ImageFolder(cinic_directory + 'test',\n",
    "                                     transform=data_transforms)\n",
    "\n",
    "test_loader = torch.utils.data.DataLoader(data_test,\n",
    "                                          batch_size=128,\n",
    "                                          shuffle=True\n",
    "                                          )\n"
   ]
  },
  {
   "cell_type": "code",
   "execution_count": 4,
   "metadata": {
    "colab": {
     "base_uri": "https://localhost:8080/"
    },
    "id": "GOK0qVBq7g-D",
    "outputId": "33c55c5a-a5b8-4594-a0ab-3f6f3bf56d9b"
   },
   "outputs": [
    {
     "name": "stdout",
     "output_type": "stream",
     "text": [
      "90000\n"
     ]
    }
   ],
   "source": [
    "print(len(data_train))"
   ]
  },
  {
   "cell_type": "code",
   "execution_count": 4,
   "metadata": {
    "id": "zKyhBeDbeCPC"
   },
   "outputs": [],
   "source": []
  },
  {
   "cell_type": "code",
   "execution_count": 5,
   "metadata": {
    "colab": {
     "base_uri": "https://localhost:8080/"
    },
    "id": "PTRj2bXSEVag",
    "outputId": "f7477674-87cd-4647-ef50-4f93ba02b7c4"
   },
   "outputs": [
    {
     "name": "stdout",
     "output_type": "stream",
     "text": [
      "Shape of X [N, C, H, W] : torch.Size([128, 3, 32, 32])\n",
      "Shape of y: torch.Size([128]) torch.int64\n"
     ]
    }
   ],
   "source": [
    "for X, y in test_loader:\n",
    "  print(f\"Shape of X [N, C, H, W] : {X.shape}\")\n",
    "  print(f\"Shape of y: {y.shape} {y.dtype}\")\n",
    "  break"
   ]
  },
  {
   "cell_type": "code",
   "execution_count": 6,
   "metadata": {
    "colab": {
     "base_uri": "https://localhost:8080/",
     "height": 688
    },
    "id": "X_Krt4tEbrBV",
    "outputId": "fe5cfc1d-a1e1-45f1-a7cd-4ce3b4a2a3c1"
   },
   "outputs": [
    {
     "data": {
      "image/png": "iVBORw0KGgoAAAANSUhEUgAAAnwAAAJ8CAYAAABk7XxWAAAAOXRFWHRTb2Z0d2FyZQBNYXRwbG90bGliIHZlcnNpb24zLjcuMSwgaHR0cHM6Ly9tYXRwbG90bGliLm9yZy/bCgiHAAAACXBIWXMAAA9hAAAPYQGoP6dpAAAhGElEQVR4nO3dya7kCXrW4S/mM588WZWZ1UNVdbXx0HS7240lgwxiMhJCSAjEzlfAPbCDK+AGuAfWbGBhC4EsBKYnu93uqqzKoSrzzEOcExMLLiBj8Rq3Pj3POvSLExH/4c3/JgebzWZTAAC0Nfzr/gMAAPirZfABADRn8AEANGfwAQA0Z/ABADRn8AEANGfwAQA0Z/ABADRn8AEANDfe9oX/7t/+m9y7blax1HgQS1VV1e3VXaz1o5/9Zax1fPIo1vq1D5/FWlVVV+dfxlrHJyex1nS6E2uNxtn/kGa9yp0D68061wr+XYuHZaxVVVWDSSw1WeT+rTscPcRaq+BvWVVVw9wFcn+y9e3inc5ev4m1nn91GmtVVc3X81jrW598N9Z6WObOzWX4MFuvcuf67Hgv1hrmDtmaDka5WFWt73O9f/8f/uNWr/OEDwCgOYMPAKA5gw8AoDmDDwCgOYMPAKA5gw8AoDmDDwCgOYMPAKA5gw8AoDmDDwCgOYMPAKA5gw8AoDmDDwCgOYMPAKA5gw8AoDmDDwCgOYMPAKA5gw8AoLnx1i8c5bbhqAax1rBWsVZV1WSS+5zrde5vGw5Gsdbx4aNYq6pqPb+MtSabday1M8h9/6vB1qfKVjbD3DmwXixirdUqd5zVYJprVdUm+e/TUe77r+CxMR3ljv+qqt1Z7jtbPMxjrfVoJ9YaDHOtqqr57U2stVo+xFqzySzWGm2Cx39VzW9z16Bab2KpQXBrzKa577+qav6Q3S7b8IQPAKA5gw8AoDmDDwCgOYMPAKA5gw8AoDmDDwCgOYMPAKA5gw8AoDmDDwCgOYMPAKA5gw8AoDmDDwCgOYMPAKA5gw8AoDmDDwCgOYMPAKA5gw8AoDmDDwCgufG2L9zfmcbedL1cxFrj4SDWqqpaLyex1mQ6irVevHgZa/3Gxx/FWlVVX//wk1jrlz//Way1M9768H6n4TD7b6PFQ+4cGGw2udZyHWttVqtYq6pqEDzXJ8PcuTkZ546N0Sj3d1VVXV1dxVqL4HG2HM5ird2Dx7FWVdXl3TzWWj3kWvv7+7HWcJn7LauqVsFr7WCd+9uGm9w1Yxm8ZldVPTwso71teMIHANCcwQcA0JzBBwDQnMEHANCcwQcA0JzBBwDQnMEHANCcwQcA0JzBBwDQnMEHANCcwQcA0JzBBwDQnMEHANCcwQcA0JzBBwDQnMEHANCcwQcA0JzBBwDQnMEHANDceNsXjoaD2JuOxrmduVo8xFpVVUdH+7HWYLCJteZ381jrv/zXP4q1qqr+4T/5B7HW7SJ3nF3PF7HWo1EsVVVV9/OrWGs2mcRaB0eHsdbtPHfMVlVNZrlj43ia+0GnwWvjcjSLtaqqvnjzMtYa7x7HWm8uLmKtwXrr29hWhsOdWOvu9ibWevrsg1hrMFzHWlVVw81urHWzvI+1Rru5a+NwkDvPq6qGw///z9s84QMAaM7gAwBozuADAGjO4AMAaM7gAwBozuADAGjO4AMAaM7gAwBozuADAGjO4AMAaM7gAwBozuADAGjO4AMAaM7gAwBozuADAGjO4AMAaM7gAwBozuADAGhuvO0LB8tl7E0Hg02stQ62qqr2dkex1nsHO7HWi798G2udX9/EWlVVn/35i1hrf38aa705fRNrPdp9FmtVVf3GN57EWkd7k1hrMt2NtcaDdaxVVTU9GMRaq0GudX9zF2v99M9z53lV1fuPcsfti7cXsdYXz1/HWhcXl7FWVdXj9w5jrfGT92Ot2Sz3fGa1yt3Pq6pqluuNlotYa7zM3U+mO7lrRlXVapz7nNvyhA8AoDmDDwCgOYMPAKA5gw8AoDmDDwCgOYMPAKA5gw8AoDmDDwCgOYMPAKA5gw8AoDmDDwCgOYMPAKA5gw8AoDmDDwCgOYMPAKA5gw8AoDmDDwCgOYMPAKC58bYv3NQm9qbrzTrWqmF2s97ePsRaj0+exFqPji9jrdvbl7FWVdV8fhNrPXv2NNZ68+Ys1vrRT/4s1qqqGnwrd2w8/vbXYq3RwyrWWqyD53lVXV3mzoGd3b1Y62oeS9XZ1W0uVlWHT3LH2f3LL2Ot169fxVq1GeRaVbVe78dam+C9bjTK3esm41GsVVU1Hm49Jd7p4SG3NWazaa61k90ai0X2+rgNT/gAAJoz+AAAmjP4AACaM/gAAJoz+AAAmjP4AACaM/gAAJoz+AAAmjP4AACaM/gAAJoz+AAAmjP4AACaM/gAAJoz+AAAmjP4AACaM/gAAJoz+AAAmjP4AACaG2/7wvnDQ+xNV5tlrDUeZzfreDyItVbr3Ofc2Z3GWpPp1j/7Vr729aex1v7efqz18mEVax0eHMVaVVWb4SjWury9jbWWD7lj9svXX8VaVVVPnx7GWqu73Oe8mOfOzZdvzmOtqqr7yUmsdXF2EWvN7+5irUcn78VaVVWz2SzWevZB7to425nEWsvlOtaqqtoMcveUySR33R4F98F0mrtmV1XVIPsbbMMTPgCA5gw+AIDmDD4AgOYMPgCA5gw+AIDmDD4AgOYMPgCA5gw+AIDmDD4AgOYMPgCA5gw+AIDmDD4AgOYMPgCA5gw+AIDmDD4AgOYMPgCA5gw+AIDmDD4AgOYMPgCA5sbbvnC+eAi+7TqXGo5yrara2d2JtT742uNY6+c/fxlrPXnytVirqurx45NY6+2bV7HWV1++jbX2v/Ek1qqqOj7J9c7md7HW9eV9rDWdHcZaVVWjyUGuNZrEWp/+8rNY6+35VaxVVfX0o1ms9cm3Pom1Pv/8Tax1P0/em6r29vZirYuL01jr/Se582kYftSzWOVam02u9fAwj7X29ndjraqq2TR3DdqWJ3wAAM0ZfAAAzRl8AADNGXwAAM0ZfAAAzRl8AADNGXwAAM0ZfAAAzRl8AADNGXwAAM0ZfAAAzRl8AADNGXwAAM0ZfAAAzRl8AADNGXwAAM0ZfAAAzRl8AADNjbd94Xqzjr3ppnKtcXiz3i/msdb3v/trsdbibhVrvXh7G2tVVZ2cHMVaz5//Waz1e3/7h7HW3iiWqqqq16eXsdb+7izWWo93Yq29R7uxVlXV7nHuc3766dtY63/+/C9irYub3LWxqurZN3Ofc+/4JNYa7+aOs+ur81irqurs9etY66Mnn8Ra00EsVZvB1rf+rdzNc/fN0XgZay2Xi1hrvD6MtaqqppPgD7olT/gAAJoz+AAAmjP4AACaM/gAAJoz+AAAmjP4AACaM/gAAJoz+AAAmjP4AACaM/gAAJoz+AAAmjP4AACaM/gAAJoz+AAAmjP4AACaM/gAAJoz+AAAmjP4AACaG2/7wuFw65e+02CwibU2uVRVVd1cL2Otzz77Mtb6/PmLWGvv+P1Yq6rqs+d/GWv98Ie/E2vNby9jreXdbaxVVTVarWKt+/tFrDXdmcZat6t1rFVV9fIs9xtMT3LnwO//o38ca/3kJ5/GWlVVD/PcsXF0Moq1nrz/KNZ6fDCLtaqqHh3sx1pPnh7EWh9//CzWWi5yv2VV1fPnr2Ktt1e5e/DFbW4gzOexVFVVjabZ32AbnvABADRn8AEANGfwAQA0Z/ABADRn8AEANGfwAQA0Z/ABADRn8AEANGfwAQA0Z/ABADRn8AEANGfwAQA0Z/ABADRn8AEANGfwAQA0Z/ABADRn8AEANGfwAQA0N972hZv1IPamm9rEWqNRdrNuhrne6fllrLW7u/VP9U6HB7lWVdWjx8ex1micO852dvZirYd17pitqprNZrHW/OY61kqem7XOnpvX83WsdT4/j7V2Dg9ird/87ndjraqqP/6j/x5r3czvYq3Hj/Zjrevzh1irqurrz96LtXYnuWvtw/wm1pqMDmOtqqrv/uYnsdar87NY6/nL01hrcZ89ztaL3L1uW57wAQA0Z/ABADRn8AEANGfwAQA0Z/ABADRn8AEANGfwAQA0Z/ABADRn8AEANGfwAQA0Z/ABADRn8AEANGfwAQA0Z/ABADRn8AEANGfwAQA0Z/ABADRn8AEANGfwAQA0N972hYPBr+o2zP5dgxrEWrt7s1jr+9//Tqy1GWW/s9FsJ9Ya1yjWmi9XsdZkMom1qqquLi5irevrm1jrvZP9WGtnmjsuqqoq93PWk73Hsdb16j7WWi43sVZV1e/+7u/GWj/66Z/GWuvVItaajHPXjKqq8/OzWOvR4Ums9dXr3N+1WeWuGVVV7z1+FGvt7OWutR9+I3eez2a7sVZV1aeffRntbeNXdcUBABBi8AEANGfwAQA0Z/ABADRn8AEANGfwAQA0Z/ABADRn8AEANGfwAQA0Z/ABADRn8AEANGfwAQA0Z/ABADRn8AEANGfwAQA0Z/ABADRn8AEANGfwAQA0N972hev1Kvamm80m1qoaBFtVo0Gu99G3Po61zk9PY62b+X2sVVV1tDeNtXanO7HWYLWMte5zqaqqOj48jrXmt7ex1qpy5+btch5rVVXVaBZLHezsx1r3N7l/Nw8muetsVdVkmrue/fb3fxBrXV6cx1r18JBrVdXl6ZtYazWcxFrPX1zFWg8P2Qva2VXuN9g/2I21prlLRh0cZs/NDx4fRXvb8IQPAKA5gw8AoDmDDwCgOYMPAKA5gw8AoDmDDwCgOYMPAKA5gw8AoDmDDwCgOYMPAKA5gw8AoDmDDwCgOYMPAKA5gw8AoDmDDwCgOYMPAKA5gw8AoDmDDwCgufG2L1yvc2+6Xm9irc0m+IdV1c5sEmvt7u/HWi9fvoq13vvgSaxVVTUYPMRak0nu2FhPFrHW3SjXqqq6uLiNtUY7s1jr8Pg41hpkT80a1DTWWi6XsdZicRdrLTe547+qahP8J/3dffCYHecOjsOD3HW2quqDp7lz4NXZWayVvAff3OSu2VVVD6vLWGt2dR1rTWeDWOvwOneeV1VdX+S+s3+x5es84QMAaM7gAwBozuADAGjO4AMAaM7gAwBozuADAGjO4AMAaM7gAwBozuADAGjO4AMAaM7gAwBozuADAGjO4AMAaM7gAwBozuADAGjO4AMAaM7gAwBozuADAGhuvO0LB8FtuF6tY63lchlrVVVN3z+Jta5u7mKtk/eexFrjySzWqqoaBH/PxXwea+3tTGKt1TLXqqq6PM99Z6PhINa6OL+ItU4eHcdaVVWPT45irdPT3OecznLHxv3NTaxVVbW/dxBrLVa5a+3Z5XWstTPc+ja2lacn78VaN+tVrPXVm9NY6+LqMtaqqrqf5z7nZpNr7e6OYq2L2/tYq6rq+jJ7rm/DEz4AgOYMPgCA5gw+AIDmDD4AgOYMPgCA5gw+AIDmDD4AgOYMPgCA5gw+AIDmDD4AgOYMPgCA5gw+AIDmDD4AgOYMPgCA5gw+AIDmDD4AgOYMPgCA5gw+AIDmDD4AgObG275wNMptw4eHTay1XKxiraqq0XASa63WsVSNp9NYazAYxVpVVatF7ti4OLuKtWp5F0vt7Oa+/6qq3FFWNZ3kfs/xJPdbzmbZf09+/uKXsdbx0UmstT/cj7UG4+x3djufx1rr4KV2b/841rq9u4+1qqpevH4Taz378GmsdX52FmstF9nv7CqYu729jbXW9RBrHR/njtmqqv2DbG8bnvABADRn8AEANGfwAQA0Z/ABADRn8AEANGfwAQA0Z/ABADRn8AEANGfwAQA0Z/ABADRn8AEANGfwAQA0Z/ABADRn8AEANGfwAQA0Z/ABADRn8AEANGfwAQA0N972hYPhOvamg8HWb/tO6/Uy1qqqWi1yn/P09CLWSn7/b958GWtVVV2en8Zan//Fi1jr5GAv1vrahx/EWlVVx0ezWOv64k2sdbB3GGtdX9/GWlVVX7zIHbe3889ircdPn8Rax49z339V1WSyG2vd1SbWquEglpoFz6WqquEs9zkvL65jrfndItZaZW+b9eWXuev2cDiKtR6dnMRa9/NVrFVVNajs9XEbnvABADRn8AEANGfwAQA0Z/ABADRn8AEANGfwAQA0Z/ABADRn8AEANGfwAQA0Z/ABADRn8AEANGfwAQA0Z/ABADRn8AEANGfwAQA0Z/ABADRn8AEANGfwAQA0N972hcvlOvi2g1hpOt36I2xls1nGWl9+eRFrnZ+fxVq/+Z2PY62qqm//jY9ircvT+1jry1dfxVoffzKNtaqqrq+uY63BMHcOnJ7dxVrj0WGsVVX1+ec3sdZgnPu37i8//ZNY67s/+K1Yq6pqM8wdt+Pxbqw1GExirdVD7ppdVbVa5O51y1HuOBsOc9/ZcDCKtaqqVstNrDWc5PbBzVXumnH06FGsVVV1eJi9Pm7DEz4AgOYMPgCA5gw+AIDmDD4AgOYMPgCA5gw+AIDmDD4AgOYMPgCA5gw+AIDmDD4AgOYMPgCA5gw+AIDmDD4AgOYMPgCA5gw+AIDmDD4AgOYMPgCA5gw+AIDmxtu+8O5uEXvTwfZv+06j0SbWqqraP5jFWudnl7HW/O4h1hrUOtaqqjra3Y21/tYPvhdr/XTwp7HW7iR3zFZVzTejWGsZPAWub69jrelkJ9aqqvrs+ctY6xvfej/W+nt/9/djrU9+7aNYq6rqf/3pT2Otl1/kvv/Hj5/GWouH3LWxqurrH+aOjdUyd99cr3In+maTfdYzHk9jreEwd629C943J9N5rFVV9eMf/Sja24YnfAAAzRl8AADNGXwAAM0ZfAAAzRl8AADNGXwAAM0ZfAAAzRl8AADNGXwAAM0ZfAAAzRl8AADNGXwAAM0ZfAAAzRl8AADNGXwAAM0ZfAAAzRl8AADNGXwAAM0ZfAAAzY23feFisY696WwWS9VkNsnFqmq1WcRaR8fHsdZ8fh9rrVe537Kq6mf/+yex1g++8zdjrd/+9h/EWj/58U9jraqq+/kmF1vn/t22WOWO/+HoOtaqqvrDP/yXsdZqdBdrHe48irVevXoda1VVDQa5Y2O1WMVaL794GWvt7e3FWlVVX3yW+9vee/Io1loul7HWcDiKtaqqptOdWGu2k2tNZ7nr2eXFRaxVVXX/kLunb8sTPgCA5gw+AIDmDD4AgOYMPgCA5gw+AIDmDD4AgOYMPgCA5gw+AIDmDD4AgOYMPgCA5gw+AIDmDD4AgOYMPgCA5gw+AIDmDD4AgOYMPgCA5gw+AIDmDD4AgObG275wMNz6pe80HG9irfXgIdaqqloN1rHW/tFurPXe4jjWGtc01qqq+urtdax1d3seax1NJ7HW+/uxVFVVTVa5Y+PiNncOLI9y5/nBwV6sVVX15Cj3e85rFmv94vkXsdbt7TzWqqra3zuKtZ49+yDWenN6GmvVMHc/qaqaznLn5nqdu59sNrnPubOTO/6rqsbjQaw1v8vdT3Z2c7/l02dPY62qqjdffRXtbcMTPgCA5gw+AIDmDD4AgOYMPgCA5gw+AIDmDD4AgOYMPgCA5gw+AIDmDD4AgOYMPgCA5gw+AIDmDD4AgOYMPgCA5gw+AIDmDD4AgOYMPgCA5gw+AIDmDD4AgObG275wtp/bhsPROtYaT7ObdT6fx1rPHj+KtZa3W/9U7/T69ZexVlXVr3/vt2Kt6WQTa02Wwd/yZBZrVVWtHu5irZ2dSaz1qN6Ltc6uHmKtqqq3F5ex1qs3N7HW69O3sdZsmj3ODvZHsdbxo6NYa/9wL9ZKX8/G49w9ZTAYxFrjSe48Hy1y9+Cqqt293VhrZ5Nrjce5++blxVWsVVV1dnYR7W3DEz4AgOYMPgCA5gw+AIDmDD4AgOYMPgCA5gw+AIDmDD4AgOYMPgCA5gw+AIDmDD4AgOYMPgCA5gw+AIDmDD4AgOYMPgCA5gw+AIDmDD4AgOYMPgCA5gw+AIDmxtu+cO9w65e+0zA6M1fJWK2X61jr9M3rWGs2HMVai/l9rFVVtTubxVoP929jrfFO7kCbrxaxVlXV/t5erHU1z/1tq7vcsbHKHmZ1dnMeax0fvx9rTfZ2Yq35/DbWqqp69frTWOvjjz+JtQbL3P1kNsu1qqpGo9x1Yxi82d3e3MRa0+lurFVV9ezps1jr9Ows1rq6uoq17u6y5+bR0XG0tw1P+AAAmjP4AACaM/gAAJoz+AAAmjP4AACaM/gAAJoz+AAAmjP4AACaM/gAAJoz+AAAmjP4AACaM/gAAJoz+AAAmjP4AACaM/gAAJoz+AAAmjP4AACaM/gAAJoz+AAAmhtv+8LhZBN702F0ZmY363qR+5zz+V2stbO/F2v9zg++H2tVVe3t78Zad1+9iLUe1qNY6/Yhd1xUVS3WW59673R1O4+1bq9XsdbN1UOsVVX1MMz9niePB7HWBx9+GGs9f/7LWKuq6uoq93uu1rnr2dV1rjWZ5M6lqqoa5M71X/ziF7HWZh1L1TrYqqo6enQSa62DH3S9yf2Wl5dXsVZV1XSSu29uyxM+AIDmDD4AgOYMPgCA5gw+AIDmDD4AgOYMPgCA5gw+AIDmDD4AgOYMPgCA5gw+AIDmDD4AgOYMPgCA5gw+AIDmDD4AgOYMPgCA5gw+AIDmDD4AgOYMPgCA5sbbvnA43MTedDAY/Eq2qqoGk2BvMI2lLm7msdbB3mWsVVX13uNZrHV4chhr3d1exVpvrnLff1XV9XwVa7148VWsdXJ4Emvt7Gx9ednKpHZirV//5Fux1uQgd56vHs5jraqqbzzdi7XWlTtmd6a56+zlVfYecH55HWs9PCxirfv7+1jr8ePHsVZV1Wq9jLW++dE3Y62f/eznsdZwMom1qqr2j3Ln5rY84QMAaM7gAwBozuADAGjO4AMAaM7gAwBozuADAGjO4AMAaM7gAwBozuADAGjO4AMAaM7gAwBozuADAGjO4AMAaM7gAwBozuADAGjO4AMAaM7gAwBozuADAGhuvO0LN5tN7E3X63WslTYa5FqDQXBPD3J/2KfPv4i1qqrGo0Ws9b2vPYq1zhe57+xyOY+1qqquHnJ/2/TgJNbaO9yNtep+mWtV1c5+7nOOJrlzc3F/FWsd7I9iraqq5WIVa43Gk1hrucy1Xr18HWtVVV2cXsRa0+k01kreN09PT2Otqqr3J7nfczDKnZvzu5tYa38/eG2sqg++/iza24YnfAAAzRl8AADNGXwAAM0ZfAAAzRl8AADNGXwAAM0ZfAAAzRl8AADNGXwAAM0ZfAAAzRl8AADNGXwAAM0ZfAAAzRl8AADNGXwAAM0ZfAAAzRl8AADNGXwAAM2Nt33hcPiruQ03m020N56MYq31Ive3rQeDWOtusY61qqp+9umLWOs73/xarPXl9TzWulodxlpVVX/x+Rex1nh9F2s9e/Io1hqHz83kP09PL05jrb29Rax1dXUea1VVPTo8jrWuLnPn02e/eBlrXV9exVpVVYcHuXvA5W3uoB2Pt75dv9NsNou1qqr29nZirdU6d3+a7UxjrdE4e988PX0T7W3jV3PFAQAQY/ABADRn8AEANGfwAQA0Z/ABADRn8AEANGfwAQA0Z/ABADRn8AEANGfwAQA0Z/ABADRn8AEANGfwAQA0Z/ABADRn8AEANGfwAQA0Z/ABADRn8AEANGfwAQA0N972hZvNOvamw9Eo1hqPtv4I28n9abVeLWKtzSaWqtpkd/7tfe5zvrl8iLX+03/+o1jr5eltrFVVtbnPHWjL+Vex1t/5vd+ItTbj7Lk5mh3EWqvlPNa6vbmJtXame7FWVdWf/fSzWOvFizex1sV17vs/ODqOtaqqZrvTWOvq9j7Wurw4j7X29w9jraqq2qxiqeur61jr4f4u1jo+fhxrVVUdHYV/gy14wgcA0JzBBwDQnMEHANCcwQcA0JzBBwDQnMEHANCcwQcA0JzBBwDQnMEHANCcwQcA0JzBBwDQnMEHANCcwQcA0JzBBwDQnMEHANCcwQcA0JzBBwDQnMEHANDceNsXrpar2JuOhqNYq9abXKuqVpvc51ytHmKt0XDrn+qdri8vY62qqr3D3VxsNIul/vi//Y9Y6+puHWtVVQ1XuXPgh9/7dqx1eHwSa+0fx1JVVfXi1Vmsdbibu26cn93GWi9ffhVrVVW9Dn5nD8F7wGSWO8/vl7nrbFXVej6Itc7Pct//oHJ/12advZ6dvn0ba93ezWOtb3z967HWwcFRrFVVdX+f+5zb8oQPAKA5gw8AoDmDDwCgOYMPAKA5gw8AoDmDDwCgOYMPAKA5gw8AoDmDDwCgOYMPAKA5gw8AoDmDDwCgOYMPAKA5gw8AoDmDDwCgOYMPAKA5gw8AoDmDDwCgufG2L9wsN7E3XdUq1lqsF7FWVdVqk/ucwxrEWsv7Zax1d3cTa1VVnTw6iLUms91Y61//q38Wa/3Jn/wk1qqqmo5msdY//6d/P9ba5E7NWizmuVhVLW4vY63Xl7ex1tvXub/r7Owi1qqqGmx/iX+n4+PceT6Y5J413C+CB21V3dxex1qzWe48Hw5z39likb1vnr86j7VmO7nvbHIyibUWy/tYq6pqscj2tuEJHwBAcwYfAEBzBh8AQHMGHwBAcwYfAEBzBh8AQHMGHwBAcwYfAEBzBh8AQHMGHwBAcwYfAEBzBh8AQHMGHwBAcwYfAEBzBh8AQHMGHwBAcwYfAEBzBh8AQHPjrV84nMTedL3axFoP94tYq6pqtcz9bZtV7m8bD0ax1tHRYaxVVfXo4CDW+j8//nGs9f7j3Of86MOTWKuqajG/jbUuzj+PtV5NbmKt8SR3zFZVHe1sfbl6p09fXcdao1Hu2jiZ5D7j/5O7nt3eXsVam9Eg1to/PI61qqour3OfczzO/Z6bTe63HI2y5+ZmmHt2dHgYvD8N1rHUeJz9zhbBc2BbnvABADRn8AEANGfwAQA0Z/ABADRn8AEANGfwAQA0Z/ABADRn8AEANGfwAQA0Z/ABADRn8AEANGfwAQA0Z/ABADRn8AEANGfwAQA0Z/ABADRn8AEANGfwAQA0Z/ABADQ33vaFy/Uq9qaDTW5nPtzl/q6qquUi11stFrHW0eE01hrWfaxVVTUe5n7P6WgUa21mudZ3vvNxrFVVtTubxVqLm9tY6+7mMtZaB68ZVVWDzSDWur2+i7Xubpex1mi09SV5K+tV7hp0fHAQa13c3MRaN9e5VlXVcJi7bgwnk1hrEbyfTKe5+0lV1WaQuwccHx7GWrNZ7ny6uc5dG6uqDvdz59O2POEDAGjO4AMAaM7gAwBozuADAGjO4AMAaM7gAwBozuADAGjO4AMAaM7gAwBozuADAGjO4AMAaM7gAwBozuADAGjO4AMAaM7gAwBozuADAGjO4AMAaM7gAwBobrDZbDZ/3X8EAAB/dTzhAwBozuADAGjO4AMAaM7gAwBozuADAGjO4AMAaM7gAwBozuADAGjO4AMAaO7/Ag8N1xRR1vDeAAAAAElFTkSuQmCC\n",
      "text/plain": [
       "<Figure size 800x800 with 1 Axes>"
      ]
     },
     "metadata": {},
     "output_type": "display_data"
    },
    {
     "name": "stdout",
     "output_type": "stream",
     "text": [
      "Image number selected: 52594\n",
      "Shape of image: torch.Size([3, 32, 32])\n"
     ]
    }
   ],
   "source": [
    "import matplotlib.pyplot as plt\n",
    "from matplotlib.pyplot import figure\n",
    "from pylab import rcParams\n",
    "\n",
    "# Viewing one image\n",
    "\n",
    "# Setting the figure size\n",
    "rcParams['figure.figsize'] = 8, 8\n",
    "\n",
    "# Choose a random image from the dataset\n",
    "imageId = np.random.randint(0, len(data_train))\n",
    "image, label = (data_train[imageId])\n",
    "\n",
    "# Convert the mean and standard deviation lists to tensors\n",
    "cinic_mean = torch.tensor(cinic_mean).clone().detach()\n",
    "cinic_std = torch.tensor(cinic_std).clone().detach()\n",
    "\n",
    "# Denormalize image data (otherwise warning)\n",
    "image = (image * cinic_std[None, :, None, None]) + cinic_mean[None, :, None, None]\n",
    "\n",
    "image = image.squeeze()\n",
    "plt.imshow(image.permute(1, 2, 0))\n",
    "plt.axis('off')\n",
    "plt.show()\n",
    "\n",
    "print(\"Image number selected: {}\".format(imageId))\n",
    "\n",
    "print(\"Shape of image: {}\".format(image.shape))"
   ]
  },
  {
   "cell_type": "code",
   "execution_count": 7,
   "metadata": {
    "colab": {
     "base_uri": "https://localhost:8080/",
     "height": 777
    },
    "id": "t-3HdumA2Sjy",
    "outputId": "96fd42f2-599f-4a8b-db5f-76809f0f4376"
   },
   "outputs": [
    {
     "name": "stderr",
     "output_type": "stream",
     "text": [
      "<ipython-input-7-78236f092393>:23: UserWarning: To copy construct from a tensor, it is recommended to use sourceTensor.clone().detach() or sourceTensor.clone().detach().requires_grad_(True), rather than torch.tensor(sourceTensor).\n",
      "  cinic_mean = torch.tensor(cinic_mean).clone().detach()\n",
      "<ipython-input-7-78236f092393>:24: UserWarning: To copy construct from a tensor, it is recommended to use sourceTensor.clone().detach() or sourceTensor.clone().detach().requires_grad_(True), rather than torch.tensor(sourceTensor).\n",
      "  cinic_std = torch.tensor(cinic_std).clone().detach()\n"
     ]
    },
    {
     "data": {
      "image/png": "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\n",
      "text/plain": [
       "<Figure size 800x800 with 9 Axes>"
      ]
     },
     "metadata": {},
     "output_type": "display_data"
    },
    {
     "name": "stdout",
     "output_type": "stream",
     "text": [
      "Image number selected: 39032\n",
      "Shape of image: torch.Size([3, 32, 32])\n"
     ]
    }
   ],
   "source": [
    "import matplotlib.pyplot as plt\n",
    "from matplotlib.pyplot import figure\n",
    "from pylab import rcParams\n",
    "\n",
    "# Viewing multiple images\n",
    "\n",
    "# Setting the figure size\n",
    "rcParams['figure.figsize'] = 8, 8\n",
    "\n",
    "# Create a new figure\n",
    "fig = plt.figure()\n",
    "\n",
    "cols, rows = 3, 3\n",
    "for i in range(1, cols * rows + 1):\n",
    "  # Choose a random image from the dataset\n",
    "  imageId = np.random.randint(0, len(data_train))\n",
    "  image, label = (data_train[imageId])\n",
    "\n",
    "  # Add new subplot to figure\n",
    "  ax = fig.add_subplot(rows, cols, i)\n",
    "\n",
    "  # Convert the mean and standard deviation lists to tensors\n",
    "  cinic_mean = torch.tensor(cinic_mean).clone().detach()\n",
    "  cinic_std = torch.tensor(cinic_std).clone().detach()\n",
    "\n",
    "  # Denormalize image data (otherwise warning)\n",
    "  image = (image * cinic_std[None, :, None, None]) + cinic_mean[None, :, None, None]\n",
    "\n",
    "  image = image.squeeze()\n",
    "  plt.imshow(image.permute(1, 2, 0))\n",
    "  plt.axis('off')\n",
    "plt.show()\n",
    "\n",
    "print(\"Image number selected: {}\".format(imageId))\n",
    "\n",
    "print(\"Shape of image: {}\".format(image.shape))"
   ]
  },
  {
   "cell_type": "markdown",
   "metadata": {
    "id": "oNwtBAsbGvuN"
   },
   "source": [
    "\n",
    "Define the Network Architecture (model):"
   ]
  },
  {
   "cell_type": "code",
   "execution_count": 8,
   "metadata": {
    "id": "RM6VXVSe_YQy"
   },
   "outputs": [],
   "source": [
    "import torch\n",
    "import torch.nn as nn\n",
    "import torch.nn.functional as F\n",
    "\n",
    "class Net(nn.Module):\n",
    "  def __init__(self):\n",
    "    super(Net, self).__init__()\n",
    "    # Input layer\n",
    "    self.conv1 = nn.Conv2d(3,32, kernel_size=3, padding=1)\n",
    "    self.bn1 = nn.BatchNorm2d(32)\n",
    "    self.conv2 = nn.Conv2d(32, 64, kernel_size=3, padding=1)\n",
    "    self.bn2 = nn.BatchNorm2d(64)\n",
    "    self.conv_shortcut1 = nn.Conv2d(3, 64, kernel_size=1)\n",
    "\n",
    "    self.pool = nn.MaxPool2d(kernel_size=2, stride=2)\n",
    "    self.conv3 = nn.Conv2d(64, 128, kernel_size=3, padding=1)\n",
    "    self.bn3 = nn.BatchNorm2d(128)\n",
    "    self.conv4 = nn.Conv2d(128, 256, kernel_size=3, padding=1)\n",
    "    self.bn4 = nn.BatchNorm2d(256)\n",
    "    self.conv_shortcut2 = nn.Conv2d(64, 256, kernel_size=1)\n",
    "    # self.bn6 = nn.BatchNorm2d(128)\n",
    "\n",
    "    self.pool2 = nn.MaxPool2d(kernel_size=2, stride=2)\n",
    "    self.conv5 = nn.Conv2d(256, 512, kernel_size=3, padding=1)\n",
    "    self.bn5 = nn.BatchNorm2d(512)\n",
    "    self.conv6 = nn.Conv2d(512, 1024, kernel_size=3, padding=1)\n",
    "    self.bn6 = nn.BatchNorm2d(1024)\n",
    "    self.conv_shortcut3 = nn.Conv2d(256, 1024, kernel_size=1)\n",
    "\n",
    "    x = torch.randn(1, 3, 32, 32)\n",
    "    x = self._forward_features(x)\n",
    "    self._to_linear =x.numel()\n",
    "\n",
    "    self.fc1 = nn.Linear(self._to_linear, 128)\n",
    "    self.fc2 = nn.Linear(128, 100)\n",
    "\n",
    "  def _forward_features(self, x):\n",
    "    x_shortcut = x\n",
    "    x = F.relu(self.bn1(self.conv1(x)))\n",
    "    x = F.relu(F.dropout(self.pool(self.bn2(self.conv2(x))),0.2))\n",
    "    x_shortcut = self.conv_shortcut1(x_shortcut)\n",
    "    x_shortcut = self.pool(x_shortcut)\n",
    "    # x_shortcut=self.conv_shortcut1(x_shortcut)\n",
    "    # x_shortcut=F.conv2d(x_shortcut, self.conv_shortcut1.weight, stride=2)\n",
    "    # x_shortcut=F.relu(self.pool(self.conv_shortcut1(x_shortcut)))\n",
    "    x = x + x_shortcut\n",
    "\n",
    "    x_shortcut = x\n",
    "    x = F.leaky_relu(F.dropout(self.pool(self.bn3(self.conv3(x))), 0.2),0.3)\n",
    "    x = F.leaky_relu(F.dropout(self.bn4(self.conv4(x)), 0.2),0.3)\n",
    "    x_shortcut = self.conv_shortcut2(x_shortcut)\n",
    "    x_shortcut = self.pool(x_shortcut)\n",
    "    # x_shortcut=F.conv2d(x_shortcut, self.conv_shortcut2.weight, stride=2)\n",
    "    # x_shortcut=F.leaky_relu(self.pool(self.bn6(self.conv_shortcut2(x_shortcut))),0.3)\n",
    "    x = x + x_shortcut\n",
    "\n",
    "    x_shortcut = x\n",
    "    x = F.leaky_relu(F.dropout(self.pool(self.bn5(self.conv5(x))), 0.2),0.3)\n",
    "    x = F.leaky_relu(F.dropout(self.bn6(self.conv6(x)), 0.2),0.3)\n",
    "    x_shortcut = self.conv_shortcut3(x_shortcut)\n",
    "    x_shortcut = self.pool(x_shortcut)\n",
    "    # x_shortcut=F.conv2d(x_shortcut, self.conv_shortcut3.weight, stride=2)\n",
    "    x = x + x_shortcut\n",
    "    return x\n",
    "\n",
    "  def forward(self, x):\n",
    "    x = self._forward_features(x)\n",
    "    x = x.view(-1,self._to_linear)\n",
    "    x = F.dropout(F.relu(self.fc1(x)), 0.20)\n",
    "    x = self.fc2(x)\n",
    "\n",
    "    return F.log_softmax(x,dim=-1)"
   ]
  },
  {
   "cell_type": "code",
   "execution_count": 9,
   "metadata": {
    "colab": {
     "base_uri": "https://localhost:8080/"
    },
    "id": "eB--6lV61UhK",
    "outputId": "9ee81630-ea5a-4f7f-eefc-6e37468a63d5"
   },
   "outputs": [
    {
     "name": "stdout",
     "output_type": "stream",
     "text": [
      "----------------------------------------------------------------\n",
      "        Layer (type)               Output Shape         Param #\n",
      "================================================================\n",
      "            Conv2d-1           [-1, 32, 32, 32]             896\n",
      "       BatchNorm2d-2           [-1, 32, 32, 32]              64\n",
      "            Conv2d-3           [-1, 64, 32, 32]          18,496\n",
      "       BatchNorm2d-4           [-1, 64, 32, 32]             128\n",
      "         MaxPool2d-5           [-1, 64, 16, 16]               0\n",
      "            Conv2d-6           [-1, 64, 32, 32]             256\n",
      "         MaxPool2d-7           [-1, 64, 16, 16]               0\n",
      "            Conv2d-8          [-1, 128, 16, 16]          73,856\n",
      "       BatchNorm2d-9          [-1, 128, 16, 16]             256\n",
      "        MaxPool2d-10            [-1, 128, 8, 8]               0\n",
      "           Conv2d-11            [-1, 256, 8, 8]         295,168\n",
      "      BatchNorm2d-12            [-1, 256, 8, 8]             512\n",
      "           Conv2d-13          [-1, 256, 16, 16]          16,640\n",
      "        MaxPool2d-14            [-1, 256, 8, 8]               0\n",
      "           Conv2d-15            [-1, 512, 8, 8]       1,180,160\n",
      "      BatchNorm2d-16            [-1, 512, 8, 8]           1,024\n",
      "        MaxPool2d-17            [-1, 512, 4, 4]               0\n",
      "           Conv2d-18           [-1, 1024, 4, 4]       4,719,616\n",
      "      BatchNorm2d-19           [-1, 1024, 4, 4]           2,048\n",
      "           Conv2d-20           [-1, 1024, 8, 8]         263,168\n",
      "        MaxPool2d-21           [-1, 1024, 4, 4]               0\n",
      "           Linear-22                  [-1, 128]       2,097,280\n",
      "           Linear-23                  [-1, 100]          12,900\n",
      "================================================================\n",
      "Total params: 8,682,468\n",
      "Trainable params: 8,682,468\n",
      "Non-trainable params: 0\n",
      "----------------------------------------------------------------\n",
      "Input size (MB): 0.01\n",
      "Forward/backward pass size (MB): 5.13\n",
      "Params size (MB): 33.12\n",
      "Estimated Total Size (MB): 38.26\n",
      "----------------------------------------------------------------\n"
     ]
    }
   ],
   "source": [
    "from torchsummary import summary\n",
    "\n",
    "device = torch.device('cuda' if torch.cuda.is_available() else 'cpu')\n",
    "model = Net().to(device)\n",
    "summary(model, (3, 32, 32))"
   ]
  },
  {
   "cell_type": "code",
   "execution_count": 10,
   "metadata": {
    "colab": {
     "base_uri": "https://localhost:8080/",
     "height": 1000
    },
    "id": "5hAR23Et2OdE",
    "outputId": "ac9bf536-c399-4dbf-9b21-1fce2a108988"
   },
   "outputs": [
    {
     "name": "stdout",
     "output_type": "stream",
     "text": [
      "Collecting torchviz\n",
      "  Downloading torchviz-0.0.2.tar.gz (4.9 kB)\n",
      "  Preparing metadata (setup.py) ... \u001b[?25l\u001b[?25hdone\n",
      "Requirement already satisfied: torch in /usr/local/lib/python3.10/dist-packages (from torchviz) (2.0.1+cu118)\n",
      "Requirement already satisfied: graphviz in /usr/local/lib/python3.10/dist-packages (from torchviz) (0.20.1)\n",
      "Requirement already satisfied: filelock in /usr/local/lib/python3.10/dist-packages (from torch->torchviz) (3.12.2)\n",
      "Requirement already satisfied: typing-extensions in /usr/local/lib/python3.10/dist-packages (from torch->torchviz) (4.5.0)\n",
      "Requirement already satisfied: sympy in /usr/local/lib/python3.10/dist-packages (from torch->torchviz) (1.12)\n",
      "Requirement already satisfied: networkx in /usr/local/lib/python3.10/dist-packages (from torch->torchviz) (3.1)\n",
      "Requirement already satisfied: jinja2 in /usr/local/lib/python3.10/dist-packages (from torch->torchviz) (3.1.2)\n",
      "Requirement already satisfied: triton==2.0.0 in /usr/local/lib/python3.10/dist-packages (from torch->torchviz) (2.0.0)\n",
      "Requirement already satisfied: cmake in /usr/local/lib/python3.10/dist-packages (from triton==2.0.0->torch->torchviz) (3.27.4.1)\n",
      "Requirement already satisfied: lit in /usr/local/lib/python3.10/dist-packages (from triton==2.0.0->torch->torchviz) (16.0.6)\n",
      "Requirement already satisfied: MarkupSafe>=2.0 in /usr/local/lib/python3.10/dist-packages (from jinja2->torch->torchviz) (2.1.3)\n",
      "Requirement already satisfied: mpmath>=0.19 in /usr/local/lib/python3.10/dist-packages (from sympy->torch->torchviz) (1.3.0)\n",
      "Building wheels for collected packages: torchviz\n",
      "  Building wheel for torchviz (setup.py) ... \u001b[?25l\u001b[?25hdone\n",
      "  Created wheel for torchviz: filename=torchviz-0.0.2-py3-none-any.whl size=4130 sha256=fcef8aef053c1c7752f7c3fb32855b30a0742b0fed1fa9371a896b61da0a453d\n",
      "  Stored in directory: /root/.cache/pip/wheels/4c/97/88/a02973217949e0db0c9f4346d154085f4725f99c4f15a87094\n",
      "Successfully built torchviz\n",
      "Installing collected packages: torchviz\n",
      "Successfully installed torchviz-0.0.2\n"
     ]
    },
    {
     "data": {
      "image/svg+xml": [
       "<?xml version=\"1.0\" encoding=\"UTF-8\" standalone=\"no\"?>\n",
       "<!DOCTYPE svg PUBLIC \"-//W3C//DTD SVG 1.1//EN\"\n",
       " \"http://www.w3.org/Graphics/SVG/1.1/DTD/svg11.dtd\">\n",
       "<!-- Generated by graphviz version 2.43.0 (0)\n",
       " -->\n",
       "<!-- Title: %3 Pages: 1 -->\n",
       "<svg width=\"1486pt\" height=\"2261pt\"\n",
       " viewBox=\"0.00 0.00 1486.00 2261.00\" xmlns=\"http://www.w3.org/2000/svg\" xmlns:xlink=\"http://www.w3.org/1999/xlink\">\n",
       "<g id=\"graph0\" class=\"graph\" transform=\"scale(1 1) rotate(0) translate(4 2257)\">\n",
       "<title>%3</title>\n",
       "<polygon fill=\"white\" stroke=\"transparent\" points=\"-4,4 -4,-2257 1482,-2257 1482,4 -4,4\"/>\n",
       "<!-- 135855189282864 -->\n",
       "<g id=\"node1\" class=\"node\">\n",
       "<title>135855189282864</title>\n",
       "<polygon fill=\"#caff70\" stroke=\"black\" points=\"978,-31 907,-31 907,0 978,0 978,-31\"/>\n",
       "<text text-anchor=\"middle\" x=\"942.5\" y=\"-7\" font-family=\"monospace\" font-size=\"10.00\"> (1, 100)</text>\n",
       "</g>\n",
       "<!-- 135855189343824 -->\n",
       "<g id=\"node2\" class=\"node\">\n",
       "<title>135855189343824</title>\n",
       "<polygon fill=\"lightgrey\" stroke=\"black\" points=\"1008,-86 877,-86 877,-67 1008,-67 1008,-86\"/>\n",
       "<text text-anchor=\"middle\" x=\"942.5\" y=\"-74\" font-family=\"monospace\" font-size=\"10.00\">LogSoftmaxBackward0</text>\n",
       "</g>\n",
       "<!-- 135855189343824&#45;&gt;135855189282864 -->\n",
       "<g id=\"edge113\" class=\"edge\">\n",
       "<title>135855189343824&#45;&gt;135855189282864</title>\n",
       "<path fill=\"none\" stroke=\"black\" d=\"M942.5,-66.79C942.5,-60.07 942.5,-50.4 942.5,-41.34\"/>\n",
       "<polygon fill=\"black\" stroke=\"black\" points=\"946,-41.19 942.5,-31.19 939,-41.19 946,-41.19\"/>\n",
       "</g>\n",
       "<!-- 135855189343440 -->\n",
       "<g id=\"node3\" class=\"node\">\n",
       "<title>135855189343440</title>\n",
       "<polygon fill=\"lightgrey\" stroke=\"black\" points=\"993,-141 892,-141 892,-122 993,-122 993,-141\"/>\n",
       "<text text-anchor=\"middle\" x=\"942.5\" y=\"-129\" font-family=\"monospace\" font-size=\"10.00\">AddmmBackward0</text>\n",
       "</g>\n",
       "<!-- 135855189343440&#45;&gt;135855189343824 -->\n",
       "<g id=\"edge1\" class=\"edge\">\n",
       "<title>135855189343440&#45;&gt;135855189343824</title>\n",
       "<path fill=\"none\" stroke=\"black\" d=\"M942.5,-121.75C942.5,-114.8 942.5,-104.85 942.5,-96.13\"/>\n",
       "<polygon fill=\"black\" stroke=\"black\" points=\"946,-96.09 942.5,-86.09 939,-96.09 946,-96.09\"/>\n",
       "</g>\n",
       "<!-- 135855189343872 -->\n",
       "<g id=\"node4\" class=\"node\">\n",
       "<title>135855189343872</title>\n",
       "<polygon fill=\"lightgrey\" stroke=\"black\" points=\"850,-196 749,-196 749,-177 850,-177 850,-196\"/>\n",
       "<text text-anchor=\"middle\" x=\"799.5\" y=\"-184\" font-family=\"monospace\" font-size=\"10.00\">AccumulateGrad</text>\n",
       "</g>\n",
       "<!-- 135855189343872&#45;&gt;135855189343440 -->\n",
       "<g id=\"edge2\" class=\"edge\">\n",
       "<title>135855189343872&#45;&gt;135855189343440</title>\n",
       "<path fill=\"none\" stroke=\"black\" d=\"M822.48,-176.98C846,-168.27 882.79,-154.63 909.44,-144.75\"/>\n",
       "<polygon fill=\"black\" stroke=\"black\" points=\"910.95,-147.93 919.11,-141.17 908.51,-141.36 910.95,-147.93\"/>\n",
       "</g>\n",
       "<!-- 135855190968096 -->\n",
       "<g id=\"node5\" class=\"node\">\n",
       "<title>135855190968096</title>\n",
       "<polygon fill=\"lightblue\" stroke=\"black\" points=\"832,-262 767,-262 767,-232 832,-232 832,-262\"/>\n",
       "<text text-anchor=\"middle\" x=\"799.5\" y=\"-250\" font-family=\"monospace\" font-size=\"10.00\">fc2.bias</text>\n",
       "<text text-anchor=\"middle\" x=\"799.5\" y=\"-239\" font-family=\"monospace\" font-size=\"10.00\"> (100)</text>\n",
       "</g>\n",
       "<!-- 135855190968096&#45;&gt;135855189343872 -->\n",
       "<g id=\"edge3\" class=\"edge\">\n",
       "<title>135855190968096&#45;&gt;135855189343872</title>\n",
       "<path fill=\"none\" stroke=\"black\" d=\"M799.5,-231.84C799.5,-224.21 799.5,-214.7 799.5,-206.45\"/>\n",
       "<polygon fill=\"black\" stroke=\"black\" points=\"803,-206.27 799.5,-196.27 796,-206.27 803,-206.27\"/>\n",
       "</g>\n",
       "<!-- 135855189343632 -->\n",
       "<g id=\"node6\" class=\"node\">\n",
       "<title>135855189343632</title>\n",
       "<polygon fill=\"lightgrey\" stroke=\"black\" points=\"1017,-196 868,-196 868,-177 1017,-177 1017,-196\"/>\n",
       "<text text-anchor=\"middle\" x=\"942.5\" y=\"-184\" font-family=\"monospace\" font-size=\"10.00\">NativeDropoutBackward0</text>\n",
       "</g>\n",
       "<!-- 135855189343632&#45;&gt;135855189343440 -->\n",
       "<g id=\"edge4\" class=\"edge\">\n",
       "<title>135855189343632&#45;&gt;135855189343440</title>\n",
       "<path fill=\"none\" stroke=\"black\" d=\"M942.5,-176.75C942.5,-169.8 942.5,-159.85 942.5,-151.13\"/>\n",
       "<polygon fill=\"black\" stroke=\"black\" points=\"946,-151.09 942.5,-141.09 939,-151.09 946,-151.09\"/>\n",
       "</g>\n",
       "<!-- 135855189475392 -->\n",
       "<g id=\"node7\" class=\"node\">\n",
       "<title>135855189475392</title>\n",
       "<polygon fill=\"lightgrey\" stroke=\"black\" points=\"990,-256.5 895,-256.5 895,-237.5 990,-237.5 990,-256.5\"/>\n",
       "<text text-anchor=\"middle\" x=\"942.5\" y=\"-244.5\" font-family=\"monospace\" font-size=\"10.00\">ReluBackward0</text>\n",
       "</g>\n",
       "<!-- 135855189475392&#45;&gt;135855189343632 -->\n",
       "<g id=\"edge5\" class=\"edge\">\n",
       "<title>135855189475392&#45;&gt;135855189343632</title>\n",
       "<path fill=\"none\" stroke=\"black\" d=\"M942.5,-237.37C942.5,-229.25 942.5,-216.81 942.5,-206.39\"/>\n",
       "<polygon fill=\"black\" stroke=\"black\" points=\"946,-206.17 942.5,-196.17 939,-206.17 946,-206.17\"/>\n",
       "</g>\n",
       "<!-- 135855189475584 -->\n",
       "<g id=\"node8\" class=\"node\">\n",
       "<title>135855189475584</title>\n",
       "<polygon fill=\"lightgrey\" stroke=\"black\" points=\"993,-322.5 892,-322.5 892,-303.5 993,-303.5 993,-322.5\"/>\n",
       "<text text-anchor=\"middle\" x=\"942.5\" y=\"-310.5\" font-family=\"monospace\" font-size=\"10.00\">AddmmBackward0</text>\n",
       "</g>\n",
       "<!-- 135855189475584&#45;&gt;135855189475392 -->\n",
       "<g id=\"edge6\" class=\"edge\">\n",
       "<title>135855189475584&#45;&gt;135855189475392</title>\n",
       "<path fill=\"none\" stroke=\"black\" d=\"M942.5,-303.37C942.5,-294.16 942.5,-279.29 942.5,-267.27\"/>\n",
       "<polygon fill=\"black\" stroke=\"black\" points=\"946,-266.91 942.5,-256.91 939,-266.91 946,-266.91\"/>\n",
       "</g>\n",
       "<!-- 135855189475680 -->\n",
       "<g id=\"node9\" class=\"node\">\n",
       "<title>135855189475680</title>\n",
       "<polygon fill=\"lightgrey\" stroke=\"black\" points=\"877,-383 776,-383 776,-364 877,-364 877,-383\"/>\n",
       "<text text-anchor=\"middle\" x=\"826.5\" y=\"-371\" font-family=\"monospace\" font-size=\"10.00\">AccumulateGrad</text>\n",
       "</g>\n",
       "<!-- 135855189475680&#45;&gt;135855189475584 -->\n",
       "<g id=\"edge7\" class=\"edge\">\n",
       "<title>135855189475680&#45;&gt;135855189475584</title>\n",
       "<path fill=\"none\" stroke=\"black\" d=\"M843.62,-363.87C862.72,-354.23 893.87,-338.53 916.1,-327.31\"/>\n",
       "<polygon fill=\"black\" stroke=\"black\" points=\"917.96,-330.3 925.31,-322.67 914.81,-324.05 917.96,-330.3\"/>\n",
       "</g>\n",
       "<!-- 135855190980656 -->\n",
       "<g id=\"node10\" class=\"node\">\n",
       "<title>135855190980656</title>\n",
       "<polygon fill=\"lightblue\" stroke=\"black\" points=\"859,-449 794,-449 794,-419 859,-419 859,-449\"/>\n",
       "<text text-anchor=\"middle\" x=\"826.5\" y=\"-437\" font-family=\"monospace\" font-size=\"10.00\">fc1.bias</text>\n",
       "<text text-anchor=\"middle\" x=\"826.5\" y=\"-426\" font-family=\"monospace\" font-size=\"10.00\"> (128)</text>\n",
       "</g>\n",
       "<!-- 135855190980656&#45;&gt;135855189475680 -->\n",
       "<g id=\"edge8\" class=\"edge\">\n",
       "<title>135855190980656&#45;&gt;135855189475680</title>\n",
       "<path fill=\"none\" stroke=\"black\" d=\"M826.5,-418.84C826.5,-411.21 826.5,-401.7 826.5,-393.45\"/>\n",
       "<polygon fill=\"black\" stroke=\"black\" points=\"830,-393.27 826.5,-383.27 823,-393.27 830,-393.27\"/>\n",
       "</g>\n",
       "<!-- 135855189475632 -->\n",
       "<g id=\"node11\" class=\"node\">\n",
       "<title>135855189475632</title>\n",
       "<polygon fill=\"lightgrey\" stroke=\"black\" points=\"990,-383 895,-383 895,-364 990,-364 990,-383\"/>\n",
       "<text text-anchor=\"middle\" x=\"942.5\" y=\"-371\" font-family=\"monospace\" font-size=\"10.00\">ViewBackward0</text>\n",
       "</g>\n",
       "<!-- 135855189475632&#45;&gt;135855189475584 -->\n",
       "<g id=\"edge9\" class=\"edge\">\n",
       "<title>135855189475632&#45;&gt;135855189475584</title>\n",
       "<path fill=\"none\" stroke=\"black\" d=\"M942.5,-363.87C942.5,-355.75 942.5,-343.31 942.5,-332.89\"/>\n",
       "<polygon fill=\"black\" stroke=\"black\" points=\"946,-332.67 942.5,-322.67 939,-332.67 946,-332.67\"/>\n",
       "</g>\n",
       "<!-- 135855189475776 -->\n",
       "<g id=\"node12\" class=\"node\">\n",
       "<title>135855189475776</title>\n",
       "<polygon fill=\"lightgrey\" stroke=\"black\" points=\"983,-443.5 894,-443.5 894,-424.5 983,-424.5 983,-443.5\"/>\n",
       "<text text-anchor=\"middle\" x=\"938.5\" y=\"-431.5\" font-family=\"monospace\" font-size=\"10.00\">AddBackward0</text>\n",
       "</g>\n",
       "<!-- 135855189475776&#45;&gt;135855189475632 -->\n",
       "<g id=\"edge10\" class=\"edge\">\n",
       "<title>135855189475776&#45;&gt;135855189475632</title>\n",
       "<path fill=\"none\" stroke=\"black\" d=\"M939.09,-424.37C939.65,-416.25 940.5,-403.81 941.21,-393.39\"/>\n",
       "<polygon fill=\"black\" stroke=\"black\" points=\"944.72,-393.38 941.91,-383.17 937.73,-392.91 944.72,-393.38\"/>\n",
       "</g>\n",
       "<!-- 135855189475968 -->\n",
       "<g id=\"node13\" class=\"node\">\n",
       "<title>135855189475968</title>\n",
       "<polygon fill=\"lightgrey\" stroke=\"black\" points=\"1001,-509.5 876,-509.5 876,-490.5 1001,-490.5 1001,-509.5\"/>\n",
       "<text text-anchor=\"middle\" x=\"938.5\" y=\"-497.5\" font-family=\"monospace\" font-size=\"10.00\">LeakyReluBackward0</text>\n",
       "</g>\n",
       "<!-- 135855189475968&#45;&gt;135855189475776 -->\n",
       "<g id=\"edge11\" class=\"edge\">\n",
       "<title>135855189475968&#45;&gt;135855189475776</title>\n",
       "<path fill=\"none\" stroke=\"black\" d=\"M938.5,-490.37C938.5,-481.16 938.5,-466.29 938.5,-454.27\"/>\n",
       "<polygon fill=\"black\" stroke=\"black\" points=\"942,-453.91 938.5,-443.91 935,-453.91 942,-453.91\"/>\n",
       "</g>\n",
       "<!-- 135855189476112 -->\n",
       "<g id=\"node14\" class=\"node\">\n",
       "<title>135855189476112</title>\n",
       "<polygon fill=\"lightgrey\" stroke=\"black\" points=\"1084,-570 935,-570 935,-551 1084,-551 1084,-570\"/>\n",
       "<text text-anchor=\"middle\" x=\"1009.5\" y=\"-558\" font-family=\"monospace\" font-size=\"10.00\">NativeDropoutBackward0</text>\n",
       "</g>\n",
       "<!-- 135855189476112&#45;&gt;135855189475968 -->\n",
       "<g id=\"edge12\" class=\"edge\">\n",
       "<title>135855189476112&#45;&gt;135855189475968</title>\n",
       "<path fill=\"none\" stroke=\"black\" d=\"M999.02,-550.87C988.01,-541.8 970.46,-527.34 957.09,-516.32\"/>\n",
       "<polygon fill=\"black\" stroke=\"black\" points=\"958.96,-513.33 949.02,-509.67 954.51,-518.73 958.96,-513.33\"/>\n",
       "</g>\n",
       "<!-- 135855189476208 -->\n",
       "<g id=\"node15\" class=\"node\">\n",
       "<title>135855189476208</title>\n",
       "<polygon fill=\"lightgrey\" stroke=\"black\" points=\"1273,-625 1118,-625 1118,-606 1273,-606 1273,-625\"/>\n",
       "<text text-anchor=\"middle\" x=\"1195.5\" y=\"-613\" font-family=\"monospace\" font-size=\"10.00\">CudnnBatchNormBackward0</text>\n",
       "</g>\n",
       "<!-- 135855189476208&#45;&gt;135855189476112 -->\n",
       "<g id=\"edge13\" class=\"edge\">\n",
       "<title>135855189476208&#45;&gt;135855189476112</title>\n",
       "<path fill=\"none\" stroke=\"black\" d=\"M1165.62,-605.98C1134.12,-597.01 1084.33,-582.82 1049.47,-572.89\"/>\n",
       "<polygon fill=\"black\" stroke=\"black\" points=\"1050.19,-569.46 1039.62,-570.08 1048.28,-576.19 1050.19,-569.46\"/>\n",
       "</g>\n",
       "<!-- 135855189476304 -->\n",
       "<g id=\"node16\" class=\"node\">\n",
       "<title>135855189476304</title>\n",
       "<polygon fill=\"lightgrey\" stroke=\"black\" points=\"1196,-680 1059,-680 1059,-661 1196,-661 1196,-680\"/>\n",
       "<text text-anchor=\"middle\" x=\"1127.5\" y=\"-668\" font-family=\"monospace\" font-size=\"10.00\">ConvolutionBackward0</text>\n",
       "</g>\n",
       "<!-- 135855189476304&#45;&gt;135855189476208 -->\n",
       "<g id=\"edge14\" class=\"edge\">\n",
       "<title>135855189476304&#45;&gt;135855189476208</title>\n",
       "<path fill=\"none\" stroke=\"black\" d=\"M1138.43,-660.98C1148.58,-653.07 1163.92,-641.11 1176.15,-631.58\"/>\n",
       "<polygon fill=\"black\" stroke=\"black\" points=\"1178.64,-634.08 1184.38,-625.17 1174.34,-628.56 1178.64,-634.08\"/>\n",
       "</g>\n",
       "<!-- 135855189476496 -->\n",
       "<g id=\"node17\" class=\"node\">\n",
       "<title>135855189476496</title>\n",
       "<polygon fill=\"lightgrey\" stroke=\"black\" points=\"1040,-740.5 915,-740.5 915,-721.5 1040,-721.5 1040,-740.5\"/>\n",
       "<text text-anchor=\"middle\" x=\"977.5\" y=\"-728.5\" font-family=\"monospace\" font-size=\"10.00\">LeakyReluBackward0</text>\n",
       "</g>\n",
       "<!-- 135855189476496&#45;&gt;135855189476304 -->\n",
       "<g id=\"edge15\" class=\"edge\">\n",
       "<title>135855189476496&#45;&gt;135855189476304</title>\n",
       "<path fill=\"none\" stroke=\"black\" d=\"M999.31,-721.49C1024.75,-711.57 1067.01,-695.09 1096.01,-683.78\"/>\n",
       "<polygon fill=\"black\" stroke=\"black\" points=\"1097.62,-686.91 1105.66,-680.02 1095.07,-680.39 1097.62,-686.91\"/>\n",
       "</g>\n",
       "<!-- 135855189476688 -->\n",
       "<g id=\"node18\" class=\"node\">\n",
       "<title>135855189476688</title>\n",
       "<polygon fill=\"lightgrey\" stroke=\"black\" points=\"1046,-806.5 897,-806.5 897,-787.5 1046,-787.5 1046,-806.5\"/>\n",
       "<text text-anchor=\"middle\" x=\"971.5\" y=\"-794.5\" font-family=\"monospace\" font-size=\"10.00\">NativeDropoutBackward0</text>\n",
       "</g>\n",
       "<!-- 135855189476688&#45;&gt;135855189476496 -->\n",
       "<g id=\"edge16\" class=\"edge\">\n",
       "<title>135855189476688&#45;&gt;135855189476496</title>\n",
       "<path fill=\"none\" stroke=\"black\" d=\"M972.31,-787.37C973.18,-778.07 974.6,-762.98 975.73,-750.9\"/>\n",
       "<polygon fill=\"black\" stroke=\"black\" points=\"979.22,-751.19 976.67,-740.91 972.25,-750.53 979.22,-751.19\"/>\n",
       "</g>\n",
       "<!-- 135855189476784 -->\n",
       "<g id=\"node19\" class=\"node\">\n",
       "<title>135855189476784</title>\n",
       "<polygon fill=\"lightgrey\" stroke=\"black\" points=\"1096,-867 905,-867 905,-848 1096,-848 1096,-867\"/>\n",
       "<text text-anchor=\"middle\" x=\"1000.5\" y=\"-855\" font-family=\"monospace\" font-size=\"10.00\">MaxPool2DWithIndicesBackward0</text>\n",
       "</g>\n",
       "<!-- 135855189476784&#45;&gt;135855189476688 -->\n",
       "<g id=\"edge17\" class=\"edge\">\n",
       "<title>135855189476784&#45;&gt;135855189476688</title>\n",
       "<path fill=\"none\" stroke=\"black\" d=\"M996.22,-847.87C992.07,-839.49 985.63,-826.51 980.37,-815.89\"/>\n",
       "<polygon fill=\"black\" stroke=\"black\" points=\"983.37,-814.07 975.8,-806.67 977.1,-817.18 983.37,-814.07\"/>\n",
       "</g>\n",
       "<!-- 135855189476880 -->\n",
       "<g id=\"node20\" class=\"node\">\n",
       "<title>135855189476880</title>\n",
       "<polygon fill=\"lightgrey\" stroke=\"black\" points=\"1112,-922 957,-922 957,-903 1112,-903 1112,-922\"/>\n",
       "<text text-anchor=\"middle\" x=\"1034.5\" y=\"-910\" font-family=\"monospace\" font-size=\"10.00\">CudnnBatchNormBackward0</text>\n",
       "</g>\n",
       "<!-- 135855189476880&#45;&gt;135855189476784 -->\n",
       "<g id=\"edge18\" class=\"edge\">\n",
       "<title>135855189476880&#45;&gt;135855189476784</title>\n",
       "<path fill=\"none\" stroke=\"black\" d=\"M1028.89,-902.75C1024.18,-895.42 1017.33,-884.73 1011.53,-875.7\"/>\n",
       "<polygon fill=\"black\" stroke=\"black\" points=\"1014.36,-873.62 1006.01,-867.09 1008.46,-877.4 1014.36,-873.62\"/>\n",
       "</g>\n",
       "<!-- 135855189476976 -->\n",
       "<g id=\"node21\" class=\"node\">\n",
       "<title>135855189476976</title>\n",
       "<polygon fill=\"lightgrey\" stroke=\"black\" points=\"1052,-977 915,-977 915,-958 1052,-958 1052,-977\"/>\n",
       "<text text-anchor=\"middle\" x=\"983.5\" y=\"-965\" font-family=\"monospace\" font-size=\"10.00\">ConvolutionBackward0</text>\n",
       "</g>\n",
       "<!-- 135855189476976&#45;&gt;135855189476880 -->\n",
       "<g id=\"edge19\" class=\"edge\">\n",
       "<title>135855189476976&#45;&gt;135855189476880</title>\n",
       "<path fill=\"none\" stroke=\"black\" d=\"M991.92,-957.75C999.27,-950.11 1010.13,-938.82 1019.04,-929.56\"/>\n",
       "<polygon fill=\"black\" stroke=\"black\" points=\"1021.82,-931.72 1026.24,-922.09 1016.78,-926.87 1021.82,-931.72\"/>\n",
       "</g>\n",
       "<!-- 135855189477168 -->\n",
       "<g id=\"node22\" class=\"node\">\n",
       "<title>135855189477168</title>\n",
       "<polygon fill=\"lightgrey\" stroke=\"black\" points=\"878,-1037.5 789,-1037.5 789,-1018.5 878,-1018.5 878,-1037.5\"/>\n",
       "<text text-anchor=\"middle\" x=\"833.5\" y=\"-1025.5\" font-family=\"monospace\" font-size=\"10.00\">AddBackward0</text>\n",
       "</g>\n",
       "<!-- 135855189477168&#45;&gt;135855189476976 -->\n",
       "<g id=\"edge20\" class=\"edge\">\n",
       "<title>135855189477168&#45;&gt;135855189476976</title>\n",
       "<path fill=\"none\" stroke=\"black\" d=\"M855.31,-1018.49C880.75,-1008.57 923.01,-992.09 952.01,-980.78\"/>\n",
       "<polygon fill=\"black\" stroke=\"black\" points=\"953.62,-983.91 961.66,-977.02 951.07,-977.39 953.62,-983.91\"/>\n",
       "</g>\n",
       "<!-- 135855189476352 -->\n",
       "<g id=\"node102\" class=\"node\">\n",
       "<title>135855189476352</title>\n",
       "<polygon fill=\"lightgrey\" stroke=\"black\" points=\"846,-977 709,-977 709,-958 846,-958 846,-977\"/>\n",
       "<text text-anchor=\"middle\" x=\"777.5\" y=\"-965\" font-family=\"monospace\" font-size=\"10.00\">ConvolutionBackward0</text>\n",
       "</g>\n",
       "<!-- 135855189477168&#45;&gt;135855189476352 -->\n",
       "<g id=\"edge102\" class=\"edge\">\n",
       "<title>135855189477168&#45;&gt;135855189476352</title>\n",
       "<path fill=\"none\" stroke=\"black\" d=\"M825.24,-1018.37C816.72,-1009.47 803.24,-995.39 792.77,-984.45\"/>\n",
       "<polygon fill=\"black\" stroke=\"black\" points=\"795.24,-981.97 785.8,-977.17 790.18,-986.81 795.24,-981.97\"/>\n",
       "</g>\n",
       "<!-- 135855189477360 -->\n",
       "<g id=\"node23\" class=\"node\">\n",
       "<title>135855189477360</title>\n",
       "<polygon fill=\"lightgrey\" stroke=\"black\" points=\"917,-1103.5 792,-1103.5 792,-1084.5 917,-1084.5 917,-1103.5\"/>\n",
       "<text text-anchor=\"middle\" x=\"854.5\" y=\"-1091.5\" font-family=\"monospace\" font-size=\"10.00\">LeakyReluBackward0</text>\n",
       "</g>\n",
       "<!-- 135855189477360&#45;&gt;135855189477168 -->\n",
       "<g id=\"edge21\" class=\"edge\">\n",
       "<title>135855189477360&#45;&gt;135855189477168</title>\n",
       "<path fill=\"none\" stroke=\"black\" d=\"M851.67,-1084.37C848.59,-1074.97 843.56,-1059.67 839.58,-1047.53\"/>\n",
       "<polygon fill=\"black\" stroke=\"black\" points=\"842.87,-1046.32 836.42,-1037.91 836.21,-1048.5 842.87,-1046.32\"/>\n",
       "</g>\n",
       "<!-- 135855189477504 -->\n",
       "<g id=\"node24\" class=\"node\">\n",
       "<title>135855189477504</title>\n",
       "<polygon fill=\"lightgrey\" stroke=\"black\" points=\"1005,-1164 856,-1164 856,-1145 1005,-1145 1005,-1164\"/>\n",
       "<text text-anchor=\"middle\" x=\"930.5\" y=\"-1152\" font-family=\"monospace\" font-size=\"10.00\">NativeDropoutBackward0</text>\n",
       "</g>\n",
       "<!-- 135855189477504&#45;&gt;135855189477360 -->\n",
       "<g id=\"edge22\" class=\"edge\">\n",
       "<title>135855189477504&#45;&gt;135855189477360</title>\n",
       "<path fill=\"none\" stroke=\"black\" d=\"M919.29,-1144.87C907.39,-1135.71 888.36,-1121.06 873.99,-1110.01\"/>\n",
       "<polygon fill=\"black\" stroke=\"black\" points=\"875.82,-1106.99 865.76,-1103.67 871.55,-1112.54 875.82,-1106.99\"/>\n",
       "</g>\n",
       "<!-- 135855189477600 -->\n",
       "<g id=\"node25\" class=\"node\">\n",
       "<title>135855189477600</title>\n",
       "<polygon fill=\"lightgrey\" stroke=\"black\" points=\"1189,-1219 1034,-1219 1034,-1200 1189,-1200 1189,-1219\"/>\n",
       "<text text-anchor=\"middle\" x=\"1111.5\" y=\"-1207\" font-family=\"monospace\" font-size=\"10.00\">CudnnBatchNormBackward0</text>\n",
       "</g>\n",
       "<!-- 135855189477600&#45;&gt;135855189477504 -->\n",
       "<g id=\"edge23\" class=\"edge\">\n",
       "<title>135855189477600&#45;&gt;135855189477504</title>\n",
       "<path fill=\"none\" stroke=\"black\" d=\"M1082.42,-1199.98C1051.9,-1191.05 1003.74,-1176.94 969.84,-1167.02\"/>\n",
       "<polygon fill=\"black\" stroke=\"black\" points=\"970.39,-1163.53 959.81,-1164.08 968.42,-1170.25 970.39,-1163.53\"/>\n",
       "</g>\n",
       "<!-- 135855189477696 -->\n",
       "<g id=\"node26\" class=\"node\">\n",
       "<title>135855189477696</title>\n",
       "<polygon fill=\"lightgrey\" stroke=\"black\" points=\"1112,-1274 975,-1274 975,-1255 1112,-1255 1112,-1274\"/>\n",
       "<text text-anchor=\"middle\" x=\"1043.5\" y=\"-1262\" font-family=\"monospace\" font-size=\"10.00\">ConvolutionBackward0</text>\n",
       "</g>\n",
       "<!-- 135855189477696&#45;&gt;135855189477600 -->\n",
       "<g id=\"edge24\" class=\"edge\">\n",
       "<title>135855189477696&#45;&gt;135855189477600</title>\n",
       "<path fill=\"none\" stroke=\"black\" d=\"M1054.43,-1254.98C1064.58,-1247.07 1079.92,-1235.11 1092.15,-1225.58\"/>\n",
       "<polygon fill=\"black\" stroke=\"black\" points=\"1094.64,-1228.08 1100.38,-1219.17 1090.34,-1222.56 1094.64,-1228.08\"/>\n",
       "</g>\n",
       "<!-- 135855189477888 -->\n",
       "<g id=\"node27\" class=\"node\">\n",
       "<title>135855189477888</title>\n",
       "<polygon fill=\"lightgrey\" stroke=\"black\" points=\"959,-1334.5 834,-1334.5 834,-1315.5 959,-1315.5 959,-1334.5\"/>\n",
       "<text text-anchor=\"middle\" x=\"896.5\" y=\"-1322.5\" font-family=\"monospace\" font-size=\"10.00\">LeakyReluBackward0</text>\n",
       "</g>\n",
       "<!-- 135855189477888&#45;&gt;135855189477696 -->\n",
       "<g id=\"edge25\" class=\"edge\">\n",
       "<title>135855189477888&#45;&gt;135855189477696</title>\n",
       "<path fill=\"none\" stroke=\"black\" d=\"M917.88,-1315.49C942.81,-1305.57 984.22,-1289.09 1012.64,-1277.78\"/>\n",
       "<polygon fill=\"black\" stroke=\"black\" points=\"1014.1,-1280.97 1022.1,-1274.02 1011.51,-1274.46 1014.1,-1280.97\"/>\n",
       "</g>\n",
       "<!-- 135855189478080 -->\n",
       "<g id=\"node28\" class=\"node\">\n",
       "<title>135855189478080</title>\n",
       "<polygon fill=\"lightgrey\" stroke=\"black\" points=\"967,-1400.5 818,-1400.5 818,-1381.5 967,-1381.5 967,-1400.5\"/>\n",
       "<text text-anchor=\"middle\" x=\"892.5\" y=\"-1388.5\" font-family=\"monospace\" font-size=\"10.00\">NativeDropoutBackward0</text>\n",
       "</g>\n",
       "<!-- 135855189478080&#45;&gt;135855189477888 -->\n",
       "<g id=\"edge26\" class=\"edge\">\n",
       "<title>135855189478080&#45;&gt;135855189477888</title>\n",
       "<path fill=\"none\" stroke=\"black\" d=\"M893.04,-1381.37C893.62,-1372.07 894.56,-1356.98 895.32,-1344.9\"/>\n",
       "<polygon fill=\"black\" stroke=\"black\" points=\"898.81,-1345.1 895.94,-1334.91 891.83,-1344.67 898.81,-1345.1\"/>\n",
       "</g>\n",
       "<!-- 135855189478176 -->\n",
       "<g id=\"node29\" class=\"node\">\n",
       "<title>135855189478176</title>\n",
       "<polygon fill=\"lightgrey\" stroke=\"black\" points=\"1019,-1461 828,-1461 828,-1442 1019,-1442 1019,-1461\"/>\n",
       "<text text-anchor=\"middle\" x=\"923.5\" y=\"-1449\" font-family=\"monospace\" font-size=\"10.00\">MaxPool2DWithIndicesBackward0</text>\n",
       "</g>\n",
       "<!-- 135855189478176&#45;&gt;135855189478080 -->\n",
       "<g id=\"edge27\" class=\"edge\">\n",
       "<title>135855189478176&#45;&gt;135855189478080</title>\n",
       "<path fill=\"none\" stroke=\"black\" d=\"M918.93,-1441.87C914.44,-1433.4 907.47,-1420.24 901.81,-1409.57\"/>\n",
       "<polygon fill=\"black\" stroke=\"black\" points=\"904.87,-1407.86 897.09,-1400.67 898.68,-1411.14 904.87,-1407.86\"/>\n",
       "</g>\n",
       "<!-- 135855189478272 -->\n",
       "<g id=\"node30\" class=\"node\">\n",
       "<title>135855189478272</title>\n",
       "<polygon fill=\"lightgrey\" stroke=\"black\" points=\"1035,-1516 880,-1516 880,-1497 1035,-1497 1035,-1516\"/>\n",
       "<text text-anchor=\"middle\" x=\"957.5\" y=\"-1504\" font-family=\"monospace\" font-size=\"10.00\">CudnnBatchNormBackward0</text>\n",
       "</g>\n",
       "<!-- 135855189478272&#45;&gt;135855189478176 -->\n",
       "<g id=\"edge28\" class=\"edge\">\n",
       "<title>135855189478272&#45;&gt;135855189478176</title>\n",
       "<path fill=\"none\" stroke=\"black\" d=\"M951.89,-1496.75C947.18,-1489.42 940.33,-1478.73 934.53,-1469.7\"/>\n",
       "<polygon fill=\"black\" stroke=\"black\" points=\"937.36,-1467.62 929.01,-1461.09 931.46,-1471.4 937.36,-1467.62\"/>\n",
       "</g>\n",
       "<!-- 135855189478368 -->\n",
       "<g id=\"node31\" class=\"node\">\n",
       "<title>135855189478368</title>\n",
       "<polygon fill=\"lightgrey\" stroke=\"black\" points=\"978,-1571 841,-1571 841,-1552 978,-1552 978,-1571\"/>\n",
       "<text text-anchor=\"middle\" x=\"909.5\" y=\"-1559\" font-family=\"monospace\" font-size=\"10.00\">ConvolutionBackward0</text>\n",
       "</g>\n",
       "<!-- 135855189478368&#45;&gt;135855189478272 -->\n",
       "<g id=\"edge29\" class=\"edge\">\n",
       "<title>135855189478368&#45;&gt;135855189478272</title>\n",
       "<path fill=\"none\" stroke=\"black\" d=\"M917.43,-1551.75C924.35,-1544.11 934.57,-1532.82 942.95,-1523.56\"/>\n",
       "<polygon fill=\"black\" stroke=\"black\" points=\"945.6,-1525.85 949.72,-1516.09 940.41,-1521.15 945.6,-1525.85\"/>\n",
       "</g>\n",
       "<!-- 135855189478560 -->\n",
       "<g id=\"node32\" class=\"node\">\n",
       "<title>135855189478560</title>\n",
       "<polygon fill=\"lightgrey\" stroke=\"black\" points=\"771,-1631.5 682,-1631.5 682,-1612.5 771,-1612.5 771,-1631.5\"/>\n",
       "<text text-anchor=\"middle\" x=\"726.5\" y=\"-1619.5\" font-family=\"monospace\" font-size=\"10.00\">AddBackward0</text>\n",
       "</g>\n",
       "<!-- 135855189478560&#45;&gt;135855189478368 -->\n",
       "<g id=\"edge30\" class=\"edge\">\n",
       "<title>135855189478560&#45;&gt;135855189478368</title>\n",
       "<path fill=\"none\" stroke=\"black\" d=\"M753.11,-1612.49C784.69,-1602.4 837.51,-1585.51 872.92,-1574.19\"/>\n",
       "<polygon fill=\"black\" stroke=\"black\" points=\"874.4,-1577.4 882.86,-1571.02 872.27,-1570.73 874.4,-1577.4\"/>\n",
       "</g>\n",
       "<!-- 135855189477744 -->\n",
       "<g id=\"node80\" class=\"node\">\n",
       "<title>135855189477744</title>\n",
       "<polygon fill=\"lightgrey\" stroke=\"black\" points=\"753,-1571 616,-1571 616,-1552 753,-1552 753,-1571\"/>\n",
       "<text text-anchor=\"middle\" x=\"684.5\" y=\"-1559\" font-family=\"monospace\" font-size=\"10.00\">ConvolutionBackward0</text>\n",
       "</g>\n",
       "<!-- 135855189478560&#45;&gt;135855189477744 -->\n",
       "<g id=\"edge79\" class=\"edge\">\n",
       "<title>135855189478560&#45;&gt;135855189477744</title>\n",
       "<path fill=\"none\" stroke=\"black\" d=\"M720.3,-1612.37C714.1,-1603.73 704.39,-1590.2 696.64,-1579.42\"/>\n",
       "<polygon fill=\"black\" stroke=\"black\" points=\"699.4,-1577.25 690.72,-1571.17 693.71,-1581.33 699.4,-1577.25\"/>\n",
       "</g>\n",
       "<!-- 135855189478752 -->\n",
       "<g id=\"node33\" class=\"node\">\n",
       "<title>135855189478752</title>\n",
       "<polygon fill=\"lightgrey\" stroke=\"black\" points=\"700,-1697.5 605,-1697.5 605,-1678.5 700,-1678.5 700,-1697.5\"/>\n",
       "<text text-anchor=\"middle\" x=\"652.5\" y=\"-1685.5\" font-family=\"monospace\" font-size=\"10.00\">ReluBackward0</text>\n",
       "</g>\n",
       "<!-- 135855189478752&#45;&gt;135855189478560 -->\n",
       "<g id=\"edge31\" class=\"edge\">\n",
       "<title>135855189478752&#45;&gt;135855189478560</title>\n",
       "<path fill=\"none\" stroke=\"black\" d=\"M662.48,-1678.37C674.22,-1668.21 693.94,-1651.16 708.4,-1638.65\"/>\n",
       "<polygon fill=\"black\" stroke=\"black\" points=\"710.93,-1641.09 716.2,-1631.91 706.35,-1635.8 710.93,-1641.09\"/>\n",
       "</g>\n",
       "<!-- 135855189478896 -->\n",
       "<g id=\"node34\" class=\"node\">\n",
       "<title>135855189478896</title>\n",
       "<polygon fill=\"lightgrey\" stroke=\"black\" points=\"726,-1758 577,-1758 577,-1739 726,-1739 726,-1758\"/>\n",
       "<text text-anchor=\"middle\" x=\"651.5\" y=\"-1746\" font-family=\"monospace\" font-size=\"10.00\">NativeDropoutBackward0</text>\n",
       "</g>\n",
       "<!-- 135855189478896&#45;&gt;135855189478752 -->\n",
       "<g id=\"edge32\" class=\"edge\">\n",
       "<title>135855189478896&#45;&gt;135855189478752</title>\n",
       "<path fill=\"none\" stroke=\"black\" d=\"M651.65,-1738.87C651.79,-1730.75 652,-1718.31 652.18,-1707.89\"/>\n",
       "<polygon fill=\"black\" stroke=\"black\" points=\"655.68,-1707.73 652.35,-1697.67 648.68,-1707.61 655.68,-1707.73\"/>\n",
       "</g>\n",
       "<!-- 135855189478992 -->\n",
       "<g id=\"node35\" class=\"node\">\n",
       "<title>135855189478992</title>\n",
       "<polygon fill=\"lightgrey\" stroke=\"black\" points=\"744,-1813 553,-1813 553,-1794 744,-1794 744,-1813\"/>\n",
       "<text text-anchor=\"middle\" x=\"648.5\" y=\"-1801\" font-family=\"monospace\" font-size=\"10.00\">MaxPool2DWithIndicesBackward0</text>\n",
       "</g>\n",
       "<!-- 135855189478992&#45;&gt;135855189478896 -->\n",
       "<g id=\"edge33\" class=\"edge\">\n",
       "<title>135855189478992&#45;&gt;135855189478896</title>\n",
       "<path fill=\"none\" stroke=\"black\" d=\"M649,-1793.75C649.39,-1786.8 649.95,-1776.85 650.45,-1768.13\"/>\n",
       "<polygon fill=\"black\" stroke=\"black\" points=\"653.94,-1768.27 651.01,-1758.09 646.95,-1767.88 653.94,-1768.27\"/>\n",
       "</g>\n",
       "<!-- 135855189479088 -->\n",
       "<g id=\"node36\" class=\"node\">\n",
       "<title>135855189479088</title>\n",
       "<polygon fill=\"lightgrey\" stroke=\"black\" points=\"724,-1873.5 569,-1873.5 569,-1854.5 724,-1854.5 724,-1873.5\"/>\n",
       "<text text-anchor=\"middle\" x=\"646.5\" y=\"-1861.5\" font-family=\"monospace\" font-size=\"10.00\">CudnnBatchNormBackward0</text>\n",
       "</g>\n",
       "<!-- 135855189479088&#45;&gt;135855189478992 -->\n",
       "<g id=\"edge34\" class=\"edge\">\n",
       "<title>135855189479088&#45;&gt;135855189478992</title>\n",
       "<path fill=\"none\" stroke=\"black\" d=\"M646.8,-1854.37C647.07,-1846.25 647.5,-1833.81 647.85,-1823.39\"/>\n",
       "<polygon fill=\"black\" stroke=\"black\" points=\"651.36,-1823.28 648.2,-1813.17 644.36,-1823.04 651.36,-1823.28\"/>\n",
       "</g>\n",
       "<!-- 135855189479184 -->\n",
       "<g id=\"node37\" class=\"node\">\n",
       "<title>135855189479184</title>\n",
       "<polygon fill=\"lightgrey\" stroke=\"black\" points=\"541,-1934 404,-1934 404,-1915 541,-1915 541,-1934\"/>\n",
       "<text text-anchor=\"middle\" x=\"472.5\" y=\"-1922\" font-family=\"monospace\" font-size=\"10.00\">ConvolutionBackward0</text>\n",
       "</g>\n",
       "<!-- 135855189479184&#45;&gt;135855189479088 -->\n",
       "<g id=\"edge35\" class=\"edge\">\n",
       "<title>135855189479184&#45;&gt;135855189479088</title>\n",
       "<path fill=\"none\" stroke=\"black\" d=\"M497.8,-1914.99C527.7,-1904.94 577.62,-1888.16 611.28,-1876.84\"/>\n",
       "<polygon fill=\"black\" stroke=\"black\" points=\"612.81,-1880.02 621.17,-1873.52 610.57,-1873.39 612.81,-1880.02\"/>\n",
       "</g>\n",
       "<!-- 135855189479376 -->\n",
       "<g id=\"node38\" class=\"node\">\n",
       "<title>135855189479376</title>\n",
       "<polygon fill=\"lightgrey\" stroke=\"black\" points=\"353,-1994.5 258,-1994.5 258,-1975.5 353,-1975.5 353,-1994.5\"/>\n",
       "<text text-anchor=\"middle\" x=\"305.5\" y=\"-1982.5\" font-family=\"monospace\" font-size=\"10.00\">ReluBackward0</text>\n",
       "</g>\n",
       "<!-- 135855189479376&#45;&gt;135855189479184 -->\n",
       "<g id=\"edge36\" class=\"edge\">\n",
       "<title>135855189479376&#45;&gt;135855189479184</title>\n",
       "<path fill=\"none\" stroke=\"black\" d=\"M329.78,-1975.49C358.48,-1965.44 406.39,-1948.66 438.7,-1937.34\"/>\n",
       "<polygon fill=\"black\" stroke=\"black\" points=\"439.91,-1940.63 448.19,-1934.02 437.59,-1934.02 439.91,-1940.63\"/>\n",
       "</g>\n",
       "<!-- 135855189479568 -->\n",
       "<g id=\"node39\" class=\"node\">\n",
       "<title>135855189479568</title>\n",
       "<polygon fill=\"lightgrey\" stroke=\"black\" points=\"369,-2060.5 214,-2060.5 214,-2041.5 369,-2041.5 369,-2060.5\"/>\n",
       "<text text-anchor=\"middle\" x=\"291.5\" y=\"-2048.5\" font-family=\"monospace\" font-size=\"10.00\">CudnnBatchNormBackward0</text>\n",
       "</g>\n",
       "<!-- 135855189479568&#45;&gt;135855189479376 -->\n",
       "<g id=\"edge37\" class=\"edge\">\n",
       "<title>135855189479568&#45;&gt;135855189479376</title>\n",
       "<path fill=\"none\" stroke=\"black\" d=\"M293.39,-2041.37C295.42,-2032.07 298.72,-2016.98 301.37,-2004.9\"/>\n",
       "<polygon fill=\"black\" stroke=\"black\" points=\"304.83,-2005.42 303.55,-1994.91 298,-2003.93 304.83,-2005.42\"/>\n",
       "</g>\n",
       "<!-- 135855189479664 -->\n",
       "<g id=\"node40\" class=\"node\">\n",
       "<title>135855189479664</title>\n",
       "<polygon fill=\"lightgrey\" stroke=\"black\" points=\"223,-2121 86,-2121 86,-2102 223,-2102 223,-2121\"/>\n",
       "<text text-anchor=\"middle\" x=\"154.5\" y=\"-2109\" font-family=\"monospace\" font-size=\"10.00\">ConvolutionBackward0</text>\n",
       "</g>\n",
       "<!-- 135855189479664&#45;&gt;135855189479568 -->\n",
       "<g id=\"edge38\" class=\"edge\">\n",
       "<title>135855189479664&#45;&gt;135855189479568</title>\n",
       "<path fill=\"none\" stroke=\"black\" d=\"M174.42,-2101.99C197.45,-2092.16 235.58,-2075.88 262.04,-2064.58\"/>\n",
       "<polygon fill=\"black\" stroke=\"black\" points=\"263.73,-2067.66 271.55,-2060.52 260.98,-2061.22 263.73,-2067.66\"/>\n",
       "</g>\n",
       "<!-- 135855189479856 -->\n",
       "<g id=\"node41\" class=\"node\">\n",
       "<title>135855189479856</title>\n",
       "<polygon fill=\"lightgrey\" stroke=\"black\" points=\"101,-2181.5 0,-2181.5 0,-2162.5 101,-2162.5 101,-2181.5\"/>\n",
       "<text text-anchor=\"middle\" x=\"50.5\" y=\"-2169.5\" font-family=\"monospace\" font-size=\"10.00\">AccumulateGrad</text>\n",
       "</g>\n",
       "<!-- 135855189479856&#45;&gt;135855189479664 -->\n",
       "<g id=\"edge39\" class=\"edge\">\n",
       "<title>135855189479856&#45;&gt;135855189479664</title>\n",
       "<path fill=\"none\" stroke=\"black\" d=\"M65.85,-2162.37C82.82,-2152.82 110.4,-2137.31 130.29,-2126.12\"/>\n",
       "<polygon fill=\"black\" stroke=\"black\" points=\"132.09,-2129.12 139.09,-2121.17 128.66,-2123.02 132.09,-2129.12\"/>\n",
       "</g>\n",
       "<!-- 135855190454608 -->\n",
       "<g id=\"node42\" class=\"node\">\n",
       "<title>135855190454608</title>\n",
       "<polygon fill=\"lightblue\" stroke=\"black\" points=\"101,-2253 0,-2253 0,-2223 101,-2223 101,-2253\"/>\n",
       "<text text-anchor=\"middle\" x=\"50.5\" y=\"-2241\" font-family=\"monospace\" font-size=\"10.00\">conv1.weight</text>\n",
       "<text text-anchor=\"middle\" x=\"50.5\" y=\"-2230\" font-family=\"monospace\" font-size=\"10.00\"> (32, 3, 3, 3)</text>\n",
       "</g>\n",
       "<!-- 135855190454608&#45;&gt;135855189479856 -->\n",
       "<g id=\"edge40\" class=\"edge\">\n",
       "<title>135855190454608&#45;&gt;135855189479856</title>\n",
       "<path fill=\"none\" stroke=\"black\" d=\"M50.5,-2222.8C50.5,-2213.7 50.5,-2201.79 50.5,-2191.9\"/>\n",
       "<polygon fill=\"black\" stroke=\"black\" points=\"54,-2191.84 50.5,-2181.84 47,-2191.84 54,-2191.84\"/>\n",
       "</g>\n",
       "<!-- 135855189479808 -->\n",
       "<g id=\"node43\" class=\"node\">\n",
       "<title>135855189479808</title>\n",
       "<polygon fill=\"lightgrey\" stroke=\"black\" points=\"220,-2181.5 119,-2181.5 119,-2162.5 220,-2162.5 220,-2181.5\"/>\n",
       "<text text-anchor=\"middle\" x=\"169.5\" y=\"-2169.5\" font-family=\"monospace\" font-size=\"10.00\">AccumulateGrad</text>\n",
       "</g>\n",
       "<!-- 135855189479808&#45;&gt;135855189479664 -->\n",
       "<g id=\"edge41\" class=\"edge\">\n",
       "<title>135855189479808&#45;&gt;135855189479664</title>\n",
       "<path fill=\"none\" stroke=\"black\" d=\"M167.29,-2162.37C165.18,-2154.16 161.95,-2141.54 159.26,-2131.05\"/>\n",
       "<polygon fill=\"black\" stroke=\"black\" points=\"162.6,-2129.98 156.72,-2121.17 155.82,-2131.72 162.6,-2129.98\"/>\n",
       "</g>\n",
       "<!-- 135855190452288 -->\n",
       "<g id=\"node44\" class=\"node\">\n",
       "<title>135855190452288</title>\n",
       "<polygon fill=\"lightblue\" stroke=\"black\" points=\"208,-2253 131,-2253 131,-2223 208,-2223 208,-2253\"/>\n",
       "<text text-anchor=\"middle\" x=\"169.5\" y=\"-2241\" font-family=\"monospace\" font-size=\"10.00\">conv1.bias</text>\n",
       "<text text-anchor=\"middle\" x=\"169.5\" y=\"-2230\" font-family=\"monospace\" font-size=\"10.00\"> (32)</text>\n",
       "</g>\n",
       "<!-- 135855190452288&#45;&gt;135855189479808 -->\n",
       "<g id=\"edge42\" class=\"edge\">\n",
       "<title>135855190452288&#45;&gt;135855189479808</title>\n",
       "<path fill=\"none\" stroke=\"black\" d=\"M169.5,-2222.8C169.5,-2213.7 169.5,-2201.79 169.5,-2191.9\"/>\n",
       "<polygon fill=\"black\" stroke=\"black\" points=\"173,-2191.84 169.5,-2181.84 166,-2191.84 173,-2191.84\"/>\n",
       "</g>\n",
       "<!-- 135855189479616 -->\n",
       "<g id=\"node45\" class=\"node\">\n",
       "<title>135855189479616</title>\n",
       "<polygon fill=\"lightgrey\" stroke=\"black\" points=\"342,-2121 241,-2121 241,-2102 342,-2102 342,-2121\"/>\n",
       "<text text-anchor=\"middle\" x=\"291.5\" y=\"-2109\" font-family=\"monospace\" font-size=\"10.00\">AccumulateGrad</text>\n",
       "</g>\n",
       "<!-- 135855189479616&#45;&gt;135855189479568 -->\n",
       "<g id=\"edge43\" class=\"edge\">\n",
       "<title>135855189479616&#45;&gt;135855189479568</title>\n",
       "<path fill=\"none\" stroke=\"black\" d=\"M291.5,-2101.87C291.5,-2093.75 291.5,-2081.31 291.5,-2070.89\"/>\n",
       "<polygon fill=\"black\" stroke=\"black\" points=\"295,-2070.67 291.5,-2060.67 288,-2070.67 295,-2070.67\"/>\n",
       "</g>\n",
       "<!-- 135855269425408 -->\n",
       "<g id=\"node46\" class=\"node\">\n",
       "<title>135855269425408</title>\n",
       "<polygon fill=\"lightblue\" stroke=\"black\" points=\"330,-2187 253,-2187 253,-2157 330,-2157 330,-2187\"/>\n",
       "<text text-anchor=\"middle\" x=\"291.5\" y=\"-2175\" font-family=\"monospace\" font-size=\"10.00\">bn1.weight</text>\n",
       "<text text-anchor=\"middle\" x=\"291.5\" y=\"-2164\" font-family=\"monospace\" font-size=\"10.00\"> (32)</text>\n",
       "</g>\n",
       "<!-- 135855269425408&#45;&gt;135855189479616 -->\n",
       "<g id=\"edge44\" class=\"edge\">\n",
       "<title>135855269425408&#45;&gt;135855189479616</title>\n",
       "<path fill=\"none\" stroke=\"black\" d=\"M291.5,-2156.84C291.5,-2149.21 291.5,-2139.7 291.5,-2131.45\"/>\n",
       "<polygon fill=\"black\" stroke=\"black\" points=\"295,-2131.27 291.5,-2121.27 288,-2131.27 295,-2131.27\"/>\n",
       "</g>\n",
       "<!-- 135855189479472 -->\n",
       "<g id=\"node47\" class=\"node\">\n",
       "<title>135855189479472</title>\n",
       "<polygon fill=\"lightgrey\" stroke=\"black\" points=\"461,-2121 360,-2121 360,-2102 461,-2102 461,-2121\"/>\n",
       "<text text-anchor=\"middle\" x=\"410.5\" y=\"-2109\" font-family=\"monospace\" font-size=\"10.00\">AccumulateGrad</text>\n",
       "</g>\n",
       "<!-- 135855189479472&#45;&gt;135855189479568 -->\n",
       "<g id=\"edge45\" class=\"edge\">\n",
       "<title>135855189479472&#45;&gt;135855189479568</title>\n",
       "<path fill=\"none\" stroke=\"black\" d=\"M393.2,-2101.99C373.45,-2092.29 340.95,-2076.31 318.01,-2065.03\"/>\n",
       "<polygon fill=\"black\" stroke=\"black\" points=\"319.34,-2061.79 308.82,-2060.52 316.25,-2068.07 319.34,-2061.79\"/>\n",
       "</g>\n",
       "<!-- 135855275148208 -->\n",
       "<g id=\"node48\" class=\"node\">\n",
       "<title>135855275148208</title>\n",
       "<polygon fill=\"lightblue\" stroke=\"black\" points=\"443,-2187 378,-2187 378,-2157 443,-2157 443,-2187\"/>\n",
       "<text text-anchor=\"middle\" x=\"410.5\" y=\"-2175\" font-family=\"monospace\" font-size=\"10.00\">bn1.bias</text>\n",
       "<text text-anchor=\"middle\" x=\"410.5\" y=\"-2164\" font-family=\"monospace\" font-size=\"10.00\"> (32)</text>\n",
       "</g>\n",
       "<!-- 135855275148208&#45;&gt;135855189479472 -->\n",
       "<g id=\"edge46\" class=\"edge\">\n",
       "<title>135855275148208&#45;&gt;135855189479472</title>\n",
       "<path fill=\"none\" stroke=\"black\" d=\"M410.5,-2156.84C410.5,-2149.21 410.5,-2139.7 410.5,-2131.45\"/>\n",
       "<polygon fill=\"black\" stroke=\"black\" points=\"414,-2131.27 410.5,-2121.27 407,-2131.27 414,-2131.27\"/>\n",
       "</g>\n",
       "<!-- 135855189479328 -->\n",
       "<g id=\"node49\" class=\"node\">\n",
       "<title>135855189479328</title>\n",
       "<polygon fill=\"lightgrey\" stroke=\"black\" points=\"486,-1994.5 385,-1994.5 385,-1975.5 486,-1975.5 486,-1994.5\"/>\n",
       "<text text-anchor=\"middle\" x=\"435.5\" y=\"-1982.5\" font-family=\"monospace\" font-size=\"10.00\">AccumulateGrad</text>\n",
       "</g>\n",
       "<!-- 135855189479328&#45;&gt;135855189479184 -->\n",
       "<g id=\"edge47\" class=\"edge\">\n",
       "<title>135855189479328&#45;&gt;135855189479184</title>\n",
       "<path fill=\"none\" stroke=\"black\" d=\"M440.96,-1975.37C446.37,-1966.81 454.81,-1953.47 461.6,-1942.74\"/>\n",
       "<polygon fill=\"black\" stroke=\"black\" points=\"464.63,-1944.49 467.02,-1934.17 458.71,-1940.75 464.63,-1944.49\"/>\n",
       "</g>\n",
       "<!-- 135855190457248 -->\n",
       "<g id=\"node50\" class=\"node\">\n",
       "<title>135855190457248</title>\n",
       "<polygon fill=\"lightblue\" stroke=\"black\" points=\"494,-2066 387,-2066 387,-2036 494,-2036 494,-2066\"/>\n",
       "<text text-anchor=\"middle\" x=\"440.5\" y=\"-2054\" font-family=\"monospace\" font-size=\"10.00\">conv2.weight</text>\n",
       "<text text-anchor=\"middle\" x=\"440.5\" y=\"-2043\" font-family=\"monospace\" font-size=\"10.00\"> (64, 32, 3, 3)</text>\n",
       "</g>\n",
       "<!-- 135855190457248&#45;&gt;135855189479328 -->\n",
       "<g id=\"edge48\" class=\"edge\">\n",
       "<title>135855190457248&#45;&gt;135855189479328</title>\n",
       "<path fill=\"none\" stroke=\"black\" d=\"M439.39,-2035.8C438.68,-2026.7 437.75,-2014.79 436.98,-2004.9\"/>\n",
       "<polygon fill=\"black\" stroke=\"black\" points=\"440.46,-2004.54 436.19,-1994.84 433.48,-2005.09 440.46,-2004.54\"/>\n",
       "</g>\n",
       "<!-- 135855189479280 -->\n",
       "<g id=\"node51\" class=\"node\">\n",
       "<title>135855189479280</title>\n",
       "<polygon fill=\"lightgrey\" stroke=\"black\" points=\"605,-1994.5 504,-1994.5 504,-1975.5 605,-1975.5 605,-1994.5\"/>\n",
       "<text text-anchor=\"middle\" x=\"554.5\" y=\"-1982.5\" font-family=\"monospace\" font-size=\"10.00\">AccumulateGrad</text>\n",
       "</g>\n",
       "<!-- 135855189479280&#45;&gt;135855189479184 -->\n",
       "<g id=\"edge49\" class=\"edge\">\n",
       "<title>135855189479280&#45;&gt;135855189479184</title>\n",
       "<path fill=\"none\" stroke=\"black\" d=\"M542.4,-1975.37C529.44,-1966.12 508.64,-1951.28 493.1,-1940.19\"/>\n",
       "<polygon fill=\"black\" stroke=\"black\" points=\"494.82,-1937.13 484.65,-1934.17 490.76,-1942.82 494.82,-1937.13\"/>\n",
       "</g>\n",
       "<!-- 135855190450208 -->\n",
       "<g id=\"node52\" class=\"node\">\n",
       "<title>135855190450208</title>\n",
       "<polygon fill=\"lightblue\" stroke=\"black\" points=\"593,-2066 516,-2066 516,-2036 593,-2036 593,-2066\"/>\n",
       "<text text-anchor=\"middle\" x=\"554.5\" y=\"-2054\" font-family=\"monospace\" font-size=\"10.00\">conv2.bias</text>\n",
       "<text text-anchor=\"middle\" x=\"554.5\" y=\"-2043\" font-family=\"monospace\" font-size=\"10.00\"> (64)</text>\n",
       "</g>\n",
       "<!-- 135855190450208&#45;&gt;135855189479280 -->\n",
       "<g id=\"edge50\" class=\"edge\">\n",
       "<title>135855190450208&#45;&gt;135855189479280</title>\n",
       "<path fill=\"none\" stroke=\"black\" d=\"M554.5,-2035.8C554.5,-2026.7 554.5,-2014.79 554.5,-2004.9\"/>\n",
       "<polygon fill=\"black\" stroke=\"black\" points=\"558,-2004.84 554.5,-1994.84 551,-2004.84 558,-2004.84\"/>\n",
       "</g>\n",
       "<!-- 135855189479136 -->\n",
       "<g id=\"node53\" class=\"node\">\n",
       "<title>135855189479136</title>\n",
       "<polygon fill=\"lightgrey\" stroke=\"black\" points=\"697,-1934 596,-1934 596,-1915 697,-1915 697,-1934\"/>\n",
       "<text text-anchor=\"middle\" x=\"646.5\" y=\"-1922\" font-family=\"monospace\" font-size=\"10.00\">AccumulateGrad</text>\n",
       "</g>\n",
       "<!-- 135855189479136&#45;&gt;135855189479088 -->\n",
       "<g id=\"edge51\" class=\"edge\">\n",
       "<title>135855189479136&#45;&gt;135855189479088</title>\n",
       "<path fill=\"none\" stroke=\"black\" d=\"M646.5,-1914.87C646.5,-1906.75 646.5,-1894.31 646.5,-1883.89\"/>\n",
       "<polygon fill=\"black\" stroke=\"black\" points=\"650,-1883.67 646.5,-1873.67 643,-1883.67 650,-1883.67\"/>\n",
       "</g>\n",
       "<!-- 135855190265744 -->\n",
       "<g id=\"node54\" class=\"node\">\n",
       "<title>135855190265744</title>\n",
       "<polygon fill=\"lightblue\" stroke=\"black\" points=\"700,-2000 623,-2000 623,-1970 700,-1970 700,-2000\"/>\n",
       "<text text-anchor=\"middle\" x=\"661.5\" y=\"-1988\" font-family=\"monospace\" font-size=\"10.00\">bn2.weight</text>\n",
       "<text text-anchor=\"middle\" x=\"661.5\" y=\"-1977\" font-family=\"monospace\" font-size=\"10.00\"> (64)</text>\n",
       "</g>\n",
       "<!-- 135855190265744&#45;&gt;135855189479136 -->\n",
       "<g id=\"edge52\" class=\"edge\">\n",
       "<title>135855190265744&#45;&gt;135855189479136</title>\n",
       "<path fill=\"none\" stroke=\"black\" d=\"M657.87,-1969.84C655.89,-1962.13 653.42,-1952.49 651.29,-1944.17\"/>\n",
       "<polygon fill=\"black\" stroke=\"black\" points=\"654.62,-1943.08 648.75,-1934.27 647.84,-1944.82 654.62,-1943.08\"/>\n",
       "</g>\n",
       "<!-- 135855189478800 -->\n",
       "<g id=\"node55\" class=\"node\">\n",
       "<title>135855189478800</title>\n",
       "<polygon fill=\"lightgrey\" stroke=\"black\" points=\"816,-1934 715,-1934 715,-1915 816,-1915 816,-1934\"/>\n",
       "<text text-anchor=\"middle\" x=\"765.5\" y=\"-1922\" font-family=\"monospace\" font-size=\"10.00\">AccumulateGrad</text>\n",
       "</g>\n",
       "<!-- 135855189478800&#45;&gt;135855189479088 -->\n",
       "<g id=\"edge53\" class=\"edge\">\n",
       "<title>135855189478800&#45;&gt;135855189479088</title>\n",
       "<path fill=\"none\" stroke=\"black\" d=\"M748.2,-1914.99C728.45,-1905.29 695.95,-1889.31 673.01,-1878.03\"/>\n",
       "<polygon fill=\"black\" stroke=\"black\" points=\"674.34,-1874.79 663.82,-1873.52 671.25,-1881.07 674.34,-1874.79\"/>\n",
       "</g>\n",
       "<!-- 135855188597296 -->\n",
       "<g id=\"node56\" class=\"node\">\n",
       "<title>135855188597296</title>\n",
       "<polygon fill=\"lightblue\" stroke=\"black\" points=\"798,-2000 733,-2000 733,-1970 798,-1970 798,-2000\"/>\n",
       "<text text-anchor=\"middle\" x=\"765.5\" y=\"-1988\" font-family=\"monospace\" font-size=\"10.00\">bn2.bias</text>\n",
       "<text text-anchor=\"middle\" x=\"765.5\" y=\"-1977\" font-family=\"monospace\" font-size=\"10.00\"> (64)</text>\n",
       "</g>\n",
       "<!-- 135855188597296&#45;&gt;135855189478800 -->\n",
       "<g id=\"edge54\" class=\"edge\">\n",
       "<title>135855188597296&#45;&gt;135855189478800</title>\n",
       "<path fill=\"none\" stroke=\"black\" d=\"M765.5,-1969.84C765.5,-1962.21 765.5,-1952.7 765.5,-1944.45\"/>\n",
       "<polygon fill=\"black\" stroke=\"black\" points=\"769,-1944.27 765.5,-1934.27 762,-1944.27 769,-1944.27\"/>\n",
       "</g>\n",
       "<!-- 135855189478704 -->\n",
       "<g id=\"node57\" class=\"node\">\n",
       "<title>135855189478704</title>\n",
       "<polygon fill=\"lightgrey\" stroke=\"black\" points=\"909,-1697.5 718,-1697.5 718,-1678.5 909,-1678.5 909,-1697.5\"/>\n",
       "<text text-anchor=\"middle\" x=\"813.5\" y=\"-1685.5\" font-family=\"monospace\" font-size=\"10.00\">MaxPool2DWithIndicesBackward0</text>\n",
       "</g>\n",
       "<!-- 135855189478704&#45;&gt;135855189478560 -->\n",
       "<g id=\"edge55\" class=\"edge\">\n",
       "<title>135855189478704&#45;&gt;135855189478560</title>\n",
       "<path fill=\"none\" stroke=\"black\" d=\"M801.77,-1678.37C787.63,-1667.97 763.64,-1650.32 746.55,-1637.75\"/>\n",
       "<polygon fill=\"black\" stroke=\"black\" points=\"748.45,-1634.81 738.33,-1631.7 744.31,-1640.44 748.45,-1634.81\"/>\n",
       "</g>\n",
       "<!-- 135855189479040 -->\n",
       "<g id=\"node58\" class=\"node\">\n",
       "<title>135855189479040</title>\n",
       "<polygon fill=\"lightgrey\" stroke=\"black\" points=\"882,-1758 745,-1758 745,-1739 882,-1739 882,-1758\"/>\n",
       "<text text-anchor=\"middle\" x=\"813.5\" y=\"-1746\" font-family=\"monospace\" font-size=\"10.00\">ConvolutionBackward0</text>\n",
       "</g>\n",
       "<!-- 135855189479040&#45;&gt;135855189478704 -->\n",
       "<g id=\"edge56\" class=\"edge\">\n",
       "<title>135855189479040&#45;&gt;135855189478704</title>\n",
       "<path fill=\"none\" stroke=\"black\" d=\"M813.5,-1738.87C813.5,-1730.75 813.5,-1718.31 813.5,-1707.89\"/>\n",
       "<polygon fill=\"black\" stroke=\"black\" points=\"817,-1707.67 813.5,-1697.67 810,-1707.67 817,-1707.67\"/>\n",
       "</g>\n",
       "<!-- 135855189479424 -->\n",
       "<g id=\"node59\" class=\"node\">\n",
       "<title>135855189479424</title>\n",
       "<polygon fill=\"lightgrey\" stroke=\"black\" points=\"864,-1813 763,-1813 763,-1794 864,-1794 864,-1813\"/>\n",
       "<text text-anchor=\"middle\" x=\"813.5\" y=\"-1801\" font-family=\"monospace\" font-size=\"10.00\">AccumulateGrad</text>\n",
       "</g>\n",
       "<!-- 135855189479424&#45;&gt;135855189479040 -->\n",
       "<g id=\"edge57\" class=\"edge\">\n",
       "<title>135855189479424&#45;&gt;135855189479040</title>\n",
       "<path fill=\"none\" stroke=\"black\" d=\"M813.5,-1793.75C813.5,-1786.8 813.5,-1776.85 813.5,-1768.13\"/>\n",
       "<polygon fill=\"black\" stroke=\"black\" points=\"817,-1768.09 813.5,-1758.09 810,-1768.09 817,-1768.09\"/>\n",
       "</g>\n",
       "<!-- 135855188600016 -->\n",
       "<g id=\"node60\" class=\"node\">\n",
       "<title>135855188600016</title>\n",
       "<polygon fill=\"lightblue\" stroke=\"black\" points=\"885,-1879 742,-1879 742,-1849 885,-1849 885,-1879\"/>\n",
       "<text text-anchor=\"middle\" x=\"813.5\" y=\"-1867\" font-family=\"monospace\" font-size=\"10.00\">conv_shortcut1.weight</text>\n",
       "<text text-anchor=\"middle\" x=\"813.5\" y=\"-1856\" font-family=\"monospace\" font-size=\"10.00\"> (64, 3, 1, 1)</text>\n",
       "</g>\n",
       "<!-- 135855188600016&#45;&gt;135855189479424 -->\n",
       "<g id=\"edge58\" class=\"edge\">\n",
       "<title>135855188600016&#45;&gt;135855189479424</title>\n",
       "<path fill=\"none\" stroke=\"black\" d=\"M813.5,-1848.84C813.5,-1841.21 813.5,-1831.7 813.5,-1823.45\"/>\n",
       "<polygon fill=\"black\" stroke=\"black\" points=\"817,-1823.27 813.5,-1813.27 810,-1823.27 817,-1823.27\"/>\n",
       "</g>\n",
       "<!-- 135855189479232 -->\n",
       "<g id=\"node61\" class=\"node\">\n",
       "<title>135855189479232</title>\n",
       "<polygon fill=\"lightgrey\" stroke=\"black\" points=\"1001,-1813 900,-1813 900,-1794 1001,-1794 1001,-1813\"/>\n",
       "<text text-anchor=\"middle\" x=\"950.5\" y=\"-1801\" font-family=\"monospace\" font-size=\"10.00\">AccumulateGrad</text>\n",
       "</g>\n",
       "<!-- 135855189479232&#45;&gt;135855189479040 -->\n",
       "<g id=\"edge59\" class=\"edge\">\n",
       "<title>135855189479232&#45;&gt;135855189479040</title>\n",
       "<path fill=\"none\" stroke=\"black\" d=\"M928.49,-1793.98C906.05,-1785.3 871.02,-1771.75 845.51,-1761.88\"/>\n",
       "<polygon fill=\"black\" stroke=\"black\" points=\"846.5,-1758.51 835.91,-1758.17 843.98,-1765.04 846.5,-1758.51\"/>\n",
       "</g>\n",
       "<!-- 135855188599456 -->\n",
       "<g id=\"node62\" class=\"node\">\n",
       "<title>135855188599456</title>\n",
       "<polygon fill=\"lightblue\" stroke=\"black\" points=\"1034,-1879 903,-1879 903,-1849 1034,-1849 1034,-1879\"/>\n",
       "<text text-anchor=\"middle\" x=\"968.5\" y=\"-1867\" font-family=\"monospace\" font-size=\"10.00\">conv_shortcut1.bias</text>\n",
       "<text text-anchor=\"middle\" x=\"968.5\" y=\"-1856\" font-family=\"monospace\" font-size=\"10.00\"> (64)</text>\n",
       "</g>\n",
       "<!-- 135855188599456&#45;&gt;135855189479232 -->\n",
       "<g id=\"edge60\" class=\"edge\">\n",
       "<title>135855188599456&#45;&gt;135855189479232</title>\n",
       "<path fill=\"none\" stroke=\"black\" d=\"M964.14,-1848.84C961.74,-1841.04 958.74,-1831.27 956.16,-1822.89\"/>\n",
       "<polygon fill=\"black\" stroke=\"black\" points=\"959.48,-1821.79 953.2,-1813.27 952.79,-1823.85 959.48,-1821.79\"/>\n",
       "</g>\n",
       "<!-- 135855189478512 -->\n",
       "<g id=\"node63\" class=\"node\">\n",
       "<title>135855189478512</title>\n",
       "<polygon fill=\"lightgrey\" stroke=\"black\" points=\"953,-1631.5 852,-1631.5 852,-1612.5 953,-1612.5 953,-1631.5\"/>\n",
       "<text text-anchor=\"middle\" x=\"902.5\" y=\"-1619.5\" font-family=\"monospace\" font-size=\"10.00\">AccumulateGrad</text>\n",
       "</g>\n",
       "<!-- 135855189478512&#45;&gt;135855189478368 -->\n",
       "<g id=\"edge61\" class=\"edge\">\n",
       "<title>135855189478512&#45;&gt;135855189478368</title>\n",
       "<path fill=\"none\" stroke=\"black\" d=\"M903.53,-1612.37C904.5,-1604.25 905.99,-1591.81 907.24,-1581.39\"/>\n",
       "<polygon fill=\"black\" stroke=\"black\" points=\"910.75,-1581.51 908.46,-1571.17 903.8,-1580.68 910.75,-1581.51\"/>\n",
       "</g>\n",
       "<!-- 135855188599936 -->\n",
       "<g id=\"node64\" class=\"node\">\n",
       "<title>135855188599936</title>\n",
       "<polygon fill=\"lightblue\" stroke=\"black\" points=\"1040,-1703 927,-1703 927,-1673 1040,-1673 1040,-1703\"/>\n",
       "<text text-anchor=\"middle\" x=\"983.5\" y=\"-1691\" font-family=\"monospace\" font-size=\"10.00\">conv3.weight</text>\n",
       "<text text-anchor=\"middle\" x=\"983.5\" y=\"-1680\" font-family=\"monospace\" font-size=\"10.00\"> (128, 64, 3, 3)</text>\n",
       "</g>\n",
       "<!-- 135855188599936&#45;&gt;135855189478512 -->\n",
       "<g id=\"edge62\" class=\"edge\">\n",
       "<title>135855188599936&#45;&gt;135855189478512</title>\n",
       "<path fill=\"none\" stroke=\"black\" d=\"M965.52,-1672.8C952.52,-1662.53 934.99,-1648.67 921.71,-1638.18\"/>\n",
       "<polygon fill=\"black\" stroke=\"black\" points=\"923.71,-1635.3 913.69,-1631.84 919.37,-1640.79 923.71,-1635.3\"/>\n",
       "</g>\n",
       "<!-- 135855189478464 -->\n",
       "<g id=\"node65\" class=\"node\">\n",
       "<title>135855189478464</title>\n",
       "<polygon fill=\"lightgrey\" stroke=\"black\" points=\"1072,-1631.5 971,-1631.5 971,-1612.5 1072,-1612.5 1072,-1631.5\"/>\n",
       "<text text-anchor=\"middle\" x=\"1021.5\" y=\"-1619.5\" font-family=\"monospace\" font-size=\"10.00\">AccumulateGrad</text>\n",
       "</g>\n",
       "<!-- 135855189478464&#45;&gt;135855189478368 -->\n",
       "<g id=\"edge63\" class=\"edge\">\n",
       "<title>135855189478464&#45;&gt;135855189478368</title>\n",
       "<path fill=\"none\" stroke=\"black\" d=\"M1004.97,-1612.37C986.53,-1602.73 956.46,-1587.03 934.99,-1575.81\"/>\n",
       "<polygon fill=\"black\" stroke=\"black\" points=\"936.58,-1572.69 926.09,-1571.17 933.34,-1578.9 936.58,-1572.69\"/>\n",
       "</g>\n",
       "<!-- 135855188601616 -->\n",
       "<g id=\"node66\" class=\"node\">\n",
       "<title>135855188601616</title>\n",
       "<polygon fill=\"lightblue\" stroke=\"black\" points=\"1135,-1703 1058,-1703 1058,-1673 1135,-1673 1135,-1703\"/>\n",
       "<text text-anchor=\"middle\" x=\"1096.5\" y=\"-1691\" font-family=\"monospace\" font-size=\"10.00\">conv3.bias</text>\n",
       "<text text-anchor=\"middle\" x=\"1096.5\" y=\"-1680\" font-family=\"monospace\" font-size=\"10.00\"> (128)</text>\n",
       "</g>\n",
       "<!-- 135855188601616&#45;&gt;135855189478464 -->\n",
       "<g id=\"edge64\" class=\"edge\">\n",
       "<title>135855188601616&#45;&gt;135855189478464</title>\n",
       "<path fill=\"none\" stroke=\"black\" d=\"M1079.86,-1672.8C1067.93,-1662.62 1051.89,-1648.93 1039.64,-1638.48\"/>\n",
       "<polygon fill=\"black\" stroke=\"black\" points=\"1041.74,-1635.67 1031.86,-1631.84 1037.2,-1641 1041.74,-1635.67\"/>\n",
       "</g>\n",
       "<!-- 135855189478320 -->\n",
       "<g id=\"node67\" class=\"node\">\n",
       "<title>135855189478320</title>\n",
       "<polygon fill=\"lightgrey\" stroke=\"black\" points=\"1126,-1571 1025,-1571 1025,-1552 1126,-1552 1126,-1571\"/>\n",
       "<text text-anchor=\"middle\" x=\"1075.5\" y=\"-1559\" font-family=\"monospace\" font-size=\"10.00\">AccumulateGrad</text>\n",
       "</g>\n",
       "<!-- 135855189478320&#45;&gt;135855189478272 -->\n",
       "<g id=\"edge65\" class=\"edge\">\n",
       "<title>135855189478320&#45;&gt;135855189478272</title>\n",
       "<path fill=\"none\" stroke=\"black\" d=\"M1056.54,-1551.98C1037.47,-1543.42 1007.84,-1530.11 985.95,-1520.28\"/>\n",
       "<polygon fill=\"black\" stroke=\"black\" points=\"987.36,-1517.07 976.8,-1516.17 984.49,-1523.46 987.36,-1517.07\"/>\n",
       "</g>\n",
       "<!-- 135855188601216 -->\n",
       "<g id=\"node68\" class=\"node\">\n",
       "<title>135855188601216</title>\n",
       "<polygon fill=\"lightblue\" stroke=\"black\" points=\"1167,-1637 1090,-1637 1090,-1607 1167,-1607 1167,-1637\"/>\n",
       "<text text-anchor=\"middle\" x=\"1128.5\" y=\"-1625\" font-family=\"monospace\" font-size=\"10.00\">bn3.weight</text>\n",
       "<text text-anchor=\"middle\" x=\"1128.5\" y=\"-1614\" font-family=\"monospace\" font-size=\"10.00\"> (128)</text>\n",
       "</g>\n",
       "<!-- 135855188601216&#45;&gt;135855189478320 -->\n",
       "<g id=\"edge66\" class=\"edge\">\n",
       "<title>135855188601216&#45;&gt;135855189478320</title>\n",
       "<path fill=\"none\" stroke=\"black\" d=\"M1115.67,-1606.84C1107.98,-1598.35 1098.17,-1587.52 1090.17,-1578.69\"/>\n",
       "<polygon fill=\"black\" stroke=\"black\" points=\"1092.75,-1576.33 1083.44,-1571.27 1087.56,-1581.03 1092.75,-1576.33\"/>\n",
       "</g>\n",
       "<!-- 135855189477984 -->\n",
       "<g id=\"node69\" class=\"node\">\n",
       "<title>135855189477984</title>\n",
       "<polygon fill=\"lightgrey\" stroke=\"black\" points=\"1260,-1571 1159,-1571 1159,-1552 1260,-1552 1260,-1571\"/>\n",
       "<text text-anchor=\"middle\" x=\"1209.5\" y=\"-1559\" font-family=\"monospace\" font-size=\"10.00\">AccumulateGrad</text>\n",
       "</g>\n",
       "<!-- 135855189477984&#45;&gt;135855189478272 -->\n",
       "<g id=\"edge67\" class=\"edge\">\n",
       "<title>135855189477984&#45;&gt;135855189478272</title>\n",
       "<path fill=\"none\" stroke=\"black\" d=\"M1169.01,-1551.98C1125.33,-1542.8 1055.69,-1528.15 1008.35,-1518.19\"/>\n",
       "<polygon fill=\"black\" stroke=\"black\" points=\"1008.81,-1514.72 998.31,-1516.08 1007.37,-1521.57 1008.81,-1514.72\"/>\n",
       "</g>\n",
       "<!-- 135855190561616 -->\n",
       "<g id=\"node70\" class=\"node\">\n",
       "<title>135855190561616</title>\n",
       "<polygon fill=\"lightblue\" stroke=\"black\" points=\"1250,-1637 1185,-1637 1185,-1607 1250,-1607 1250,-1637\"/>\n",
       "<text text-anchor=\"middle\" x=\"1217.5\" y=\"-1625\" font-family=\"monospace\" font-size=\"10.00\">bn3.bias</text>\n",
       "<text text-anchor=\"middle\" x=\"1217.5\" y=\"-1614\" font-family=\"monospace\" font-size=\"10.00\"> (128)</text>\n",
       "</g>\n",
       "<!-- 135855190561616&#45;&gt;135855189477984 -->\n",
       "<g id=\"edge68\" class=\"edge\">\n",
       "<title>135855190561616&#45;&gt;135855189477984</title>\n",
       "<path fill=\"none\" stroke=\"black\" d=\"M1215.56,-1606.84C1214.52,-1599.21 1213.22,-1589.7 1212.09,-1581.45\"/>\n",
       "<polygon fill=\"black\" stroke=\"black\" points=\"1215.52,-1580.7 1210.7,-1571.27 1208.59,-1581.65 1215.52,-1580.7\"/>\n",
       "</g>\n",
       "<!-- 135855189477840 -->\n",
       "<g id=\"node71\" class=\"node\">\n",
       "<title>135855189477840</title>\n",
       "<polygon fill=\"lightgrey\" stroke=\"black\" points=\"1087,-1334.5 986,-1334.5 986,-1315.5 1087,-1315.5 1087,-1334.5\"/>\n",
       "<text text-anchor=\"middle\" x=\"1036.5\" y=\"-1322.5\" font-family=\"monospace\" font-size=\"10.00\">AccumulateGrad</text>\n",
       "</g>\n",
       "<!-- 135855189477840&#45;&gt;135855189477696 -->\n",
       "<g id=\"edge69\" class=\"edge\">\n",
       "<title>135855189477840&#45;&gt;135855189477696</title>\n",
       "<path fill=\"none\" stroke=\"black\" d=\"M1037.53,-1315.37C1038.5,-1307.25 1039.99,-1294.81 1041.24,-1284.39\"/>\n",
       "<polygon fill=\"black\" stroke=\"black\" points=\"1044.75,-1284.51 1042.46,-1274.17 1037.8,-1283.68 1044.75,-1284.51\"/>\n",
       "</g>\n",
       "<!-- 135855188342832 -->\n",
       "<g id=\"node72\" class=\"node\">\n",
       "<title>135855188342832</title>\n",
       "<polygon fill=\"lightblue\" stroke=\"black\" points=\"1104,-1406 985,-1406 985,-1376 1104,-1376 1104,-1406\"/>\n",
       "<text text-anchor=\"middle\" x=\"1044.5\" y=\"-1394\" font-family=\"monospace\" font-size=\"10.00\">conv4.weight</text>\n",
       "<text text-anchor=\"middle\" x=\"1044.5\" y=\"-1383\" font-family=\"monospace\" font-size=\"10.00\"> (256, 128, 3, 3)</text>\n",
       "</g>\n",
       "<!-- 135855188342832&#45;&gt;135855189477840 -->\n",
       "<g id=\"edge70\" class=\"edge\">\n",
       "<title>135855188342832&#45;&gt;135855189477840</title>\n",
       "<path fill=\"none\" stroke=\"black\" d=\"M1042.72,-1375.8C1041.59,-1366.7 1040.1,-1354.79 1038.86,-1344.9\"/>\n",
       "<polygon fill=\"black\" stroke=\"black\" points=\"1042.32,-1344.33 1037.61,-1334.84 1035.37,-1345.2 1042.32,-1344.33\"/>\n",
       "</g>\n",
       "<!-- 135855189477792 -->\n",
       "<g id=\"node73\" class=\"node\">\n",
       "<title>135855189477792</title>\n",
       "<polygon fill=\"lightgrey\" stroke=\"black\" points=\"1206,-1334.5 1105,-1334.5 1105,-1315.5 1206,-1315.5 1206,-1334.5\"/>\n",
       "<text text-anchor=\"middle\" x=\"1155.5\" y=\"-1322.5\" font-family=\"monospace\" font-size=\"10.00\">AccumulateGrad</text>\n",
       "</g>\n",
       "<!-- 135855189477792&#45;&gt;135855189477696 -->\n",
       "<g id=\"edge71\" class=\"edge\">\n",
       "<title>135855189477792&#45;&gt;135855189477696</title>\n",
       "<path fill=\"none\" stroke=\"black\" d=\"M1138.97,-1315.37C1120.53,-1305.73 1090.46,-1290.03 1068.99,-1278.81\"/>\n",
       "<polygon fill=\"black\" stroke=\"black\" points=\"1070.58,-1275.69 1060.09,-1274.17 1067.34,-1281.9 1070.58,-1275.69\"/>\n",
       "</g>\n",
       "<!-- 135855188342032 -->\n",
       "<g id=\"node74\" class=\"node\">\n",
       "<title>135855188342032</title>\n",
       "<polygon fill=\"lightblue\" stroke=\"black\" points=\"1199,-1406 1122,-1406 1122,-1376 1199,-1376 1199,-1406\"/>\n",
       "<text text-anchor=\"middle\" x=\"1160.5\" y=\"-1394\" font-family=\"monospace\" font-size=\"10.00\">conv4.bias</text>\n",
       "<text text-anchor=\"middle\" x=\"1160.5\" y=\"-1383\" font-family=\"monospace\" font-size=\"10.00\"> (256)</text>\n",
       "</g>\n",
       "<!-- 135855188342032&#45;&gt;135855189477792 -->\n",
       "<g id=\"edge72\" class=\"edge\">\n",
       "<title>135855188342032&#45;&gt;135855189477792</title>\n",
       "<path fill=\"none\" stroke=\"black\" d=\"M1159.39,-1375.8C1158.68,-1366.7 1157.75,-1354.79 1156.98,-1344.9\"/>\n",
       "<polygon fill=\"black\" stroke=\"black\" points=\"1160.46,-1344.54 1156.19,-1334.84 1153.48,-1345.09 1160.46,-1344.54\"/>\n",
       "</g>\n",
       "<!-- 135855189477648 -->\n",
       "<g id=\"node75\" class=\"node\">\n",
       "<title>135855189477648</title>\n",
       "<polygon fill=\"lightgrey\" stroke=\"black\" points=\"1260,-1274 1159,-1274 1159,-1255 1260,-1255 1260,-1274\"/>\n",
       "<text text-anchor=\"middle\" x=\"1209.5\" y=\"-1262\" font-family=\"monospace\" font-size=\"10.00\">AccumulateGrad</text>\n",
       "</g>\n",
       "<!-- 135855189477648&#45;&gt;135855189477600 -->\n",
       "<g id=\"edge73\" class=\"edge\">\n",
       "<title>135855189477648&#45;&gt;135855189477600</title>\n",
       "<path fill=\"none\" stroke=\"black\" d=\"M1193.75,-1254.98C1178.27,-1246.61 1154.41,-1233.7 1136.36,-1223.95\"/>\n",
       "<polygon fill=\"black\" stroke=\"black\" points=\"1137.99,-1220.85 1127.53,-1219.17 1134.66,-1227.01 1137.99,-1220.85\"/>\n",
       "</g>\n",
       "<!-- 135855188341072 -->\n",
       "<g id=\"node76\" class=\"node\">\n",
       "<title>135855188341072</title>\n",
       "<polygon fill=\"lightblue\" stroke=\"black\" points=\"1301,-1340 1224,-1340 1224,-1310 1301,-1310 1301,-1340\"/>\n",
       "<text text-anchor=\"middle\" x=\"1262.5\" y=\"-1328\" font-family=\"monospace\" font-size=\"10.00\">bn4.weight</text>\n",
       "<text text-anchor=\"middle\" x=\"1262.5\" y=\"-1317\" font-family=\"monospace\" font-size=\"10.00\"> (256)</text>\n",
       "</g>\n",
       "<!-- 135855188341072&#45;&gt;135855189477648 -->\n",
       "<g id=\"edge74\" class=\"edge\">\n",
       "<title>135855188341072&#45;&gt;135855189477648</title>\n",
       "<path fill=\"none\" stroke=\"black\" d=\"M1249.67,-1309.84C1241.98,-1301.35 1232.17,-1290.52 1224.17,-1281.69\"/>\n",
       "<polygon fill=\"black\" stroke=\"black\" points=\"1226.75,-1279.33 1217.44,-1274.27 1221.56,-1284.03 1226.75,-1279.33\"/>\n",
       "</g>\n",
       "<!-- 135855189477408 -->\n",
       "<g id=\"node77\" class=\"node\">\n",
       "<title>135855189477408</title>\n",
       "<polygon fill=\"lightgrey\" stroke=\"black\" points=\"1394,-1274 1293,-1274 1293,-1255 1394,-1255 1394,-1274\"/>\n",
       "<text text-anchor=\"middle\" x=\"1343.5\" y=\"-1262\" font-family=\"monospace\" font-size=\"10.00\">AccumulateGrad</text>\n",
       "</g>\n",
       "<!-- 135855189477408&#45;&gt;135855189477600 -->\n",
       "<g id=\"edge75\" class=\"edge\">\n",
       "<title>135855189477408&#45;&gt;135855189477600</title>\n",
       "<path fill=\"none\" stroke=\"black\" d=\"M1306.23,-1254.98C1266.18,-1245.84 1202.43,-1231.27 1158.86,-1221.32\"/>\n",
       "<polygon fill=\"black\" stroke=\"black\" points=\"1159.6,-1217.9 1149.07,-1219.08 1158.04,-1224.72 1159.6,-1217.9\"/>\n",
       "</g>\n",
       "<!-- 135855188344032 -->\n",
       "<g id=\"node78\" class=\"node\">\n",
       "<title>135855188344032</title>\n",
       "<polygon fill=\"lightblue\" stroke=\"black\" points=\"1384,-1340 1319,-1340 1319,-1310 1384,-1310 1384,-1340\"/>\n",
       "<text text-anchor=\"middle\" x=\"1351.5\" y=\"-1328\" font-family=\"monospace\" font-size=\"10.00\">bn4.bias</text>\n",
       "<text text-anchor=\"middle\" x=\"1351.5\" y=\"-1317\" font-family=\"monospace\" font-size=\"10.00\"> (256)</text>\n",
       "</g>\n",
       "<!-- 135855188344032&#45;&gt;135855189477408 -->\n",
       "<g id=\"edge76\" class=\"edge\">\n",
       "<title>135855188344032&#45;&gt;135855189477408</title>\n",
       "<path fill=\"none\" stroke=\"black\" d=\"M1349.56,-1309.84C1348.52,-1302.21 1347.22,-1292.7 1346.09,-1284.45\"/>\n",
       "<polygon fill=\"black\" stroke=\"black\" points=\"1349.52,-1283.7 1344.7,-1274.27 1342.59,-1284.65 1349.52,-1283.7\"/>\n",
       "</g>\n",
       "<!-- 135855189477312 -->\n",
       "<g id=\"node79\" class=\"node\">\n",
       "<title>135855189477312</title>\n",
       "<polygon fill=\"lightgrey\" stroke=\"black\" points=\"806,-1461 615,-1461 615,-1442 806,-1442 806,-1461\"/>\n",
       "<text text-anchor=\"middle\" x=\"710.5\" y=\"-1449\" font-family=\"monospace\" font-size=\"10.00\">MaxPool2DWithIndicesBackward0</text>\n",
       "</g>\n",
       "<!-- 135855189477312&#45;&gt;135855189477168 -->\n",
       "<g id=\"edge77\" class=\"edge\">\n",
       "<title>135855189477312&#45;&gt;135855189477168</title>\n",
       "<path fill=\"none\" stroke=\"black\" d=\"M717,-1441.98C731.15,-1422.54 763.5,-1372.98 763.5,-1326 763.5,-1326 763.5,-1326 763.5,-1153.5 763.5,-1119.33 765.45,-1108.61 782.5,-1079 790.31,-1065.43 802.82,-1053.09 813.5,-1044.06\"/>\n",
       "<polygon fill=\"black\" stroke=\"black\" points=\"815.96,-1046.57 821.54,-1037.57 811.56,-1041.12 815.96,-1046.57\"/>\n",
       "</g>\n",
       "<!-- 135855189477744&#45;&gt;135855189477312 -->\n",
       "<g id=\"edge78\" class=\"edge\">\n",
       "<title>135855189477744&#45;&gt;135855189477312</title>\n",
       "<path fill=\"none\" stroke=\"black\" d=\"M686.63,-1551.66C690.86,-1534.09 700.4,-1494.45 706.06,-1470.95\"/>\n",
       "<polygon fill=\"black\" stroke=\"black\" points=\"709.48,-1471.7 708.42,-1461.16 702.67,-1470.06 709.48,-1471.7\"/>\n",
       "</g>\n",
       "<!-- 135855189478032 -->\n",
       "<g id=\"node81\" class=\"node\">\n",
       "<title>135855189478032</title>\n",
       "<polygon fill=\"lightgrey\" stroke=\"black\" points=\"444,-1631.5 343,-1631.5 343,-1612.5 444,-1612.5 444,-1631.5\"/>\n",
       "<text text-anchor=\"middle\" x=\"393.5\" y=\"-1619.5\" font-family=\"monospace\" font-size=\"10.00\">AccumulateGrad</text>\n",
       "</g>\n",
       "<!-- 135855189478032&#45;&gt;135855189477744 -->\n",
       "<g id=\"edge80\" class=\"edge\">\n",
       "<title>135855189478032&#45;&gt;135855189477744</title>\n",
       "<path fill=\"none\" stroke=\"black\" d=\"M435.81,-1612.49C487.75,-1602.05 575.83,-1584.35 632.03,-1573.05\"/>\n",
       "<polygon fill=\"black\" stroke=\"black\" points=\"633.02,-1576.42 642.14,-1571.02 631.64,-1569.56 633.02,-1576.42\"/>\n",
       "</g>\n",
       "<!-- 135858584152768 -->\n",
       "<g id=\"node82\" class=\"node\">\n",
       "<title>135858584152768</title>\n",
       "<polygon fill=\"lightblue\" stroke=\"black\" points=\"438,-1703 295,-1703 295,-1673 438,-1673 438,-1703\"/>\n",
       "<text text-anchor=\"middle\" x=\"366.5\" y=\"-1691\" font-family=\"monospace\" font-size=\"10.00\">conv_shortcut2.weight</text>\n",
       "<text text-anchor=\"middle\" x=\"366.5\" y=\"-1680\" font-family=\"monospace\" font-size=\"10.00\"> (256, 64, 1, 1)</text>\n",
       "</g>\n",
       "<!-- 135858584152768&#45;&gt;135855189478032 -->\n",
       "<g id=\"edge81\" class=\"edge\">\n",
       "<title>135858584152768&#45;&gt;135855189478032</title>\n",
       "<path fill=\"none\" stroke=\"black\" d=\"M372.49,-1672.8C376.41,-1663.5 381.57,-1651.27 385.8,-1641.26\"/>\n",
       "<polygon fill=\"black\" stroke=\"black\" points=\"389.11,-1642.42 389.77,-1631.84 382.66,-1639.7 389.11,-1642.42\"/>\n",
       "</g>\n",
       "<!-- 135855189477936 -->\n",
       "<g id=\"node83\" class=\"node\">\n",
       "<title>135855189477936</title>\n",
       "<polygon fill=\"lightgrey\" stroke=\"black\" points=\"581,-1631.5 480,-1631.5 480,-1612.5 581,-1612.5 581,-1631.5\"/>\n",
       "<text text-anchor=\"middle\" x=\"530.5\" y=\"-1619.5\" font-family=\"monospace\" font-size=\"10.00\">AccumulateGrad</text>\n",
       "</g>\n",
       "<!-- 135855189477936&#45;&gt;135855189477744 -->\n",
       "<g id=\"edge82\" class=\"edge\">\n",
       "<title>135855189477936&#45;&gt;135855189477744</title>\n",
       "<path fill=\"none\" stroke=\"black\" d=\"M552.89,-1612.49C579.12,-1602.53 622.78,-1585.95 652.56,-1574.63\"/>\n",
       "<polygon fill=\"black\" stroke=\"black\" points=\"653.97,-1577.84 662.08,-1571.02 651.49,-1571.3 653.97,-1577.84\"/>\n",
       "</g>\n",
       "<!-- 135858584153568 -->\n",
       "<g id=\"node84\" class=\"node\">\n",
       "<title>135858584153568</title>\n",
       "<polygon fill=\"lightblue\" stroke=\"black\" points=\"587,-1703 456,-1703 456,-1673 587,-1673 587,-1703\"/>\n",
       "<text text-anchor=\"middle\" x=\"521.5\" y=\"-1691\" font-family=\"monospace\" font-size=\"10.00\">conv_shortcut2.bias</text>\n",
       "<text text-anchor=\"middle\" x=\"521.5\" y=\"-1680\" font-family=\"monospace\" font-size=\"10.00\"> (256)</text>\n",
       "</g>\n",
       "<!-- 135858584153568&#45;&gt;135855189477936 -->\n",
       "<g id=\"edge83\" class=\"edge\">\n",
       "<title>135858584153568&#45;&gt;135855189477936</title>\n",
       "<path fill=\"none\" stroke=\"black\" d=\"M523.5,-1672.8C524.78,-1663.7 526.45,-1651.79 527.84,-1641.9\"/>\n",
       "<polygon fill=\"black\" stroke=\"black\" points=\"531.33,-1642.23 529.26,-1631.84 524.4,-1641.26 531.33,-1642.23\"/>\n",
       "</g>\n",
       "<!-- 135855189477120 -->\n",
       "<g id=\"node85\" class=\"node\">\n",
       "<title>135855189477120</title>\n",
       "<polygon fill=\"lightgrey\" stroke=\"black\" points=\"1027,-1037.5 926,-1037.5 926,-1018.5 1027,-1018.5 1027,-1037.5\"/>\n",
       "<text text-anchor=\"middle\" x=\"976.5\" y=\"-1025.5\" font-family=\"monospace\" font-size=\"10.00\">AccumulateGrad</text>\n",
       "</g>\n",
       "<!-- 135855189477120&#45;&gt;135855189476976 -->\n",
       "<g id=\"edge84\" class=\"edge\">\n",
       "<title>135855189477120&#45;&gt;135855189476976</title>\n",
       "<path fill=\"none\" stroke=\"black\" d=\"M977.53,-1018.37C978.5,-1010.25 979.99,-997.81 981.24,-987.39\"/>\n",
       "<polygon fill=\"black\" stroke=\"black\" points=\"984.75,-987.51 982.46,-977.17 977.8,-986.68 984.75,-987.51\"/>\n",
       "</g>\n",
       "<!-- 135858584153168 -->\n",
       "<g id=\"node86\" class=\"node\">\n",
       "<title>135858584153168</title>\n",
       "<polygon fill=\"lightblue\" stroke=\"black\" points=\"1054,-1109 935,-1109 935,-1079 1054,-1079 1054,-1109\"/>\n",
       "<text text-anchor=\"middle\" x=\"994.5\" y=\"-1097\" font-family=\"monospace\" font-size=\"10.00\">conv5.weight</text>\n",
       "<text text-anchor=\"middle\" x=\"994.5\" y=\"-1086\" font-family=\"monospace\" font-size=\"10.00\"> (512, 256, 3, 3)</text>\n",
       "</g>\n",
       "<!-- 135858584153168&#45;&gt;135855189477120 -->\n",
       "<g id=\"edge85\" class=\"edge\">\n",
       "<title>135858584153168&#45;&gt;135855189477120</title>\n",
       "<path fill=\"none\" stroke=\"black\" d=\"M990.51,-1078.8C987.92,-1069.6 984.52,-1057.53 981.73,-1047.58\"/>\n",
       "<polygon fill=\"black\" stroke=\"black\" points=\"985.06,-1046.52 978.99,-1037.84 978.33,-1048.42 985.06,-1046.52\"/>\n",
       "</g>\n",
       "<!-- 135855189477072 -->\n",
       "<g id=\"node87\" class=\"node\">\n",
       "<title>135855189477072</title>\n",
       "<polygon fill=\"lightgrey\" stroke=\"black\" points=\"1146,-1037.5 1045,-1037.5 1045,-1018.5 1146,-1018.5 1146,-1037.5\"/>\n",
       "<text text-anchor=\"middle\" x=\"1095.5\" y=\"-1025.5\" font-family=\"monospace\" font-size=\"10.00\">AccumulateGrad</text>\n",
       "</g>\n",
       "<!-- 135855189477072&#45;&gt;135855189476976 -->\n",
       "<g id=\"edge86\" class=\"edge\">\n",
       "<title>135855189477072&#45;&gt;135855189476976</title>\n",
       "<path fill=\"none\" stroke=\"black\" d=\"M1078.97,-1018.37C1060.53,-1008.73 1030.46,-993.03 1008.99,-981.81\"/>\n",
       "<polygon fill=\"black\" stroke=\"black\" points=\"1010.58,-978.69 1000.09,-977.17 1007.34,-984.9 1010.58,-978.69\"/>\n",
       "</g>\n",
       "<!-- 135858584146528 -->\n",
       "<g id=\"node88\" class=\"node\">\n",
       "<title>135858584146528</title>\n",
       "<polygon fill=\"lightblue\" stroke=\"black\" points=\"1149,-1109 1072,-1109 1072,-1079 1149,-1079 1149,-1109\"/>\n",
       "<text text-anchor=\"middle\" x=\"1110.5\" y=\"-1097\" font-family=\"monospace\" font-size=\"10.00\">conv5.bias</text>\n",
       "<text text-anchor=\"middle\" x=\"1110.5\" y=\"-1086\" font-family=\"monospace\" font-size=\"10.00\"> (512)</text>\n",
       "</g>\n",
       "<!-- 135858584146528&#45;&gt;135855189477072 -->\n",
       "<g id=\"edge87\" class=\"edge\">\n",
       "<title>135858584146528&#45;&gt;135855189477072</title>\n",
       "<path fill=\"none\" stroke=\"black\" d=\"M1107.17,-1078.8C1105.04,-1069.7 1102.25,-1057.79 1099.93,-1047.9\"/>\n",
       "<polygon fill=\"black\" stroke=\"black\" points=\"1103.26,-1046.78 1097.57,-1037.84 1096.45,-1048.38 1103.26,-1046.78\"/>\n",
       "</g>\n",
       "<!-- 135855189476928 -->\n",
       "<g id=\"node89\" class=\"node\">\n",
       "<title>135855189476928</title>\n",
       "<polygon fill=\"lightgrey\" stroke=\"black\" points=\"1200,-977 1099,-977 1099,-958 1200,-958 1200,-977\"/>\n",
       "<text text-anchor=\"middle\" x=\"1149.5\" y=\"-965\" font-family=\"monospace\" font-size=\"10.00\">AccumulateGrad</text>\n",
       "</g>\n",
       "<!-- 135855189476928&#45;&gt;135855189476880 -->\n",
       "<g id=\"edge88\" class=\"edge\">\n",
       "<title>135855189476928&#45;&gt;135855189476880</title>\n",
       "<path fill=\"none\" stroke=\"black\" d=\"M1131.02,-957.98C1112.52,-949.46 1083.82,-936.23 1062.52,-926.41\"/>\n",
       "<polygon fill=\"black\" stroke=\"black\" points=\"1063.86,-923.18 1053.31,-922.17 1060.93,-929.53 1063.86,-923.18\"/>\n",
       "</g>\n",
       "<!-- 135858584153648 -->\n",
       "<g id=\"node90\" class=\"node\">\n",
       "<title>135858584153648</title>\n",
       "<polygon fill=\"lightblue\" stroke=\"black\" points=\"1241,-1043 1164,-1043 1164,-1013 1241,-1013 1241,-1043\"/>\n",
       "<text text-anchor=\"middle\" x=\"1202.5\" y=\"-1031\" font-family=\"monospace\" font-size=\"10.00\">bn5.weight</text>\n",
       "<text text-anchor=\"middle\" x=\"1202.5\" y=\"-1020\" font-family=\"monospace\" font-size=\"10.00\"> (512)</text>\n",
       "</g>\n",
       "<!-- 135858584153648&#45;&gt;135855189476928 -->\n",
       "<g id=\"edge89\" class=\"edge\">\n",
       "<title>135858584153648&#45;&gt;135855189476928</title>\n",
       "<path fill=\"none\" stroke=\"black\" d=\"M1189.67,-1012.84C1181.98,-1004.35 1172.17,-993.52 1164.17,-984.69\"/>\n",
       "<polygon fill=\"black\" stroke=\"black\" points=\"1166.75,-982.33 1157.44,-977.27 1161.56,-987.03 1166.75,-982.33\"/>\n",
       "</g>\n",
       "<!-- 135855189476592 -->\n",
       "<g id=\"node91\" class=\"node\">\n",
       "<title>135855189476592</title>\n",
       "<polygon fill=\"lightgrey\" stroke=\"black\" points=\"1334,-977 1233,-977 1233,-958 1334,-958 1334,-977\"/>\n",
       "<text text-anchor=\"middle\" x=\"1283.5\" y=\"-965\" font-family=\"monospace\" font-size=\"10.00\">AccumulateGrad</text>\n",
       "</g>\n",
       "<!-- 135855189476592&#45;&gt;135855189476880 -->\n",
       "<g id=\"edge90\" class=\"edge\">\n",
       "<title>135855189476592&#45;&gt;135855189476880</title>\n",
       "<path fill=\"none\" stroke=\"black\" d=\"M1243.49,-957.98C1200.33,-948.8 1131.52,-934.15 1084.74,-924.19\"/>\n",
       "<polygon fill=\"black\" stroke=\"black\" points=\"1085.33,-920.74 1074.82,-922.08 1083.87,-927.59 1085.33,-920.74\"/>\n",
       "</g>\n",
       "<!-- 135858584149808 -->\n",
       "<g id=\"node92\" class=\"node\">\n",
       "<title>135858584149808</title>\n",
       "<polygon fill=\"lightblue\" stroke=\"black\" points=\"1324,-1043 1259,-1043 1259,-1013 1324,-1013 1324,-1043\"/>\n",
       "<text text-anchor=\"middle\" x=\"1291.5\" y=\"-1031\" font-family=\"monospace\" font-size=\"10.00\">bn5.bias</text>\n",
       "<text text-anchor=\"middle\" x=\"1291.5\" y=\"-1020\" font-family=\"monospace\" font-size=\"10.00\"> (512)</text>\n",
       "</g>\n",
       "<!-- 135858584149808&#45;&gt;135855189476592 -->\n",
       "<g id=\"edge91\" class=\"edge\">\n",
       "<title>135858584149808&#45;&gt;135855189476592</title>\n",
       "<path fill=\"none\" stroke=\"black\" d=\"M1289.56,-1012.84C1288.52,-1005.21 1287.22,-995.7 1286.09,-987.45\"/>\n",
       "<polygon fill=\"black\" stroke=\"black\" points=\"1289.52,-986.7 1284.7,-977.27 1282.59,-987.65 1289.52,-986.7\"/>\n",
       "</g>\n",
       "<!-- 135855189476448 -->\n",
       "<g id=\"node93\" class=\"node\">\n",
       "<title>135855189476448</title>\n",
       "<polygon fill=\"lightgrey\" stroke=\"black\" points=\"1171,-740.5 1070,-740.5 1070,-721.5 1171,-721.5 1171,-740.5\"/>\n",
       "<text text-anchor=\"middle\" x=\"1120.5\" y=\"-728.5\" font-family=\"monospace\" font-size=\"10.00\">AccumulateGrad</text>\n",
       "</g>\n",
       "<!-- 135855189476448&#45;&gt;135855189476304 -->\n",
       "<g id=\"edge92\" class=\"edge\">\n",
       "<title>135855189476448&#45;&gt;135855189476304</title>\n",
       "<path fill=\"none\" stroke=\"black\" d=\"M1121.53,-721.37C1122.5,-713.25 1123.99,-700.81 1125.24,-690.39\"/>\n",
       "<polygon fill=\"black\" stroke=\"black\" points=\"1128.75,-690.51 1126.46,-680.17 1121.8,-689.68 1128.75,-690.51\"/>\n",
       "</g>\n",
       "<!-- 135858584154608 -->\n",
       "<g id=\"node94\" class=\"node\">\n",
       "<title>135858584154608</title>\n",
       "<polygon fill=\"lightblue\" stroke=\"black\" points=\"1189,-812 1064,-812 1064,-782 1189,-782 1189,-812\"/>\n",
       "<text text-anchor=\"middle\" x=\"1126.5\" y=\"-800\" font-family=\"monospace\" font-size=\"10.00\">conv6.weight</text>\n",
       "<text text-anchor=\"middle\" x=\"1126.5\" y=\"-789\" font-family=\"monospace\" font-size=\"10.00\"> (1024, 512, 3, 3)</text>\n",
       "</g>\n",
       "<!-- 135858584154608&#45;&gt;135855189476448 -->\n",
       "<g id=\"edge93\" class=\"edge\">\n",
       "<title>135858584154608&#45;&gt;135855189476448</title>\n",
       "<path fill=\"none\" stroke=\"black\" d=\"M1125.17,-781.8C1124.32,-772.7 1123.2,-760.79 1122.27,-750.9\"/>\n",
       "<polygon fill=\"black\" stroke=\"black\" points=\"1125.75,-750.47 1121.33,-740.84 1118.78,-751.13 1125.75,-750.47\"/>\n",
       "</g>\n",
       "<!-- 135855189476400 -->\n",
       "<g id=\"node95\" class=\"node\">\n",
       "<title>135855189476400</title>\n",
       "<polygon fill=\"lightgrey\" stroke=\"black\" points=\"1290,-740.5 1189,-740.5 1189,-721.5 1290,-721.5 1290,-740.5\"/>\n",
       "<text text-anchor=\"middle\" x=\"1239.5\" y=\"-728.5\" font-family=\"monospace\" font-size=\"10.00\">AccumulateGrad</text>\n",
       "</g>\n",
       "<!-- 135855189476400&#45;&gt;135855189476304 -->\n",
       "<g id=\"edge94\" class=\"edge\">\n",
       "<title>135855189476400&#45;&gt;135855189476304</title>\n",
       "<path fill=\"none\" stroke=\"black\" d=\"M1222.97,-721.37C1204.53,-711.73 1174.46,-696.03 1152.99,-684.81\"/>\n",
       "<polygon fill=\"black\" stroke=\"black\" points=\"1154.58,-681.69 1144.09,-680.17 1151.34,-687.9 1154.58,-681.69\"/>\n",
       "</g>\n",
       "<!-- 135858584152688 -->\n",
       "<g id=\"node96\" class=\"node\">\n",
       "<title>135858584152688</title>\n",
       "<polygon fill=\"lightblue\" stroke=\"black\" points=\"1284,-812 1207,-812 1207,-782 1284,-782 1284,-812\"/>\n",
       "<text text-anchor=\"middle\" x=\"1245.5\" y=\"-800\" font-family=\"monospace\" font-size=\"10.00\">conv6.bias</text>\n",
       "<text text-anchor=\"middle\" x=\"1245.5\" y=\"-789\" font-family=\"monospace\" font-size=\"10.00\"> (1024)</text>\n",
       "</g>\n",
       "<!-- 135858584152688&#45;&gt;135855189476400 -->\n",
       "<g id=\"edge95\" class=\"edge\">\n",
       "<title>135858584152688&#45;&gt;135855189476400</title>\n",
       "<path fill=\"none\" stroke=\"black\" d=\"M1244.17,-781.8C1243.32,-772.7 1242.2,-760.79 1241.27,-750.9\"/>\n",
       "<polygon fill=\"black\" stroke=\"black\" points=\"1244.75,-750.47 1240.33,-740.84 1237.78,-751.13 1244.75,-750.47\"/>\n",
       "</g>\n",
       "<!-- 135855189476256 -->\n",
       "<g id=\"node97\" class=\"node\">\n",
       "<title>135855189476256</title>\n",
       "<polygon fill=\"lightgrey\" stroke=\"black\" points=\"1344,-680 1243,-680 1243,-661 1344,-661 1344,-680\"/>\n",
       "<text text-anchor=\"middle\" x=\"1293.5\" y=\"-668\" font-family=\"monospace\" font-size=\"10.00\">AccumulateGrad</text>\n",
       "</g>\n",
       "<!-- 135855189476256&#45;&gt;135855189476208 -->\n",
       "<g id=\"edge96\" class=\"edge\">\n",
       "<title>135855189476256&#45;&gt;135855189476208</title>\n",
       "<path fill=\"none\" stroke=\"black\" d=\"M1277.75,-660.98C1262.27,-652.61 1238.41,-639.7 1220.36,-629.95\"/>\n",
       "<polygon fill=\"black\" stroke=\"black\" points=\"1221.99,-626.85 1211.53,-625.17 1218.66,-633.01 1221.99,-626.85\"/>\n",
       "</g>\n",
       "<!-- 135858584153488 -->\n",
       "<g id=\"node98\" class=\"node\">\n",
       "<title>135858584153488</title>\n",
       "<polygon fill=\"lightblue\" stroke=\"black\" points=\"1385,-746 1308,-746 1308,-716 1385,-716 1385,-746\"/>\n",
       "<text text-anchor=\"middle\" x=\"1346.5\" y=\"-734\" font-family=\"monospace\" font-size=\"10.00\">bn6.weight</text>\n",
       "<text text-anchor=\"middle\" x=\"1346.5\" y=\"-723\" font-family=\"monospace\" font-size=\"10.00\"> (1024)</text>\n",
       "</g>\n",
       "<!-- 135858584153488&#45;&gt;135855189476256 -->\n",
       "<g id=\"edge97\" class=\"edge\">\n",
       "<title>135858584153488&#45;&gt;135855189476256</title>\n",
       "<path fill=\"none\" stroke=\"black\" d=\"M1333.67,-715.84C1325.98,-707.35 1316.17,-696.52 1308.17,-687.69\"/>\n",
       "<polygon fill=\"black\" stroke=\"black\" points=\"1310.75,-685.33 1301.44,-680.27 1305.56,-690.03 1310.75,-685.33\"/>\n",
       "</g>\n",
       "<!-- 135855189476016 -->\n",
       "<g id=\"node99\" class=\"node\">\n",
       "<title>135855189476016</title>\n",
       "<polygon fill=\"lightgrey\" stroke=\"black\" points=\"1478,-680 1377,-680 1377,-661 1478,-661 1478,-680\"/>\n",
       "<text text-anchor=\"middle\" x=\"1427.5\" y=\"-668\" font-family=\"monospace\" font-size=\"10.00\">AccumulateGrad</text>\n",
       "</g>\n",
       "<!-- 135855189476016&#45;&gt;135855189476208 -->\n",
       "<g id=\"edge98\" class=\"edge\">\n",
       "<title>135855189476016&#45;&gt;135855189476208</title>\n",
       "<path fill=\"none\" stroke=\"black\" d=\"M1390.23,-660.98C1350.18,-651.84 1286.43,-637.27 1242.86,-627.32\"/>\n",
       "<polygon fill=\"black\" stroke=\"black\" points=\"1243.6,-623.9 1233.07,-625.08 1242.04,-630.72 1243.6,-623.9\"/>\n",
       "</g>\n",
       "<!-- 135858584152608 -->\n",
       "<g id=\"node100\" class=\"node\">\n",
       "<title>135858584152608</title>\n",
       "<polygon fill=\"lightblue\" stroke=\"black\" points=\"1468,-746 1403,-746 1403,-716 1468,-716 1468,-746\"/>\n",
       "<text text-anchor=\"middle\" x=\"1435.5\" y=\"-734\" font-family=\"monospace\" font-size=\"10.00\">bn6.bias</text>\n",
       "<text text-anchor=\"middle\" x=\"1435.5\" y=\"-723\" font-family=\"monospace\" font-size=\"10.00\"> (1024)</text>\n",
       "</g>\n",
       "<!-- 135858584152608&#45;&gt;135855189476016 -->\n",
       "<g id=\"edge99\" class=\"edge\">\n",
       "<title>135858584152608&#45;&gt;135855189476016</title>\n",
       "<path fill=\"none\" stroke=\"black\" d=\"M1433.56,-715.84C1432.52,-708.21 1431.22,-698.7 1430.09,-690.45\"/>\n",
       "<polygon fill=\"black\" stroke=\"black\" points=\"1433.52,-689.7 1428.7,-680.27 1426.59,-690.65 1433.52,-689.7\"/>\n",
       "</g>\n",
       "<!-- 135855189475920 -->\n",
       "<g id=\"node101\" class=\"node\">\n",
       "<title>135855189475920</title>\n",
       "<polygon fill=\"lightgrey\" stroke=\"black\" points=\"885,-867 694,-867 694,-848 885,-848 885,-867\"/>\n",
       "<text text-anchor=\"middle\" x=\"789.5\" y=\"-855\" font-family=\"monospace\" font-size=\"10.00\">MaxPool2DWithIndicesBackward0</text>\n",
       "</g>\n",
       "<!-- 135855189475920&#45;&gt;135855189475776 -->\n",
       "<g id=\"edge100\" class=\"edge\">\n",
       "<title>135855189475920&#45;&gt;135855189475776</title>\n",
       "<path fill=\"none\" stroke=\"black\" d=\"M796,-847.98C810.15,-828.54 842.5,-778.98 842.5,-732 842.5,-732 842.5,-732 842.5,-559.5 842.5,-524.71 845.79,-512.95 866.5,-485 878.06,-469.41 895.97,-456.94 911.03,-448.36\"/>\n",
       "<polygon fill=\"black\" stroke=\"black\" points=\"912.84,-451.36 919.96,-443.52 909.5,-445.2 912.84,-451.36\"/>\n",
       "</g>\n",
       "<!-- 135855189476352&#45;&gt;135855189475920 -->\n",
       "<g id=\"edge101\" class=\"edge\">\n",
       "<title>135855189476352&#45;&gt;135855189475920</title>\n",
       "<path fill=\"none\" stroke=\"black\" d=\"M778.48,-957.66C780.43,-940.17 784.8,-900.8 787.41,-877.27\"/>\n",
       "<polygon fill=\"black\" stroke=\"black\" points=\"790.91,-877.48 788.54,-867.16 783.95,-876.71 790.91,-877.48\"/>\n",
       "</g>\n",
       "<!-- 135855189476640 -->\n",
       "<g id=\"node103\" class=\"node\">\n",
       "<title>135855189476640</title>\n",
       "<polygon fill=\"lightgrey\" stroke=\"black\" points=\"598,-1037.5 497,-1037.5 497,-1018.5 598,-1018.5 598,-1037.5\"/>\n",
       "<text text-anchor=\"middle\" x=\"547.5\" y=\"-1025.5\" font-family=\"monospace\" font-size=\"10.00\">AccumulateGrad</text>\n",
       "</g>\n",
       "<!-- 135855189476640&#45;&gt;135855189476352 -->\n",
       "<g id=\"edge103\" class=\"edge\">\n",
       "<title>135855189476640&#45;&gt;135855189476352</title>\n",
       "<path fill=\"none\" stroke=\"black\" d=\"M580.94,-1018.49C621.4,-1008.2 689.6,-990.86 734.08,-979.54\"/>\n",
       "<polygon fill=\"black\" stroke=\"black\" points=\"735.19,-982.87 744.02,-977.02 733.46,-976.09 735.19,-982.87\"/>\n",
       "</g>\n",
       "<!-- 135855190936688 -->\n",
       "<g id=\"node104\" class=\"node\">\n",
       "<title>135855190936688</title>\n",
       "<polygon fill=\"lightblue\" stroke=\"black\" points=\"586,-1109 443,-1109 443,-1079 586,-1079 586,-1109\"/>\n",
       "<text text-anchor=\"middle\" x=\"514.5\" y=\"-1097\" font-family=\"monospace\" font-size=\"10.00\">conv_shortcut3.weight</text>\n",
       "<text text-anchor=\"middle\" x=\"514.5\" y=\"-1086\" font-family=\"monospace\" font-size=\"10.00\"> (1024, 256, 1, 1)</text>\n",
       "</g>\n",
       "<!-- 135855190936688&#45;&gt;135855189476640 -->\n",
       "<g id=\"edge104\" class=\"edge\">\n",
       "<title>135855190936688&#45;&gt;135855189476640</title>\n",
       "<path fill=\"none\" stroke=\"black\" d=\"M521.82,-1078.8C526.67,-1069.41 533.05,-1057.02 538.25,-1046.95\"/>\n",
       "<polygon fill=\"black\" stroke=\"black\" points=\"541.47,-1048.34 542.94,-1037.84 535.25,-1045.13 541.47,-1048.34\"/>\n",
       "</g>\n",
       "<!-- 135855189476544 -->\n",
       "<g id=\"node105\" class=\"node\">\n",
       "<title>135855189476544</title>\n",
       "<polygon fill=\"lightgrey\" stroke=\"black\" points=\"735,-1037.5 634,-1037.5 634,-1018.5 735,-1018.5 735,-1037.5\"/>\n",
       "<text text-anchor=\"middle\" x=\"684.5\" y=\"-1025.5\" font-family=\"monospace\" font-size=\"10.00\">AccumulateGrad</text>\n",
       "</g>\n",
       "<!-- 135855189476544&#45;&gt;135855189476352 -->\n",
       "<g id=\"edge105\" class=\"edge\">\n",
       "<title>135855189476544&#45;&gt;135855189476352</title>\n",
       "<path fill=\"none\" stroke=\"black\" d=\"M698.22,-1018.37C713.2,-1008.95 737.39,-993.73 755.12,-982.58\"/>\n",
       "<polygon fill=\"black\" stroke=\"black\" points=\"757.12,-985.45 763.72,-977.17 753.39,-979.53 757.12,-985.45\"/>\n",
       "</g>\n",
       "<!-- 135855190937248 -->\n",
       "<g id=\"node106\" class=\"node\">\n",
       "<title>135855190937248</title>\n",
       "<polygon fill=\"lightblue\" stroke=\"black\" points=\"735,-1109 604,-1109 604,-1079 735,-1079 735,-1109\"/>\n",
       "<text text-anchor=\"middle\" x=\"669.5\" y=\"-1097\" font-family=\"monospace\" font-size=\"10.00\">conv_shortcut3.bias</text>\n",
       "<text text-anchor=\"middle\" x=\"669.5\" y=\"-1086\" font-family=\"monospace\" font-size=\"10.00\"> (1024)</text>\n",
       "</g>\n",
       "<!-- 135855190937248&#45;&gt;135855189476544 -->\n",
       "<g id=\"edge106\" class=\"edge\">\n",
       "<title>135855190937248&#45;&gt;135855189476544</title>\n",
       "<path fill=\"none\" stroke=\"black\" d=\"M672.83,-1078.8C674.96,-1069.7 677.75,-1057.79 680.07,-1047.9\"/>\n",
       "<polygon fill=\"black\" stroke=\"black\" points=\"683.55,-1048.38 682.43,-1037.84 676.74,-1046.78 683.55,-1048.38\"/>\n",
       "</g>\n",
       "<!-- 135855189475488 -->\n",
       "<g id=\"node107\" class=\"node\">\n",
       "<title>135855189475488</title>\n",
       "<polygon fill=\"lightgrey\" stroke=\"black\" points=\"1092,-383 1015,-383 1015,-364 1092,-364 1092,-383\"/>\n",
       "<text text-anchor=\"middle\" x=\"1053.5\" y=\"-371\" font-family=\"monospace\" font-size=\"10.00\">TBackward0</text>\n",
       "</g>\n",
       "<!-- 135855189475488&#45;&gt;135855189475584 -->\n",
       "<g id=\"edge107\" class=\"edge\">\n",
       "<title>135855189475488&#45;&gt;135855189475584</title>\n",
       "<path fill=\"none\" stroke=\"black\" d=\"M1037.12,-363.87C1018.92,-354.28 989.3,-338.67 968.05,-327.47\"/>\n",
       "<polygon fill=\"black\" stroke=\"black\" points=\"969.42,-324.23 958.95,-322.67 966.16,-330.43 969.42,-324.23\"/>\n",
       "</g>\n",
       "<!-- 135855189476160 -->\n",
       "<g id=\"node108\" class=\"node\">\n",
       "<title>135855189476160</title>\n",
       "<polygon fill=\"lightgrey\" stroke=\"black\" points=\"1108,-443.5 1007,-443.5 1007,-424.5 1108,-424.5 1108,-443.5\"/>\n",
       "<text text-anchor=\"middle\" x=\"1057.5\" y=\"-431.5\" font-family=\"monospace\" font-size=\"10.00\">AccumulateGrad</text>\n",
       "</g>\n",
       "<!-- 135855189476160&#45;&gt;135855189475488 -->\n",
       "<g id=\"edge108\" class=\"edge\">\n",
       "<title>135855189476160&#45;&gt;135855189475488</title>\n",
       "<path fill=\"none\" stroke=\"black\" d=\"M1056.91,-424.37C1056.35,-416.25 1055.5,-403.81 1054.79,-393.39\"/>\n",
       "<polygon fill=\"black\" stroke=\"black\" points=\"1058.27,-392.91 1054.09,-383.17 1051.28,-393.38 1058.27,-392.91\"/>\n",
       "</g>\n",
       "<!-- 135855188092592 -->\n",
       "<g id=\"node109\" class=\"node\">\n",
       "<title>135855188092592</title>\n",
       "<polygon fill=\"lightblue\" stroke=\"black\" points=\"1114,-515 1019,-515 1019,-485 1114,-485 1114,-515\"/>\n",
       "<text text-anchor=\"middle\" x=\"1066.5\" y=\"-503\" font-family=\"monospace\" font-size=\"10.00\">fc1.weight</text>\n",
       "<text text-anchor=\"middle\" x=\"1066.5\" y=\"-492\" font-family=\"monospace\" font-size=\"10.00\"> (128, 16384)</text>\n",
       "</g>\n",
       "<!-- 135855188092592&#45;&gt;135855189476160 -->\n",
       "<g id=\"edge109\" class=\"edge\">\n",
       "<title>135855188092592&#45;&gt;135855189476160</title>\n",
       "<path fill=\"none\" stroke=\"black\" d=\"M1064.5,-484.8C1063.22,-475.7 1061.55,-463.79 1060.16,-453.9\"/>\n",
       "<polygon fill=\"black\" stroke=\"black\" points=\"1063.6,-453.26 1058.74,-443.84 1056.67,-454.23 1063.6,-453.26\"/>\n",
       "</g>\n",
       "<!-- 135855189343488 -->\n",
       "<g id=\"node110\" class=\"node\">\n",
       "<title>135855189343488</title>\n",
       "<polygon fill=\"lightgrey\" stroke=\"black\" points=\"1112,-196 1035,-196 1035,-177 1112,-177 1112,-196\"/>\n",
       "<text text-anchor=\"middle\" x=\"1073.5\" y=\"-184\" font-family=\"monospace\" font-size=\"10.00\">TBackward0</text>\n",
       "</g>\n",
       "<!-- 135855189343488&#45;&gt;135855189343440 -->\n",
       "<g id=\"edge110\" class=\"edge\">\n",
       "<title>135855189343488&#45;&gt;135855189343440</title>\n",
       "<path fill=\"none\" stroke=\"black\" d=\"M1052.45,-176.98C1031.09,-168.34 997.8,-154.87 973.44,-145.02\"/>\n",
       "<polygon fill=\"black\" stroke=\"black\" points=\"974.51,-141.68 963.93,-141.17 971.89,-148.17 974.51,-141.68\"/>\n",
       "</g>\n",
       "<!-- 135855189475728 -->\n",
       "<g id=\"node111\" class=\"node\">\n",
       "<title>135855189475728</title>\n",
       "<polygon fill=\"lightgrey\" stroke=\"black\" points=\"1124,-256.5 1023,-256.5 1023,-237.5 1124,-237.5 1124,-256.5\"/>\n",
       "<text text-anchor=\"middle\" x=\"1073.5\" y=\"-244.5\" font-family=\"monospace\" font-size=\"10.00\">AccumulateGrad</text>\n",
       "</g>\n",
       "<!-- 135855189475728&#45;&gt;135855189343488 -->\n",
       "<g id=\"edge111\" class=\"edge\">\n",
       "<title>135855189475728&#45;&gt;135855189343488</title>\n",
       "<path fill=\"none\" stroke=\"black\" d=\"M1073.5,-237.37C1073.5,-229.25 1073.5,-216.81 1073.5,-206.39\"/>\n",
       "<polygon fill=\"black\" stroke=\"black\" points=\"1077,-206.17 1073.5,-196.17 1070,-206.17 1077,-206.17\"/>\n",
       "</g>\n",
       "<!-- 135855190981216 -->\n",
       "<g id=\"node112\" class=\"node\">\n",
       "<title>135855190981216</title>\n",
       "<polygon fill=\"lightblue\" stroke=\"black\" points=\"1115,-328 1032,-328 1032,-298 1115,-298 1115,-328\"/>\n",
       "<text text-anchor=\"middle\" x=\"1073.5\" y=\"-316\" font-family=\"monospace\" font-size=\"10.00\">fc2.weight</text>\n",
       "<text text-anchor=\"middle\" x=\"1073.5\" y=\"-305\" font-family=\"monospace\" font-size=\"10.00\"> (100, 128)</text>\n",
       "</g>\n",
       "<!-- 135855190981216&#45;&gt;135855189475728 -->\n",
       "<g id=\"edge112\" class=\"edge\">\n",
       "<title>135855190981216&#45;&gt;135855189475728</title>\n",
       "<path fill=\"none\" stroke=\"black\" d=\"M1073.5,-297.8C1073.5,-288.7 1073.5,-276.79 1073.5,-266.9\"/>\n",
       "<polygon fill=\"black\" stroke=\"black\" points=\"1077,-266.84 1073.5,-256.84 1070,-266.84 1077,-266.84\"/>\n",
       "</g>\n",
       "</g>\n",
       "</svg>\n"
      ],
      "text/plain": [
       "<graphviz.graphs.Digraph at 0x7b8f404d3e20>"
      ]
     },
     "execution_count": 10,
     "metadata": {},
     "output_type": "execute_result"
    }
   ],
   "source": [
    "!pip install torchviz\n",
    "from torchviz import make_dot\n",
    "\n",
    "x = torch.randn(1, 3, 32, 32).to(device)\n",
    "model.eval()  # Set the model to evaluation mode\n",
    "y = model(x)\n",
    "make_dot(y, params=dict(model.named_parameters()))"
   ]
  },
  {
   "cell_type": "code",
   "execution_count": 11,
   "metadata": {
    "colab": {
     "base_uri": "https://localhost:8080/"
    },
    "id": "j91fnZ1uGhrM",
    "outputId": "b19e9e88-a66b-4400-da3c-3ece541af179"
   },
   "outputs": [
    {
     "data": {
      "text/plain": [
       "Net(\n",
       "  (conv1): Conv2d(3, 32, kernel_size=(3, 3), stride=(1, 1), padding=(1, 1))\n",
       "  (bn1): BatchNorm2d(32, eps=1e-05, momentum=0.1, affine=True, track_running_stats=True)\n",
       "  (conv2): Conv2d(32, 64, kernel_size=(3, 3), stride=(1, 1), padding=(1, 1))\n",
       "  (bn2): BatchNorm2d(64, eps=1e-05, momentum=0.1, affine=True, track_running_stats=True)\n",
       "  (conv_shortcut1): Conv2d(3, 64, kernel_size=(1, 1), stride=(1, 1))\n",
       "  (pool): MaxPool2d(kernel_size=2, stride=2, padding=0, dilation=1, ceil_mode=False)\n",
       "  (conv3): Conv2d(64, 128, kernel_size=(3, 3), stride=(1, 1), padding=(1, 1))\n",
       "  (bn3): BatchNorm2d(128, eps=1e-05, momentum=0.1, affine=True, track_running_stats=True)\n",
       "  (conv4): Conv2d(128, 256, kernel_size=(3, 3), stride=(1, 1), padding=(1, 1))\n",
       "  (bn4): BatchNorm2d(256, eps=1e-05, momentum=0.1, affine=True, track_running_stats=True)\n",
       "  (conv_shortcut2): Conv2d(64, 256, kernel_size=(1, 1), stride=(1, 1))\n",
       "  (pool2): MaxPool2d(kernel_size=2, stride=2, padding=0, dilation=1, ceil_mode=False)\n",
       "  (conv5): Conv2d(256, 512, kernel_size=(3, 3), stride=(1, 1), padding=(1, 1))\n",
       "  (bn5): BatchNorm2d(512, eps=1e-05, momentum=0.1, affine=True, track_running_stats=True)\n",
       "  (conv6): Conv2d(512, 1024, kernel_size=(3, 3), stride=(1, 1), padding=(1, 1))\n",
       "  (bn6): BatchNorm2d(1024, eps=1e-05, momentum=0.1, affine=True, track_running_stats=True)\n",
       "  (conv_shortcut3): Conv2d(256, 1024, kernel_size=(1, 1), stride=(1, 1))\n",
       "  (fc1): Linear(in_features=16384, out_features=128, bias=True)\n",
       "  (fc2): Linear(in_features=128, out_features=100, bias=True)\n",
       ")"
      ]
     },
     "execution_count": 11,
     "metadata": {},
     "output_type": "execute_result"
    }
   ],
   "source": [
    "# Set the model back to training mode\n",
    "model.train()"
   ]
  },
  {
   "cell_type": "code",
   "execution_count": 15,
   "metadata": {
    "colab": {
     "base_uri": "https://localhost:8080/"
    },
    "id": "3zOFVD6mbEG_",
    "outputId": "35872501-b408-4dcd-e551-698d0f7322b6"
   },
   "outputs": [
    {
     "name": "stdout",
     "output_type": "stream",
     "text": [
      "Requirement already satisfied: tqdm in /usr/local/lib/python3.10/dist-packages (4.66.1)\n"
     ]
    }
   ],
   "source": [
    "import torch\n",
    "import torch.nn as nn\n",
    "import torch.optim as optim\n",
    "!pip install tqdm\n",
    "from tqdm import tqdm\n",
    "from sklearn.model_selection import KFold\n",
    "\n",
    "train_losses = []\n",
    "train_accuracies = []\n",
    "validation_losses = []\n",
    "validation_accuracies = []\n",
    "all_folds_preds = []\n",
    "all_folds_labels = []\n",
    "k = 7\n",
    "def cross_validate(model, dataset, train_transforms, k=k):\n",
    "  kfold = KFold(n_splits=k, shuffle=True)\n",
    "  for fold, (train_indices, val_indices) in enumerate(kfold.split(dataset)):\n",
    "    train_subset = torch.utils.data.Subset(dataset, train_indices)\n",
    "    val_subset = torch.utils.data.Subset(dataset, val_indices)\n",
    "    train_subset.dataset.transform = train_transforms\n",
    "    train_loader = torch.utils.data.DataLoader(train_subset, batch_size=64, shuffle=True)\n",
    "    val_loader = torch.utils.data.DataLoader(val_subset, batch_size=64, shuffle=True)\n",
    "    criterion = nn.CrossEntropyLoss()\n",
    "    optimizer = optim.Adam(model.parameters(), lr=0.001, betas=(0.9, 0.999), weight_decay=0.0004)\n",
    "    max_epochs = 50\n",
    "    patience = 5\n",
    "    best_validation_loss = float('inf')\n",
    "    epochs_without_improvement = 0\n",
    "    for epoch in range(max_epochs):\n",
    "      running_loss = 0.0\n",
    "      correct = 0\n",
    "      total = 0\n",
    "      for i, data in enumerate(tqdm(train_loader)):\n",
    "        inputs, labels = data[0].to(device), data[1].to(device)\n",
    "        optimizer.zero_grad()\n",
    "        outputs = model(inputs)\n",
    "        loss = criterion(outputs, labels)\n",
    "        loss.backward()\n",
    "        optimizer.step()\n",
    "        running_loss += loss.item()\n",
    "        _, predicted = torch.max(outputs.data, 1)\n",
    "        total += labels.size(0)\n",
    "        correct += (predicted == labels).sum().item()\n",
    "      train_loss = running_loss / len(train_subset)\n",
    "      train_accuracy = correct / total\n",
    "      train_losses.append(train_loss)\n",
    "      train_accuracies.append(train_accuracy)\n",
    "      print(f'Epoch: {epoch} Loss: {train_loss:.3f} Acc: {train_accuracy:.3f}')\n",
    "      model.eval()\n",
    "      running_loss = 0.0\n",
    "      correct = 0\n",
    "      total = 0\n",
    "      with torch.no_grad():\n",
    "        for i, data in enumerate(val_loader):\n",
    "          inputs, labels = data[0].to(device), data[1].to(device)\n",
    "          outputs = model(inputs)\n",
    "          loss = criterion(outputs, labels)\n",
    "          running_loss += loss.item()\n",
    "          _, predicted = torch.max(outputs.data, 1)\n",
    "          total += labels.size(0)\n",
    "          correct += (predicted == labels).sum().item()\n",
    "      validation_loss = running_loss / len(test_loader)\n",
    "      if validation_loss < best_validation_loss:\n",
    "        epochs_without_improvement = 0\n",
    "        best_validation_loss = validation_loss\n",
    "      else:\n",
    "        epochs_without_improvement += 1\n",
    "      if epochs_without_improvement >= patience:\n",
    "        validation_accuracy = correct / total\n",
    "        validation_losses.append(validation_loss)\n",
    "        validation_accuracies.append(validation_accuracy)\n",
    "        print(f'Epoch: {epoch} Val Loss: {running_loss / len(test_loader):.3f} Val Acc: {correct / total:.3f}')\n",
    "        print(f\"Stopping early at epoch {epoch} due to no improvement in the validation loss\")\n",
    "        break\n",
    "      validation_accuracy = correct / total\n",
    "      validation_losses.append(validation_loss)\n",
    "      validation_accuracies.append(validation_accuracy)\n",
    "      print(f'Epoch: {epoch} Val Loss: {running_loss / len(test_loader):.3f} Val Acc: {correct / total:.3f}')\n",
    "  model.eval()\n",
    "  with torch.no_grad():\n",
    "    all_preds = []\n",
    "    all_labels = []\n",
    "    for i, data in enumerate(val_loader):\n",
    "      inputs, labels = data[0].to(device), data[1].to(device)\n",
    "      outputs = model(inputs)\n",
    "      all_preds.append(outputs)\n",
    "      all_labels.append(labels)\n",
    "    all_preds = torch.cat(all_preds)\n",
    "    all_labels = torch.cat(all_labels)\n",
    "  all_folds_preds.append(all_preds)\n",
    "  all_folds_labels.append(all_labels)"
   ]
  },
  {
   "cell_type": "code",
   "execution_count": 16,
   "metadata": {
    "colab": {
     "base_uri": "https://localhost:8080/"
    },
    "id": "e7EqnO17vVJW",
    "outputId": "a497e07d-dd95-4b63-a5f7-cff086298d75"
   },
   "outputs": [
    {
     "metadata": {
      "tags": null
     },
     "name": "stderr",
     "output_type": "stream",
     "text": [
      "100%|██████████| 2411/2411 [02:35<00:00, 15.54it/s]\n"
     ]
    },
    {
     "metadata": {
      "tags": null
     },
     "name": "stdout",
     "output_type": "stream",
     "text": [
      "Epoch: 0 Loss: 0.023 Acc: 0.458\n",
      "Epoch: 0 Val Loss: 0.767 Val Acc: 0.518\n"
     ]
    },
    {
     "metadata": {
      "tags": null
     },
     "name": "stderr",
     "output_type": "stream",
     "text": [
      "100%|██████████| 2411/2411 [02:24<00:00, 16.71it/s]\n"
     ]
    },
    {
     "metadata": {
      "tags": null
     },
     "name": "stdout",
     "output_type": "stream",
     "text": [
      "Epoch: 1 Loss: 0.019 Acc: 0.553\n",
      "Epoch: 1 Val Loss: 0.677 Val Acc: 0.577\n"
     ]
    },
    {
     "metadata": {
      "tags": null
     },
     "name": "stderr",
     "output_type": "stream",
     "text": [
      "100%|██████████| 2411/2411 [02:24<00:00, 16.70it/s]\n"
     ]
    },
    {
     "metadata": {
      "tags": null
     },
     "name": "stdout",
     "output_type": "stream",
     "text": [
      "Epoch: 2 Loss: 0.018 Acc: 0.593\n",
      "Epoch: 2 Val Loss: 0.634 Val Acc: 0.601\n"
     ]
    },
    {
     "metadata": {
      "tags": null
     },
     "name": "stderr",
     "output_type": "stream",
     "text": [
      "100%|██████████| 2411/2411 [02:24<00:00, 16.71it/s]\n"
     ]
    },
    {
     "metadata": {
      "tags": null
     },
     "name": "stdout",
     "output_type": "stream",
     "text": [
      "Epoch: 3 Loss: 0.017 Acc: 0.613\n",
      "Epoch: 3 Val Loss: 0.611 Val Acc: 0.613\n"
     ]
    },
    {
     "metadata": {
      "tags": null
     },
     "name": "stderr",
     "output_type": "stream",
     "text": [
      "100%|██████████| 2411/2411 [02:24<00:00, 16.68it/s]\n"
     ]
    },
    {
     "metadata": {
      "tags": null
     },
     "name": "stdout",
     "output_type": "stream",
     "text": [
      "Epoch: 4 Loss: 0.016 Acc: 0.630\n",
      "Epoch: 4 Val Loss: 0.589 Val Acc: 0.633\n"
     ]
    },
    {
     "metadata": {
      "tags": null
     },
     "name": "stderr",
     "output_type": "stream",
     "text": [
      "100%|██████████| 2411/2411 [02:30<00:00, 16.04it/s]\n"
     ]
    },
    {
     "metadata": {
      "tags": null
     },
     "name": "stdout",
     "output_type": "stream",
     "text": [
      "Epoch: 5 Loss: 0.016 Acc: 0.639\n",
      "Epoch: 5 Val Loss: 0.571 Val Acc: 0.642\n"
     ]
    },
    {
     "metadata": {
      "tags": null
     },
     "name": "stderr",
     "output_type": "stream",
     "text": [
      "100%|██████████| 2411/2411 [02:24<00:00, 16.72it/s]\n"
     ]
    },
    {
     "metadata": {
      "tags": null
     },
     "name": "stdout",
     "output_type": "stream",
     "text": [
      "Epoch: 6 Loss: 0.015 Acc: 0.649\n",
      "Epoch: 6 Val Loss: 0.568 Val Acc: 0.643\n"
     ]
    },
    {
     "metadata": {
      "tags": null
     },
     "name": "stderr",
     "output_type": "stream",
     "text": [
      "100%|██████████| 2411/2411 [02:24<00:00, 16.69it/s]\n"
     ]
    },
    {
     "metadata": {
      "tags": null
     },
     "name": "stdout",
     "output_type": "stream",
     "text": [
      "Epoch: 7 Loss: 0.015 Acc: 0.654\n",
      "Epoch: 7 Val Loss: 0.566 Val Acc: 0.647\n"
     ]
    },
    {
     "metadata": {
      "tags": null
     },
     "name": "stderr",
     "output_type": "stream",
     "text": [
      "100%|██████████| 2411/2411 [02:23<00:00, 16.84it/s]\n"
     ]
    },
    {
     "metadata": {
      "tags": null
     },
     "name": "stdout",
     "output_type": "stream",
     "text": [
      "Epoch: 8 Loss: 0.015 Acc: 0.660\n",
      "Epoch: 8 Val Loss: 0.571 Val Acc: 0.640\n"
     ]
    },
    {
     "metadata": {
      "tags": null
     },
     "name": "stderr",
     "output_type": "stream",
     "text": [
      "100%|██████████| 2411/2411 [02:22<00:00, 16.94it/s]\n"
     ]
    },
    {
     "metadata": {
      "tags": null
     },
     "name": "stdout",
     "output_type": "stream",
     "text": [
      "Epoch: 9 Loss: 0.015 Acc: 0.666\n",
      "Epoch: 9 Val Loss: 0.546 Val Acc: 0.659\n"
     ]
    },
    {
     "metadata": {
      "tags": null
     },
     "name": "stderr",
     "output_type": "stream",
     "text": [
      "100%|██████████| 2411/2411 [02:22<00:00, 16.90it/s]\n"
     ]
    },
    {
     "metadata": {
      "tags": null
     },
     "name": "stdout",
     "output_type": "stream",
     "text": [
      "Epoch: 10 Loss: 0.014 Acc: 0.670\n",
      "Epoch: 10 Val Loss: 0.573 Val Acc: 0.643\n"
     ]
    },
    {
     "metadata": {
      "tags": null
     },
     "name": "stderr",
     "output_type": "stream",
     "text": [
      "100%|██████████| 2411/2411 [02:22<00:00, 16.91it/s]\n"
     ]
    },
    {
     "metadata": {
      "tags": null
     },
     "name": "stdout",
     "output_type": "stream",
     "text": [
      "Epoch: 11 Loss: 0.014 Acc: 0.675\n",
      "Epoch: 11 Val Loss: 0.547 Val Acc: 0.661\n"
     ]
    },
    {
     "metadata": {
      "tags": null
     },
     "name": "stderr",
     "output_type": "stream",
     "text": [
      "100%|██████████| 2411/2411 [02:22<00:00, 16.93it/s]\n"
     ]
    },
    {
     "metadata": {
      "tags": null
     },
     "name": "stdout",
     "output_type": "stream",
     "text": [
      "Epoch: 12 Loss: 0.014 Acc: 0.678\n",
      "Epoch: 12 Val Loss: 0.528 Val Acc: 0.671\n"
     ]
    },
    {
     "metadata": {
      "tags": null
     },
     "name": "stderr",
     "output_type": "stream",
     "text": [
      "100%|██████████| 2411/2411 [02:22<00:00, 16.90it/s]\n"
     ]
    },
    {
     "metadata": {
      "tags": null
     },
     "name": "stdout",
     "output_type": "stream",
     "text": [
      "Epoch: 13 Loss: 0.014 Acc: 0.681\n",
      "Epoch: 13 Val Loss: 0.527 Val Acc: 0.674\n"
     ]
    },
    {
     "metadata": {
      "tags": null
     },
     "name": "stderr",
     "output_type": "stream",
     "text": [
      "100%|██████████| 2411/2411 [02:23<00:00, 16.77it/s]\n"
     ]
    },
    {
     "metadata": {
      "tags": null
     },
     "name": "stdout",
     "output_type": "stream",
     "text": [
      "Epoch: 14 Loss: 0.014 Acc: 0.684\n",
      "Epoch: 14 Val Loss: 0.542 Val Acc: 0.659\n"
     ]
    },
    {
     "metadata": {
      "tags": null
     },
     "name": "stderr",
     "output_type": "stream",
     "text": [
      "100%|██████████| 2411/2411 [02:23<00:00, 16.85it/s]\n"
     ]
    },
    {
     "metadata": {
      "tags": null
     },
     "name": "stdout",
     "output_type": "stream",
     "text": [
      "Epoch: 15 Loss: 0.014 Acc: 0.685\n",
      "Epoch: 15 Val Loss: 0.542 Val Acc: 0.657\n"
     ]
    },
    {
     "metadata": {
      "tags": null
     },
     "name": "stderr",
     "output_type": "stream",
     "text": [
      "100%|██████████| 2411/2411 [02:22<00:00, 16.87it/s]\n"
     ]
    },
    {
     "metadata": {
      "tags": null
     },
     "name": "stdout",
     "output_type": "stream",
     "text": [
      "Epoch: 16 Loss: 0.014 Acc: 0.686\n",
      "Epoch: 16 Val Loss: 0.535 Val Acc: 0.667\n"
     ]
    },
    {
     "metadata": {
      "tags": null
     },
     "name": "stderr",
     "output_type": "stream",
     "text": [
      "100%|██████████| 2411/2411 [02:22<00:00, 16.95it/s]\n"
     ]
    },
    {
     "metadata": {
      "tags": null
     },
     "name": "stdout",
     "output_type": "stream",
     "text": [
      "Epoch: 17 Loss: 0.014 Acc: 0.688\n",
      "Epoch: 17 Val Loss: 0.525 Val Acc: 0.673\n"
     ]
    },
    {
     "metadata": {
      "tags": null
     },
     "name": "stderr",
     "output_type": "stream",
     "text": [
      "100%|██████████| 2411/2411 [02:21<00:00, 17.02it/s]\n"
     ]
    },
    {
     "metadata": {
      "tags": null
     },
     "name": "stdout",
     "output_type": "stream",
     "text": [
      "Epoch: 18 Loss: 0.014 Acc: 0.689\n",
      "Epoch: 18 Val Loss: 0.514 Val Acc: 0.681\n"
     ]
    },
    {
     "metadata": {
      "tags": null
     },
     "name": "stderr",
     "output_type": "stream",
     "text": [
      "100%|██████████| 2411/2411 [02:21<00:00, 16.98it/s]\n"
     ]
    },
    {
     "metadata": {
      "tags": null
     },
     "name": "stdout",
     "output_type": "stream",
     "text": [
      "Epoch: 19 Loss: 0.013 Acc: 0.691\n",
      "Epoch: 19 Val Loss: 0.533 Val Acc: 0.669\n"
     ]
    },
    {
     "metadata": {
      "tags": null
     },
     "name": "stderr",
     "output_type": "stream",
     "text": [
      "100%|██████████| 2411/2411 [02:21<00:00, 17.03it/s]\n"
     ]
    },
    {
     "metadata": {
      "tags": null
     },
     "name": "stdout",
     "output_type": "stream",
     "text": [
      "Epoch: 20 Loss: 0.013 Acc: 0.693\n",
      "Epoch: 20 Val Loss: 0.511 Val Acc: 0.677\n"
     ]
    },
    {
     "metadata": {
      "tags": null
     },
     "name": "stderr",
     "output_type": "stream",
     "text": [
      "100%|██████████| 2411/2411 [02:22<00:00, 16.90it/s]\n"
     ]
    },
    {
     "metadata": {
      "tags": null
     },
     "name": "stdout",
     "output_type": "stream",
     "text": [
      "Epoch: 21 Loss: 0.013 Acc: 0.695\n",
      "Epoch: 21 Val Loss: 0.522 Val Acc: 0.672\n"
     ]
    },
    {
     "metadata": {
      "tags": null
     },
     "name": "stderr",
     "output_type": "stream",
     "text": [
      "100%|██████████| 2411/2411 [02:23<00:00, 16.78it/s]\n"
     ]
    },
    {
     "metadata": {
      "tags": null
     },
     "name": "stdout",
     "output_type": "stream",
     "text": [
      "Epoch: 22 Loss: 0.013 Acc: 0.696\n",
      "Epoch: 22 Val Loss: 0.532 Val Acc: 0.668\n"
     ]
    },
    {
     "metadata": {
      "tags": null
     },
     "name": "stderr",
     "output_type": "stream",
     "text": [
      "100%|██████████| 2411/2411 [02:24<00:00, 16.74it/s]\n"
     ]
    },
    {
     "metadata": {
      "tags": null
     },
     "name": "stdout",
     "output_type": "stream",
     "text": [
      "Epoch: 23 Loss: 0.013 Acc: 0.697\n",
      "Epoch: 23 Val Loss: 0.527 Val Acc: 0.672\n"
     ]
    },
    {
     "metadata": {
      "tags": null
     },
     "name": "stderr",
     "output_type": "stream",
     "text": [
      "100%|██████████| 2411/2411 [02:23<00:00, 16.75it/s]\n"
     ]
    },
    {
     "metadata": {
      "tags": null
     },
     "name": "stdout",
     "output_type": "stream",
     "text": [
      "Epoch: 24 Loss: 0.013 Acc: 0.699\n",
      "Epoch: 24 Val Loss: 0.515 Val Acc: 0.683\n"
     ]
    },
    {
     "metadata": {
      "tags": null
     },
     "name": "stderr",
     "output_type": "stream",
     "text": [
      "100%|██████████| 2411/2411 [02:24<00:00, 16.74it/s]\n"
     ]
    },
    {
     "metadata": {
      "tags": null
     },
     "name": "stdout",
     "output_type": "stream",
     "text": [
      "Epoch: 25 Loss: 0.013 Acc: 0.700\n",
      "Epoch: 25 Val Loss: 0.517 Val Acc: 0.679\n",
      "Stopping early at epoch 25 due to no improvement in the validation loss\n"
     ]
    },
    {
     "metadata": {
      "tags": null
     },
     "name": "stderr",
     "output_type": "stream",
     "text": [
      "100%|██████████| 2411/2411 [02:22<00:00, 16.89it/s]\n"
     ]
    },
    {
     "metadata": {
      "tags": null
     },
     "name": "stdout",
     "output_type": "stream",
     "text": [
      "Epoch: 0 Loss: 0.013 Acc: 0.697\n",
      "Epoch: 0 Val Loss: 0.485 Val Acc: 0.695\n"
     ]
    },
    {
     "metadata": {
      "tags": null
     },
     "name": "stderr",
     "output_type": "stream",
     "text": [
      "100%|██████████| 2411/2411 [02:22<00:00, 16.98it/s]\n"
     ]
    },
    {
     "metadata": {
      "tags": null
     },
     "name": "stdout",
     "output_type": "stream",
     "text": [
      "Epoch: 1 Loss: 0.013 Acc: 0.699\n",
      "Epoch: 1 Val Loss: 0.504 Val Acc: 0.682\n"
     ]
    },
    {
     "metadata": {
      "tags": null
     },
     "name": "stderr",
     "output_type": "stream",
     "text": [
      "100%|██████████| 2411/2411 [02:22<00:00, 16.96it/s]\n"
     ]
    },
    {
     "metadata": {
      "tags": null
     },
     "name": "stdout",
     "output_type": "stream",
     "text": [
      "Epoch: 2 Loss: 0.013 Acc: 0.699\n",
      "Epoch: 2 Val Loss: 0.492 Val Acc: 0.692\n"
     ]
    },
    {
     "metadata": {
      "tags": null
     },
     "name": "stderr",
     "output_type": "stream",
     "text": [
      "100%|██████████| 2411/2411 [02:21<00:00, 16.99it/s]\n"
     ]
    },
    {
     "metadata": {
      "tags": null
     },
     "name": "stdout",
     "output_type": "stream",
     "text": [
      "Epoch: 3 Loss: 0.013 Acc: 0.701\n",
      "Epoch: 3 Val Loss: 0.492 Val Acc: 0.693\n"
     ]
    },
    {
     "metadata": {
      "tags": null
     },
     "name": "stderr",
     "output_type": "stream",
     "text": [
      "100%|██████████| 2411/2411 [02:21<00:00, 17.03it/s]\n"
     ]
    },
    {
     "metadata": {
      "tags": null
     },
     "name": "stdout",
     "output_type": "stream",
     "text": [
      "Epoch: 4 Loss: 0.013 Acc: 0.701\n",
      "Epoch: 4 Val Loss: 0.504 Val Acc: 0.680\n"
     ]
    },
    {
     "metadata": {
      "tags": null
     },
     "name": "stderr",
     "output_type": "stream",
     "text": [
      "100%|██████████| 2411/2411 [02:22<00:00, 16.96it/s]\n"
     ]
    },
    {
     "metadata": {
      "tags": null
     },
     "name": "stdout",
     "output_type": "stream",
     "text": [
      "Epoch: 5 Loss: 0.013 Acc: 0.704\n",
      "Epoch: 5 Val Loss: 0.504 Val Acc: 0.681\n",
      "Stopping early at epoch 5 due to no improvement in the validation loss\n"
     ]
    },
    {
     "metadata": {
      "tags": null
     },
     "name": "stderr",
     "output_type": "stream",
     "text": [
      "100%|██████████| 2411/2411 [02:23<00:00, 16.81it/s]\n"
     ]
    },
    {
     "metadata": {
      "tags": null
     },
     "name": "stdout",
     "output_type": "stream",
     "text": [
      "Epoch: 0 Loss: 0.013 Acc: 0.702\n",
      "Epoch: 0 Val Loss: 0.487 Val Acc: 0.693\n"
     ]
    },
    {
     "metadata": {
      "tags": null
     },
     "name": "stderr",
     "output_type": "stream",
     "text": [
      "100%|██████████| 2411/2411 [02:22<00:00, 16.91it/s]\n"
     ]
    },
    {
     "metadata": {
      "tags": null
     },
     "name": "stdout",
     "output_type": "stream",
     "text": [
      "Epoch: 1 Loss: 0.013 Acc: 0.703\n",
      "Epoch: 1 Val Loss: 0.487 Val Acc: 0.696\n"
     ]
    },
    {
     "metadata": {
      "tags": null
     },
     "name": "stderr",
     "output_type": "stream",
     "text": [
      "100%|██████████| 2411/2411 [02:21<00:00, 16.99it/s]\n"
     ]
    },
    {
     "metadata": {
      "tags": null
     },
     "name": "stdout",
     "output_type": "stream",
     "text": [
      "Epoch: 2 Loss: 0.013 Acc: 0.704\n",
      "Epoch: 2 Val Loss: 0.498 Val Acc: 0.686\n"
     ]
    },
    {
     "metadata": {
      "tags": null
     },
     "name": "stderr",
     "output_type": "stream",
     "text": [
      "100%|██████████| 2411/2411 [02:22<00:00, 16.93it/s]\n"
     ]
    },
    {
     "metadata": {
      "tags": null
     },
     "name": "stdout",
     "output_type": "stream",
     "text": [
      "Epoch: 3 Loss: 0.013 Acc: 0.707\n",
      "Epoch: 3 Val Loss: 0.490 Val Acc: 0.696\n"
     ]
    },
    {
     "metadata": {
      "tags": null
     },
     "name": "stderr",
     "output_type": "stream",
     "text": [
      "100%|██████████| 2411/2411 [02:22<00:00, 16.95it/s]\n"
     ]
    },
    {
     "metadata": {
      "tags": null
     },
     "name": "stdout",
     "output_type": "stream",
     "text": [
      "Epoch: 4 Loss: 0.013 Acc: 0.706\n",
      "Epoch: 4 Val Loss: 0.496 Val Acc: 0.691\n"
     ]
    },
    {
     "metadata": {
      "tags": null
     },
     "name": "stderr",
     "output_type": "stream",
     "text": [
      "100%|██████████| 2411/2411 [02:22<00:00, 16.91it/s]\n"
     ]
    },
    {
     "metadata": {
      "tags": null
     },
     "name": "stdout",
     "output_type": "stream",
     "text": [
      "Epoch: 5 Loss: 0.013 Acc: 0.710\n",
      "Epoch: 5 Val Loss: 0.489 Val Acc: 0.695\n",
      "Stopping early at epoch 5 due to no improvement in the validation loss\n"
     ]
    },
    {
     "metadata": {
      "tags": null
     },
     "name": "stderr",
     "output_type": "stream",
     "text": [
      "100%|██████████| 2411/2411 [02:23<00:00, 16.82it/s]\n"
     ]
    },
    {
     "metadata": {
      "tags": null
     },
     "name": "stdout",
     "output_type": "stream",
     "text": [
      "Epoch: 0 Loss: 0.013 Acc: 0.703\n",
      "Epoch: 0 Val Loss: 0.481 Val Acc: 0.697\n"
     ]
    },
    {
     "metadata": {
      "tags": null
     },
     "name": "stderr",
     "output_type": "stream",
     "text": [
      "100%|██████████| 2411/2411 [02:23<00:00, 16.83it/s]\n"
     ]
    },
    {
     "metadata": {
      "tags": null
     },
     "name": "stdout",
     "output_type": "stream",
     "text": [
      "Epoch: 1 Loss: 0.013 Acc: 0.706\n",
      "Epoch: 1 Val Loss: 0.496 Val Acc: 0.689\n"
     ]
    },
    {
     "metadata": {
      "tags": null
     },
     "name": "stderr",
     "output_type": "stream",
     "text": [
      "100%|██████████| 2411/2411 [02:23<00:00, 16.84it/s]\n"
     ]
    },
    {
     "metadata": {
      "tags": null
     },
     "name": "stdout",
     "output_type": "stream",
     "text": [
      "Epoch: 2 Loss: 0.013 Acc: 0.708\n",
      "Epoch: 2 Val Loss: 0.492 Val Acc: 0.691\n"
     ]
    },
    {
     "metadata": {
      "tags": null
     },
     "name": "stderr",
     "output_type": "stream",
     "text": [
      "100%|██████████| 2411/2411 [02:22<00:00, 16.86it/s]\n"
     ]
    },
    {
     "metadata": {
      "tags": null
     },
     "name": "stdout",
     "output_type": "stream",
     "text": [
      "Epoch: 3 Loss: 0.013 Acc: 0.708\n",
      "Epoch: 3 Val Loss: 0.494 Val Acc: 0.694\n"
     ]
    },
    {
     "metadata": {
      "tags": null
     },
     "name": "stderr",
     "output_type": "stream",
     "text": [
      "100%|██████████| 2411/2411 [02:22<00:00, 16.96it/s]\n"
     ]
    },
    {
     "metadata": {
      "tags": null
     },
     "name": "stdout",
     "output_type": "stream",
     "text": [
      "Epoch: 4 Loss: 0.013 Acc: 0.709\n",
      "Epoch: 4 Val Loss: 0.484 Val Acc: 0.700\n"
     ]
    },
    {
     "metadata": {
      "tags": null
     },
     "name": "stderr",
     "output_type": "stream",
     "text": [
      "100%|██████████| 2411/2411 [02:20<00:00, 17.16it/s]\n"
     ]
    },
    {
     "metadata": {
      "tags": null
     },
     "name": "stdout",
     "output_type": "stream",
     "text": [
      "Epoch: 5 Loss: 0.013 Acc: 0.708\n",
      "Epoch: 5 Val Loss: 0.494 Val Acc: 0.693\n",
      "Stopping early at epoch 5 due to no improvement in the validation loss\n"
     ]
    },
    {
     "metadata": {
      "tags": null
     },
     "name": "stderr",
     "output_type": "stream",
     "text": [
      "100%|██████████| 2411/2411 [02:21<00:00, 17.04it/s]\n"
     ]
    },
    {
     "metadata": {
      "tags": null
     },
     "name": "stdout",
     "output_type": "stream",
     "text": [
      "Epoch: 0 Loss: 0.013 Acc: 0.708\n",
      "Epoch: 0 Val Loss: 0.473 Val Acc: 0.707\n"
     ]
    },
    {
     "metadata": {
      "tags": null
     },
     "name": "stderr",
     "output_type": "stream",
     "text": [
      "100%|██████████| 2411/2411 [02:20<00:00, 17.18it/s]\n"
     ]
    },
    {
     "metadata": {
      "tags": null
     },
     "name": "stdout",
     "output_type": "stream",
     "text": [
      "Epoch: 1 Loss: 0.013 Acc: 0.709\n",
      "Epoch: 1 Val Loss: 0.472 Val Acc: 0.706\n"
     ]
    },
    {
     "metadata": {
      "tags": null
     },
     "name": "stderr",
     "output_type": "stream",
     "text": [
      "100%|██████████| 2411/2411 [02:20<00:00, 17.12it/s]\n"
     ]
    },
    {
     "metadata": {
      "tags": null
     },
     "name": "stdout",
     "output_type": "stream",
     "text": [
      "Epoch: 2 Loss: 0.013 Acc: 0.709\n",
      "Epoch: 2 Val Loss: 0.499 Val Acc: 0.685\n"
     ]
    },
    {
     "metadata": {
      "tags": null
     },
     "name": "stderr",
     "output_type": "stream",
     "text": [
      "100%|██████████| 2411/2411 [02:21<00:00, 17.09it/s]\n"
     ]
    },
    {
     "metadata": {
      "tags": null
     },
     "name": "stdout",
     "output_type": "stream",
     "text": [
      "Epoch: 3 Loss: 0.013 Acc: 0.711\n",
      "Epoch: 3 Val Loss: 0.471 Val Acc: 0.709\n"
     ]
    },
    {
     "metadata": {
      "tags": null
     },
     "name": "stderr",
     "output_type": "stream",
     "text": [
      "100%|██████████| 2411/2411 [02:20<00:00, 17.18it/s]\n"
     ]
    },
    {
     "metadata": {
      "tags": null
     },
     "name": "stdout",
     "output_type": "stream",
     "text": [
      "Epoch: 4 Loss: 0.013 Acc: 0.711\n",
      "Epoch: 4 Val Loss: 0.483 Val Acc: 0.697\n"
     ]
    },
    {
     "metadata": {
      "tags": null
     },
     "name": "stderr",
     "output_type": "stream",
     "text": [
      "100%|██████████| 2411/2411 [02:20<00:00, 17.14it/s]\n"
     ]
    },
    {
     "metadata": {
      "tags": null
     },
     "name": "stdout",
     "output_type": "stream",
     "text": [
      "Epoch: 5 Loss: 0.013 Acc: 0.711\n",
      "Epoch: 5 Val Loss: 0.502 Val Acc: 0.688\n"
     ]
    },
    {
     "metadata": {
      "tags": null
     },
     "name": "stderr",
     "output_type": "stream",
     "text": [
      "100%|██████████| 2411/2411 [02:20<00:00, 17.14it/s]\n"
     ]
    },
    {
     "metadata": {
      "tags": null
     },
     "name": "stdout",
     "output_type": "stream",
     "text": [
      "Epoch: 6 Loss: 0.013 Acc: 0.711\n",
      "Epoch: 6 Val Loss: 0.497 Val Acc: 0.691\n"
     ]
    },
    {
     "metadata": {
      "tags": null
     },
     "name": "stderr",
     "output_type": "stream",
     "text": [
      "100%|██████████| 2411/2411 [02:19<00:00, 17.25it/s]\n"
     ]
    },
    {
     "metadata": {
      "tags": null
     },
     "name": "stdout",
     "output_type": "stream",
     "text": [
      "Epoch: 7 Loss: 0.013 Acc: 0.713\n",
      "Epoch: 7 Val Loss: 0.485 Val Acc: 0.701\n"
     ]
    },
    {
     "metadata": {
      "tags": null
     },
     "name": "stderr",
     "output_type": "stream",
     "text": [
      "100%|██████████| 2411/2411 [02:17<00:00, 17.59it/s]\n"
     ]
    },
    {
     "metadata": {
      "tags": null
     },
     "name": "stdout",
     "output_type": "stream",
     "text": [
      "Epoch: 8 Loss: 0.013 Acc: 0.712\n",
      "Epoch: 8 Val Loss: 0.493 Val Acc: 0.695\n",
      "Stopping early at epoch 8 due to no improvement in the validation loss\n"
     ]
    },
    {
     "metadata": {
      "tags": null
     },
     "name": "stderr",
     "output_type": "stream",
     "text": [
      "100%|██████████| 2411/2411 [02:16<00:00, 17.68it/s]\n"
     ]
    },
    {
     "metadata": {
      "tags": null
     },
     "name": "stdout",
     "output_type": "stream",
     "text": [
      "Epoch: 0 Loss: 0.013 Acc: 0.708\n",
      "Epoch: 0 Val Loss: 0.463 Val Acc: 0.709\n"
     ]
    },
    {
     "metadata": {
      "tags": null
     },
     "name": "stderr",
     "output_type": "stream",
     "text": [
      "100%|██████████| 2411/2411 [02:17<00:00, 17.59it/s]\n"
     ]
    },
    {
     "metadata": {
      "tags": null
     },
     "name": "stdout",
     "output_type": "stream",
     "text": [
      "Epoch: 1 Loss: 0.013 Acc: 0.711\n",
      "Epoch: 1 Val Loss: 0.476 Val Acc: 0.702\n"
     ]
    },
    {
     "name": "stderr",
     "output_type": "stream",
     "text": [
      "100%|██████████| 2411/2411 [02:18<00:00, 17.39it/s]\n"
     ]
    },
    {
     "name": "stdout",
     "output_type": "stream",
     "text": [
      "Epoch: 2 Loss: 0.013 Acc: 0.713\n",
      "Epoch: 2 Val Loss: 0.477 Val Acc: 0.704\n"
     ]
    },
    {
     "name": "stderr",
     "output_type": "stream",
     "text": [
      "100%|██████████| 2411/2411 [02:21<00:00, 17.04it/s]\n"
     ]
    },
    {
     "name": "stdout",
     "output_type": "stream",
     "text": [
      "Epoch: 3 Loss: 0.013 Acc: 0.714\n",
      "Epoch: 3 Val Loss: 0.474 Val Acc: 0.702\n"
     ]
    },
    {
     "name": "stderr",
     "output_type": "stream",
     "text": [
      "100%|██████████| 2411/2411 [02:20<00:00, 17.11it/s]\n"
     ]
    },
    {
     "name": "stdout",
     "output_type": "stream",
     "text": [
      "Epoch: 4 Loss: 0.013 Acc: 0.713\n",
      "Epoch: 4 Val Loss: 0.479 Val Acc: 0.699\n"
     ]
    },
    {
     "name": "stderr",
     "output_type": "stream",
     "text": [
      "100%|██████████| 2411/2411 [02:21<00:00, 17.03it/s]\n"
     ]
    },
    {
     "name": "stdout",
     "output_type": "stream",
     "text": [
      "Epoch: 5 Loss: 0.013 Acc: 0.712\n",
      "Epoch: 5 Val Loss: 0.468 Val Acc: 0.709\n",
      "Stopping early at epoch 5 due to no improvement in the validation loss\n"
     ]
    },
    {
     "name": "stderr",
     "output_type": "stream",
     "text": [
      "100%|██████████| 2411/2411 [02:21<00:00, 16.99it/s]\n"
     ]
    },
    {
     "name": "stdout",
     "output_type": "stream",
     "text": [
      "Epoch: 0 Loss: 0.013 Acc: 0.712\n",
      "Epoch: 0 Val Loss: 0.464 Val Acc: 0.712\n"
     ]
    },
    {
     "name": "stderr",
     "output_type": "stream",
     "text": [
      "100%|██████████| 2411/2411 [02:22<00:00, 16.95it/s]\n"
     ]
    },
    {
     "name": "stdout",
     "output_type": "stream",
     "text": [
      "Epoch: 1 Loss: 0.013 Acc: 0.712\n",
      "Epoch: 1 Val Loss: 0.488 Val Acc: 0.696\n"
     ]
    },
    {
     "name": "stderr",
     "output_type": "stream",
     "text": [
      "100%|██████████| 2411/2411 [02:21<00:00, 17.02it/s]\n"
     ]
    },
    {
     "name": "stdout",
     "output_type": "stream",
     "text": [
      "Epoch: 2 Loss: 0.013 Acc: 0.712\n",
      "Epoch: 2 Val Loss: 0.468 Val Acc: 0.707\n"
     ]
    },
    {
     "name": "stderr",
     "output_type": "stream",
     "text": [
      "100%|██████████| 2411/2411 [02:22<00:00, 16.90it/s]\n"
     ]
    },
    {
     "name": "stdout",
     "output_type": "stream",
     "text": [
      "Epoch: 3 Loss: 0.012 Acc: 0.714\n",
      "Epoch: 3 Val Loss: 0.470 Val Acc: 0.706\n"
     ]
    },
    {
     "name": "stderr",
     "output_type": "stream",
     "text": [
      "100%|██████████| 2411/2411 [02:22<00:00, 16.87it/s]\n"
     ]
    },
    {
     "name": "stdout",
     "output_type": "stream",
     "text": [
      "Epoch: 4 Loss: 0.012 Acc: 0.714\n",
      "Epoch: 4 Val Loss: 0.481 Val Acc: 0.697\n"
     ]
    },
    {
     "name": "stderr",
     "output_type": "stream",
     "text": [
      "100%|██████████| 2411/2411 [02:21<00:00, 17.01it/s]\n"
     ]
    },
    {
     "name": "stdout",
     "output_type": "stream",
     "text": [
      "Epoch: 5 Loss: 0.012 Acc: 0.716\n",
      "Epoch: 5 Val Loss: 0.476 Val Acc: 0.703\n",
      "Stopping early at epoch 5 due to no improvement in the validation loss\n"
     ]
    }
   ],
   "source": [
    "import torch\n",
    "import torch.nn as nn\n",
    "import torchvision.transforms.functional as TF\n",
    "# Define the device\n",
    "device = torch.device(\"cuda\" if torch.cuda.is_available() else \"cpu\")\n",
    "\n",
    "# Initialize the model\n",
    "model = Net().to(device)\n",
    "\n",
    "train_transforms = transforms.Compose([\n",
    "    transforms.RandomHorizontalFlip(),\n",
    "    transforms.RandomRotation(10),\n",
    "    transforms.Normalize(mean=cinic_mean, std=cinic_std)\n",
    "])\n",
    "# train_transforms = transforms.Compose([\n",
    "#     lambda x: TF.hflip(x) if torch.rand(1) < 0.5 else x,\n",
    "#     lambda x: TF.rotate(x, angle=torch.randint(-10, 10, (1,)).item()),\n",
    "#     transforms.ToTensor(),\n",
    "#     transforms.Normalize(mean=cinic_mean, std=cinic_std)\n",
    "# ])\n",
    "\n",
    "\n",
    "# Combine training and testing data into a single dataset for cross-validation\n",
    "dataset = torch.utils.data.ConcatDataset([data_train, data_validation])\n",
    "\n",
    "# K-fold cross-validation\n",
    "cross_validate(model, dataset, train_transforms)\n",
    "# cross_validate(model, dataset)\n"
   ]
  },
  {
   "cell_type": "code",
   "execution_count": 17,
   "metadata": {
    "colab": {
     "base_uri": "https://localhost:8080/"
    },
    "id": "qwKByST4qDzn",
    "outputId": "4da755a1-647e-48d1-c0e7-5b4c5e538821"
   },
   "outputs": [
    {
     "name": "stdout",
     "output_type": "stream",
     "text": [
      "Test Loss: 0.8693 Test Accuracy: 0.6931\n"
     ]
    }
   ],
   "source": [
    "model.eval()\n",
    "\n",
    "running_loss = 0.0\n",
    "correct = 0\n",
    "total = 0\n",
    "with torch.no_grad():\n",
    "  for i, data in enumerate(test_loader):\n",
    "    criterion = nn.CrossEntropyLoss()\n",
    "    inputs, labels = data[0].to(device), data[1].to(device)\n",
    "    outputs = model(inputs)\n",
    "    loss = criterion(outputs, labels)\n",
    "    running_loss += loss.item()\n",
    "    _, predicted = torch.max(outputs.data, 1)\n",
    "    total += labels.size(0)\n",
    "    correct += (predicted == labels).sum().item()\n",
    "test_loss = running_loss / len(test_loader)\n",
    "test_accuracy = correct / total\n",
    "print(f'Test Loss: {test_loss:.4f} Test Accuracy: {test_accuracy:.4f}')\n",
    "\n"
   ]
  },
  {
   "cell_type": "code",
   "execution_count": 18,
   "metadata": {
    "colab": {
     "base_uri": "https://localhost:8080/"
    },
    "id": "I96D8ksl9fmG",
    "outputId": "5ef5dcc9-5fad-4dc2-e3a1-772e71cb53e3"
   },
   "outputs": [
    {
     "name": "stdout",
     "output_type": "stream",
     "text": [
      "k: 7\n",
      "all folds preds: [tensor([[-2.8228e+00, -1.1306e+01, -2.9781e+00,  ..., -1.8308e+01,\n",
      "         -1.8308e+01, -1.8308e+01],\n",
      "        [-9.6674e-05, -2.0415e+01, -9.3077e+00,  ..., -3.2534e+01,\n",
      "         -3.2534e+01, -3.2534e+01],\n",
      "        [-7.9417e+00, -4.3792e-02, -1.0996e+01,  ..., -1.9880e+01,\n",
      "         -1.9880e+01, -1.9880e+01],\n",
      "        ...,\n",
      "        [-1.8099e+00, -4.4859e+00, -8.7872e+00,  ..., -1.9043e+01,\n",
      "         -1.9043e+01, -1.9043e+01],\n",
      "        [-1.3217e+01, -1.6731e+01, -8.5975e+00,  ..., -2.1722e+01,\n",
      "         -2.1722e+01, -2.1722e+01],\n",
      "        [-1.5491e-03, -1.1323e+01, -6.8323e+00,  ..., -1.6303e+01,\n",
      "         -1.6303e+01, -1.6303e+01]], device='cuda:0')]\n",
      "all folds labels: [tensor([8, 0, 1,  ..., 0, 4, 0], device='cuda:0')]\n"
     ]
    }
   ],
   "source": [
    "print(f'k: {k}')\n",
    "print(f'all folds preds: {all_folds_preds}')\n",
    "print(f'all folds labels: {all_folds_labels}')"
   ]
  },
  {
   "cell_type": "code",
   "execution_count": 19,
   "metadata": {
    "colab": {
     "base_uri": "https://localhost:8080/",
     "height": 1000
    },
    "id": "JvAX_IsOc6t-",
    "outputId": "1e8154e8-be28-45d9-862e-6a8dd44812e1"
   },
   "outputs": [
    {
     "data": {
      "text/plain": [
       "<matplotlib.legend.Legend at 0x7b8f04d4f6d0>"
      ]
     },
     "execution_count": 19,
     "metadata": {},
     "output_type": "execute_result"
    },
    {
     "data": {
      "image/png": "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\n",
      "text/plain": [
       "<Figure size 800x800 with 1 Axes>"
      ]
     },
     "metadata": {},
     "output_type": "display_data"
    },
    {
     "data": {
      "image/png": "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\n",
      "text/plain": [
       "<Figure size 800x800 with 1 Axes>"
      ]
     },
     "metadata": {},
     "output_type": "display_data"
    }
   ],
   "source": [
    "epochs = list(range(1, len(validation_losses)+1))\n",
    "plt.plot(epochs, train_accuracies, 'b-', label='Training accuracy')\n",
    "plt.plot(epochs, validation_accuracies, 'r-', label='Validation accuracy')\n",
    "plt.title('Training and validation accuracy')\n",
    "plt.legend()\n",
    "plt.figure()\n",
    "plt.plot(epochs, train_losses, 'b-', label='Training loss')\n",
    "plt.plot(epochs, validation_losses, 'r-', label='Validation loss')\n",
    "plt.title('Training and validation loss')\n",
    "plt.legend()"
   ]
  },
  {
   "cell_type": "code",
   "execution_count": 20,
   "metadata": {
    "id": "1ql7nWKyjhKm"
   },
   "outputs": [],
   "source": [
    "from sklearn.metrics import roc_curve, auc\n",
    "\n",
    "def plot_roc_curve(all_preds, all_labels):\n",
    "  # Compute the ROC curve and AUROC score for each class\n",
    "  num_classes = 10\n",
    "  for i in range(num_classes):\n",
    "    # Compute the true binary labels for class i\n",
    "    binary_labels = (all_labels == i).long()\n",
    "\n",
    "    # Compute the predicted probabilities for class i\n",
    "    binary_preds = all_preds[:, i]\n",
    "\n",
    "    # Compute the ROC curve and AUROC score for class i\n",
    "    fpr, tpr, _ = roc_curve(binary_labels.cpu(), binary_preds.cpu())\n",
    "    auroc_score = auc(fpr, tpr)\n",
    "\n",
    "    # Plot the ROC curve for class i\n",
    "    plt.plot(fpr, tpr, label=f'Class {i} (AUROC = {auroc_score:.2f})')\n",
    "\n",
    "  # Plot the random guess line\n",
    "  plt.plot([0, 1], [0,1], color='navy', linestyle='--')\n",
    "\n",
    "  # Add labels and legend\n",
    "  plt.xlabel('False Positive Rate')\n",
    "  plt.ylabel('True Positive Rate')\n",
    "  plt.title('Receiver Operating Characterisitic (ROC) Curve')\n",
    "  plt.legend(loc='lower right')\n",
    "\n",
    "  # Show the plot\n",
    "  plt.show()"
   ]
  },
  {
   "cell_type": "code",
   "execution_count": 21,
   "metadata": {
    "colab": {
     "base_uri": "https://localhost:8080/",
     "height": 718
    },
    "id": "xhZiMXSlsriB",
    "outputId": "50423f6d-e452-4839-86d7-305bc991d54e"
   },
   "outputs": [
    {
     "data": {
      "image/png": "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\n",
      "text/plain": [
       "<Figure size 800x800 with 1 Axes>"
      ]
     },
     "metadata": {},
     "output_type": "display_data"
    }
   ],
   "source": [
    "k = min(k, len(all_folds_preds))\n",
    "for fold in range(k):\n",
    "  all_preds = all_folds_preds[fold]\n",
    "  all_labels = all_folds_labels[fold]\n",
    "  plot_roc_curve(all_preds, all_labels)"
   ]
  }
 ],
 "metadata": {
  "accelerator": "GPU",
  "colab": {
   "gpuType": "T4",
   "provenance": []
  },
  "kernelspec": {
   "display_name": "Python 3 (ipykernel)",
   "language": "python",
   "name": "python3"
  },
  "language_info": {
   "codemirror_mode": {
    "name": "ipython",
    "version": 3
   },
   "file_extension": ".py",
   "mimetype": "text/x-python",
   "name": "python",
   "nbconvert_exporter": "python",
   "pygments_lexer": "ipython3",
   "version": "3.9.12"
  }
 },
 "nbformat": 4,
 "nbformat_minor": 1
}
